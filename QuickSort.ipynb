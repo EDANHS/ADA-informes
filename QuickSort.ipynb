{
  "nbformat": 4,
  "nbformat_minor": 0,
  "metadata": {
    "colab": {
      "provenance": [],
      "collapsed_sections": [],
      "authorship_tag": "ABX9TyN+7d1T92KWXzKE4Ta0j5KR",
      "include_colab_link": true
    },
    "kernelspec": {
      "name": "python3",
      "display_name": "Python 3"
    },
    "language_info": {
      "name": "python"
    }
  },
  "cells": [
    {
      "cell_type": "markdown",
      "metadata": {
        "id": "view-in-github",
        "colab_type": "text"
      },
      "source": [
        "<a href=\"https://colab.research.google.com/github/EDANHS/ADA-informes/blob/main/QuickSort.ipynb\" target=\"_parent\"><img src=\"https://colab.research.google.com/assets/colab-badge.svg\" alt=\"Open In Colab\"/></a>"
      ]
    },
    {
      "cell_type": "markdown",
      "source": [
        "#QuickSort\n",
        "\n",
        "QuickSort es un algoritmo de ordenamiento rápido, sigue la idea estudiada anteriormente de dividir y vencer.\n",
        "\n",
        "El algoritmo fue creado en 1960 por Charles Antony Richard Hoare, el cual fue egresado de la Universidad de Oxford, Inglaterra, Reino Unido y de la Universidad Estatal de Moscú, también perteneció a la Marina Real Británica.\n",
        "\n",
        "Entre sus aportes más destacados, se le reconoce por inventar el QuickSort, el cual, de acuerdo con lo indicado en la Biografía de Charles en Wikipedia,  es el más rápido posible según la teoría de análisis de complejidad de algoritmos. Otros aportes realizados son: el lenguaje formal CSP y la lógica de Hoare.\n"
      ],
      "metadata": {
        "id": "KK1uxiRgKPQV"
      }
    },
    {
      "cell_type": "markdown",
      "source": [
        "![image](https://upload.wikimedia.org/wikipedia/commons/6/6a/Sorting_quicksort_anim.gif)\n",
        "\n",
        "[imagen extraida de wikipedia]"
      ],
      "metadata": {
        "id": "XbcOeiP0UEp8"
      }
    },
    {
      "cell_type": "markdown",
      "source": [
        "##Objetivos esperados\n",
        "\n",
        "* Definir y describir el problema.\n",
        "* Describir el algoritmo.\n",
        "* Implementar QuickSort recursivo.\n",
        "* Demostrar distintas propiedades.\n",
        "* Realizar distintos experimentos para analizar y comprender QuickSort"
      ],
      "metadata": {
        "id": "APG9P3QhhmfX"
      }
    },
    {
      "cell_type": "markdown",
      "source": [
        "# 1. Definición del problema.\n",
        "---\n",
        "A lo largo de estas semanas se han visto algunos algoritmos de ordenamiento para listas de $n$ elementos, entre ellos se ha visto InsertionSort o algoritmo por inserción, el cual tenía complejidad $O(n^2)$, también vimos un algoritmo de ordenamiento llamado MergeSort, este usa el paradigma **divide y vencerás**.\n",
        "\n",
        "El proceso de MergeSort siempre funciona igual, divide el problema en casos más manejables en tiempo $dlog_2n$, los ordena en tiempo constante y los combina en tiempo $cn$. Entonces nos preguntamos, si MergeSort es tan eficiente y siempre tiene una complejidad $Θ(n log n)$, ¿Por qué estudiamos QuickSort?, si este tiene una complejidad en su peor caso de $O(n^2)$, ¿No es mejor usar MergeSort para todos los problemas y ya está?.\n",
        "\n",
        "Lo cierto es que QuickSort tiene complejidad en el mejor caso y caso promedio de $O(nlogn)$, **pero en tiempo real resulta ser  más rápido que MergeSort**, y su peor caso depende de la implementación realizada para la elección del pivote.\n",
        "\n",
        "**El problema se enfoca en encontrar una forma de ordenar un arreglo de manera más rapida.**\n",
        "\n"
      ],
      "metadata": {
        "id": "bquQqo_wKobr"
      }
    },
    {
      "cell_type": "markdown",
      "source": [
        "## Descripción del problema.\n",
        "---\n",
        "Al trabajar con información, se debe realizar muchas veces procedimientos para facilitar el manejo de esta, uno de estos es el ordenamiento, entre más rápido se pueda realizar es mejor. El algoritmo QuickSort, mediante un arreglo de **n** elementos y que contiene datos los cuales se puedan ordenar, entrega la misma estructura permutada en orden ascendente.\n",
        "\n",
        "Para un arreglo de $n$ elementos, el algoritmo recibe y devuelve lo siguiente:\n",
        "\n",
        "**Entrada**: Secuencia de n números $[a_1,a_2,...,a_n]$\n",
        "\n",
        "**Salida**: Permutación ordenada de la secuencia inicial, puesto que se forma una serie $[a_1',a_2',...,a_n']$, de tal forma que [$a_1'\\leq a_2' \\leq... \\leq a_n'$]."
      ],
      "metadata": {
        "id": "ShHjEPCLiaGN"
      }
    },
    {
      "cell_type": "markdown",
      "source": [
        "# 2. Descripción del algoritmo.\n",
        "\n",
        "---\n",
        "El algoritmo tiene como entrada un arreglo $A$ con una serie de $n$ elementos, los cuales se buscan ordenar de forma ascendente.\n",
        "\n",
        "Al realizar llamadas recursivas para dividir el problema inicial en sub-problemas, el algoritmo realiza el mismo procedimiento para cada partición del arreglo con la que se está trabajando, los pasos son los siguientes:\n",
        "\n",
        "* De una entrada que va desde p (inicio del arreglo), hasta q (final del arreglo), se define un pivote, el cual para este caso será $A[r]$ y dos índices que servirán para la iteración (j = 0 y i = p - 1).\n",
        "\n",
        "* En cada iteración se irá comparando el j-ésimo elemento del arreglo con el pivot, (desde p hasta r - 1), si el elemento $A[j]$ resulta ser menor o igual que nuestro pivot se añade una unidad al índice **i** y se intercambia los datos que están en la posición **j** e **i**.\n",
        "\n",
        "* Una vez finalizado este recorrido, se intercambia el elemento siguiente al i-ésimo elemento del arreglo con el pivot.\n",
        "\n"
      ],
      "metadata": {
        "id": "jJmWL3PWm3Ws"
      }
    },
    {
      "cell_type": "markdown",
      "source": [
        "![Ejemplo1.png](data:image/png;base64,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)"
      ],
      "metadata": {
        "id": "zvTDmpcOzpXN"
      }
    },
    {
      "cell_type": "markdown",
      "source": [
        "[Imagen original] - Ilustración de lo ocurrido durante la iteración de n elementos en un arreglo."
      ],
      "metadata": {
        "id": "vJMV0xkJ0vsM"
      }
    },
    {
      "cell_type": "markdown",
      "source": [
        "En los pasos descritos anteriormente, a medida que se vaya iterando se estará cumpliendo la propiedad ilustrada, en $A[p...i]$ se ubican los elementos menores al pivot, en $A[i+1...j]$ están los mayores al pivote. Una vez finalizado, tendremos tres zonas en el arreglo, datos menores, datos mayores, y el pivote.\n",
        "\n",
        "**[Cabe resaltar que se pueden elegir pivotes de diferentes formas, para este caso se escogió el último elemento como pivote]**"
      ],
      "metadata": {
        "id": "fk3gHA-Ax5b_"
      }
    },
    {
      "cell_type": "markdown",
      "source": [
        "##Divide y conquistarás en QuickSort\n",
        "\n",
        "El algoritmo QuickSort aplica la estrategia, divide y conquistarás para ordenar un arreglo, el cual aplica de la siguiente manera:\n",
        "\n",
        "* **Divide** el arreglo en dos partes dentro de la función \"partition\". En un arreglo A[p...r], genera un arreglo A[p...q-1] donde están los elementos menores a $A[q]$, y A[q+1...r], por contraparte, en esta sección se ubican los mayores a $A[q]$.\n",
        "\n",
        "* **Conquista** ordenando A[p...q-1] y A[q+1...r] mediante repetidas llamadas recursivas.\n",
        "\n",
        "* **Combina:** en el fondo no es necesario combinar problemas, puesto que estos están ordenados por los dos puntos anteriores."
      ],
      "metadata": {
        "id": "xRad-ak9-aVC"
      }
    },
    {
      "cell_type": "markdown",
      "source": [
        "# Ejemplo paso a paso de lo descrito en el punto anterior.\n",
        "\n",
        "* Consideremos el siguiente arreglo, el pivote parte en el último elemento, en este caso es 6, los índices iterativos [ j ] y de intercambio [ i ] inicializan en 0 y -1 respectivamente.\n",
        "\n",
        "* En la primera iteración, comparamos el primer elemento con el pivote, como no es menor o igual no sucede nada\n",
        "\n",
        "      A = [ 7 , 2 , 10, 9 , 4 , 2 , 3 , 6 ]\n",
        "\n",
        "* Para la segunda iteración se compara el dos con el pivote nuevamente, como este si es menor, se aumenta el valor del [ i ], como ahora el elemento i-ésimo equivale a 7, intercambiamos 7 y 2.\n",
        "\n",
        "      A = [ 2 , 7 , 10, 9 , 4 , 2 , 3 , 6 ]\n",
        "\n",
        "* Seguimos iterando hasta encontrar un elemento menor. En la posición j = 4 se encuentra un elemento menor o igual que el pivote, por tanto, procedemos a aumentar en 1 el [ i ], luego intercambiamos A[ i ] y A[ j ].\n",
        "\n",
        "      A = [ 2 , 7 , 10 , 9 , 4 , 2 , 3 , 6 ] * Antes del intercambio\n",
        "\n",
        "      A = [ 2 , 4 , 10 , 9 , 7 , 2 , 3 , 6 ] * Después del intercambio\n",
        "\n",
        "* En la sexta iteración vuelve a haber un elemento menor, en consecuencia, volvemos a intercambiar y aumentamos en 1 el [ i ].\n",
        "\n",
        "      A = [ 2 , 4 , 2, 9 , 7 , 10 , 3 , 6 ]\n",
        "* En la séptima y última iteración ya ocurre lo mismo como en la anterior, cambiamos los elementos y volvemos a aumentar en 1 el [ i ].\n",
        "\n",
        "      A = [ 2 , 4 , 2 , 3 , 7 , 10 , 9 , 6 ]\n",
        "\n",
        "* Finalizamos el recorrido, por lo tanto, se intercambia el pivote [6] con el i-ésimo elemento [ 7 ] y este es el resultado.\n",
        "\n",
        "      A = [ 2 , 4 , 2 , 3 , 6 , 10 , 9 , 7 ]"
      ],
      "metadata": {
        "id": "P2aRL5sF1WJp"
      }
    },
    {
      "cell_type": "markdown",
      "source": [
        "# 3. Código QuickSort - version 1\n",
        "\n",
        "### 3.1 El siguiente código muestra la implementación de $QuickSort$ recursivo.\n"
      ],
      "metadata": {
        "id": "LksdpAxu9u3O"
      }
    },
    {
      "cell_type": "code",
      "source": [
        "from termcolor import colored"
      ],
      "metadata": {
        "id": "3R_B2xM8Hqrl"
      },
      "execution_count": 7,
      "outputs": []
    },
    {
      "cell_type": "code",
      "source": [
        "def QuickSort_high(A,p,r,comp, Verbose = False):\n",
        "  if p < r:\n",
        "    if Verbose == True:\n",
        "      print(\"========================\")\n",
        "      print(\"Arreglo actual...\")\n",
        "      print(colored(A,\"magenta\"))\n",
        "      print(\"========================\")\n",
        "    #obtengo la particion\n",
        "    q,comp = partition_high(A,p,r,comp,Verbose)\n",
        "\n",
        "    if Verbose == True:\n",
        "      print(\"Particiones en funcion QuickSort...\")\n",
        "      print(colored(A[:q],\"green\"),colored(A[q:q+1],\"blue\"),colored(A[q+1:],\"red\"))\n",
        "    #divido el arreglo en 2 parte que se llamaran recursivamente\n",
        "    comp = QuickSort_high(A,p,q-1,comp,Verbose)\n",
        "    comp = QuickSort_high(A,q+1,r,comp,Verbose)\n",
        "\n",
        "  return comp"
      ],
      "metadata": {
        "id": "zSHa-plF-B4z"
      },
      "execution_count": 8,
      "outputs": []
    },
    {
      "cell_type": "markdown",
      "source": [
        "A continuación, se implementará la función $Partition$ que escoge como pivote el último elemento del arreglo."
      ],
      "metadata": {
        "id": "4kEeuRSJ--b-"
      }
    },
    {
      "cell_type": "code",
      "source": [
        "def partition_high(A,p,r,comp,Verbose = False):\n",
        "  ## Defino el pivot y el índice de comparación i\n",
        "  pivot = A[r]\n",
        "  i = p - 1\n",
        "  if Verbose == True:\n",
        "    print(\"\")\n",
        "    print(\"------------------------\")\n",
        "    print(\"En funcion partition...\")\n",
        "  #Entro en el ciclo de intercambios\n",
        "  for j in range(p,r):\n",
        "    if Verbose == True:\n",
        "      print(colored(A[p:j],\"green\"),colored(A[j:j+1],\"blue\"),colored(A[j+1:r],\"green\"),colored(A[r:r+1],\"red\"))\n",
        "      \n",
        "    if A[j] <= pivot:\n",
        "      comp+=1\n",
        "      if Verbose == True:\n",
        "        print(\"Intercambio...\")\n",
        "      i = i + 1\n",
        "      (A[j],A[i]) = (A[i],A[j])\n",
        "\n",
        "      \n",
        "\n",
        "  #Intercambio final\n",
        "  (A[i+1], A[r]) = (A[r],A[i+1])\n",
        "  if Verbose == True:\n",
        "        print(\"Intercambio final entre: \",colored(A[i+1:i+2],\"white\"),colored(A[r:r+1],\"cyan\"))\n",
        "        print(\"------------------------\")\n",
        "        print(\"\")\n",
        "  comp+=1\n",
        "  return i+1,comp\n"
      ],
      "metadata": {
        "id": "H9sV47Au-4yG"
      },
      "execution_count": 9,
      "outputs": []
    },
    {
      "cell_type": "markdown",
      "source": [
        "Se probará si la implementación es correcta ordenando un arreglo aleatorio."
      ],
      "metadata": {
        "id": "7JwrH46EAPxh"
      }
    },
    {
      "cell_type": "code",
      "source": [
        "import random"
      ],
      "metadata": {
        "id": "5zpdfgwIAOUk"
      },
      "execution_count": 10,
      "outputs": []
    },
    {
      "cell_type": "code",
      "source": [
        "array1 = random.sample(range(1, 25), 6)\n",
        "print(\"Arreglo original: \",array1)\n",
        "comp1 = 0\n",
        "comp1 = QuickSort_high(array1,0,len(array1)-1,comp1,Verbose = False)\n",
        "print(\"Arreglo ordenado: \", array1)\n",
        "print(\"Comparaciones: \",comp1)"
      ],
      "metadata": {
        "colab": {
          "base_uri": "https://localhost:8080/"
        },
        "id": "KpmZBM-LcWHo",
        "outputId": "e7c6577b-673d-495a-cf25-a45d5d8f60ff"
      },
      "execution_count": 11,
      "outputs": [
        {
          "output_type": "stream",
          "name": "stdout",
          "text": [
            "Arreglo original:  [11, 21, 6, 19, 20, 24]\n",
            "Arreglo ordenado:  [6, 11, 19, 20, 21, 24]\n",
            "Comparaciones:  14\n"
          ]
        }
      ]
    },
    {
      "cell_type": "markdown",
      "source": [
        "### Código QuickSort - version 2\n",
        "\n",
        "En este algoritmo se escoge el primer elemento del arreglo, luego se ira recorriendo desde el final del arreglo de tamaño (r) hasta el segundo dato del arreglo, funciona como la primera implementación solo que en orden invertido.\n",
        "\n"
      ],
      "metadata": {
        "id": "WgPqLbISgQsG"
      }
    },
    {
      "cell_type": "code",
      "source": [
        "def QuickSort_low(A,p,r,comp, Verbose = False):\n",
        "  if p < r:\n",
        "    if Verbose == True:\n",
        "      print(\"========================\")\n",
        "      print(\"Arreglo actual...\")\n",
        "      print(colored(A,\"magenta\"))\n",
        "      print(\"========================\")\n",
        "    #obtengo la particion\n",
        "    q,comp = partition_low(A,p,r,comp,Verbose)\n",
        "\n",
        "    if Verbose == True:\n",
        "      print(\"Particiones en funcion QuickSort...\")\n",
        "      print(colored(A[:q],\"green\"),colored(A[q:q+1],\"blue\"),colored(A[q+1:],\"red\"))\n",
        "    #divido el arreglo en 2 parte que se llamaran recursivamente\n",
        "    comp = QuickSort_low(A,p,q-1,comp,Verbose)\n",
        "    comp = QuickSort_low(A,q+1,r,comp,Verbose)\n",
        "    \n",
        "\n",
        "  return comp"
      ],
      "metadata": {
        "id": "GhvZIhWVgcG1"
      },
      "execution_count": 12,
      "outputs": []
    },
    {
      "cell_type": "markdown",
      "source": [
        "A continuación, se implementará la función $Partition$ que escoge como pivote el primer elemento del arreglo."
      ],
      "metadata": {
        "id": "ZPprZvV7LDqw"
      }
    },
    {
      "cell_type": "code",
      "source": [
        "def partition_low(A,p,r,comp,Verbose):\n",
        "  ## Defino el pivot y el índice de comparación i\n",
        "  pivot = A[p]\n",
        "  i = r+1\n",
        "\n",
        "  if Verbose == True:\n",
        "    print(\"\")\n",
        "    print(\"------------------------\")\n",
        "    print(\"En funcion partition...\")\n",
        "\n",
        "  #Entro en el ciclo de intercambios\n",
        "  for j in range(r,p,-1):\n",
        "    if Verbose == True:\n",
        "      print(colored(A[p:p+1],\"red\"),colored(A[p+1:j],\"green\"),colored(A[j:j+1],\"blue\"),colored(A[j+1:r],\"green\"))\n",
        "\n",
        "    if A[j] >= pivot:\n",
        "      if Verbose == True:\n",
        "        print(\"Intercambio...\")\n",
        "      comp+=1\n",
        "      i = i - 1\n",
        "      (A[j],A[i]) = (A[i],A[j])\n",
        "\n",
        "  #Intercambio final\n",
        "  (A[i-1], A[p]) = (A[p],A[i-1])\n",
        "  if Verbose == True:\n",
        "        print(\"Intercambio final entre: \",colored(A[i-1:i-2],\"white\"),colored(A[p:p+1],\"cyan\"))\n",
        "        print(\"------------------------\")\n",
        "        print(\"\")\n",
        "  comp+=1\n",
        "\n",
        "  return i-1,comp"
      ],
      "metadata": {
        "id": "5FC9Rp9Jgq6n"
      },
      "execution_count": 13,
      "outputs": []
    },
    {
      "cell_type": "code",
      "source": [
        "array2 = random.sample(range(1, 25), 6)\n",
        "print(\"Arreglo original: \",array2)\n",
        "comp2 = 0\n",
        "comp2 = QuickSort_low(array2,0,len(array2)-1,comp2,Verbose = False)\n",
        "print(\"Arreglo ordenado: \", array2)\n",
        "print(\"Comparaciones: \",comp2)"
      ],
      "metadata": {
        "colab": {
          "base_uri": "https://localhost:8080/"
        },
        "id": "3UtX9ikJhGFJ",
        "outputId": "baa6c338-5e01-4c1a-d323-c81442e1ee0b"
      },
      "execution_count": 14,
      "outputs": [
        {
          "output_type": "stream",
          "name": "stdout",
          "text": [
            "Arreglo original:  [18, 5, 22, 8, 19, 24]\n",
            "Arreglo ordenado:  [5, 8, 18, 19, 22, 24]\n",
            "Comparaciones:  7\n"
          ]
        }
      ]
    },
    {
      "cell_type": "markdown",
      "source": [
        "### Código QuickSort - version 3\n",
        "\n",
        "En este algoritmo se escogen tres números aleatorios del arreglo para obtener la mediana y hacer de pivote, la mediana se intercambia con el último elemento del arreglo y este nuevo dato final funciona como pivote, tal como en la primera implementación."
      ],
      "metadata": {
        "id": "xkjHLsOykUS4"
      }
    },
    {
      "cell_type": "code",
      "source": [
        "def QuickSort_med(A,p,r,comp, Verbose = False):\n",
        "  if p < r:\n",
        "    if Verbose == True:\n",
        "      print(\"========================\")\n",
        "      print(\"Arreglo actual...\")\n",
        "      print(colored(A,\"magenta\"))\n",
        "      print(\"========================\")\n",
        "\n",
        "    #obtengo la particion\n",
        "    q,comp = partition_med(A,p,r,comp,Verbose)\n",
        "\n",
        "    if Verbose == True:\n",
        "      print(\"Particiones en funcion QuickSort...\")\n",
        "      print(colored(A[:q],\"green\"),colored(A[q:q+1],\"blue\"),colored(A[q+1:],\"red\"))\n",
        "    #divido el arreglo en 2 parte que se llamaran recursivamente\n",
        "    comp = QuickSort_med(A,p,q-1,comp,Verbose)\n",
        "    comp = QuickSort_med(A,q+1,r,comp,Verbose)\n",
        "\n",
        "  return comp"
      ],
      "metadata": {
        "id": "VCH1_cGUkd8j"
      },
      "execution_count": 15,
      "outputs": []
    },
    {
      "cell_type": "code",
      "source": [
        "#obtener la mediana de tres elementos en un arreglo\n",
        "def mediana(primero,segundo,tercero, array):\n",
        "    if array[primero] >= array[segundo] and array[primero] <= array[tercero]:\n",
        "            return primero\n",
        "    elif array[segundo] >= array[primero] and array[segundo] <= array[tercero]:\n",
        "            return segundo\n",
        "\n",
        "    return tercero\n"
      ],
      "metadata": {
        "id": "sUHqG9YbQIHx"
      },
      "execution_count": 16,
      "outputs": []
    },
    {
      "cell_type": "markdown",
      "source": [
        "A continuación, se implementará la función $Partition$ que escoge como pivote la mediana entre tres elementos del arreglo."
      ],
      "metadata": {
        "id": "FV2JoZJdLIsS"
      }
    },
    {
      "cell_type": "code",
      "source": [
        "def partition_med(A,p,r,comp,Verbose):\n",
        "  ## Defino el pivot y el índice de comparación i\n",
        "  i1 = random.randrange(p, r)\n",
        "  i2 = random.randrange(p, r)\n",
        "  i3 = random.randrange(p, r)\n",
        "  \n",
        "  \n",
        "  idx = mediana(i1,i2,i3,A)\n",
        "  if Verbose == True:\n",
        "    print(\"\")\n",
        "    print(\"------------------------\")\n",
        "    print(\"En funcion partition...\")\n",
        "    print(\"La mediana entre:\",colored(A[i1:i1+1],\"red\"),colored(A[i2:i2+1],\"blue\"),colored(A[i3:i3+1],\"cyan\"),\"...es...\",A[idx])\n",
        "    print(\"Intercambiando:\",colored(A[idx:idx+1],\"red\"),colored(A[r:r+1],\"magenta\"))\n",
        "  (A[idx],A[r]) = (A[r],A[idx])\n",
        "  pivot = A[r]\n",
        "\n",
        "  i = p - 1\n",
        "\n",
        "  #Entro en el ciclo de intercambios\n",
        "  for j in range(p,r):\n",
        "    if Verbose == True:\n",
        "      print(colored(A[p:j],\"green\"),colored(A[j:j+1],\"blue\"),colored(A[j+1:r],\"green\"),colored(A[r:r+1],\"red\"))\n",
        "      \n",
        "    if A[j] <= pivot:\n",
        "      comp+=1\n",
        "      if Verbose == True:\n",
        "        print(\"Intercambio...\")\n",
        "      i = i + 1\n",
        "      (A[j],A[i]) = (A[i],A[j])\n",
        "\n",
        "  (A[i+1], A[r]) = (A[r],A[i+1])\n",
        "  if Verbose == True:\n",
        "        print(\"Intercambio final entre: \",colored(A[i+1:i+2],\"white\"),colored(A[r:r+1],\"cyan\"))\n",
        "        print(\"------------------------\")\n",
        "        print(\"\")\n",
        "  comp+=1\n",
        "  return i+1,comp"
      ],
      "metadata": {
        "id": "T2yFo50Pkouy"
      },
      "execution_count": 17,
      "outputs": []
    },
    {
      "cell_type": "code",
      "source": [
        "array3 = random.sample(range(1, 25), 6)\n",
        "print(\"Arreglo original: \",array3)\n",
        "comp3 = 0\n",
        "comp3 = QuickSort_med(array3,0,len(array3)-1,comp3,Verbose = False)\n",
        "print(\"Arreglo ordenado: \", array3)\n",
        "print(\"Comparaciones: \",comp3)"
      ],
      "metadata": {
        "colab": {
          "base_uri": "https://localhost:8080/"
        },
        "id": "f2QmFtvOmK77",
        "outputId": "ed330b05-af03-472a-e700-2ce261ae82fb"
      },
      "execution_count": 18,
      "outputs": [
        {
          "output_type": "stream",
          "name": "stdout",
          "text": [
            "Arreglo original:  [11, 22, 23, 7, 4, 9]\n",
            "Arreglo ordenado:  [4, 7, 9, 11, 22, 23]\n",
            "Comparaciones:  5\n"
          ]
        }
      ]
    },
    {
      "cell_type": "markdown",
      "source": [
        "# Ejecución paso a paso con Verbose = True\n",
        "\n",
        "Inicializando la variable \"Verbose\" con valor \"True\" se puede mostrar el paso a paso de las funciones QuickSort, estas muestran el arreglo original antes de usar \"partition\", luego se ve el arreglo destacado en el dato donde se dividen en dos problemas, cuando entra a \"partition\", se puede ver el paso a paso de la iteración realizada, también se muestra un mensaje cuando hay intercambios."
      ],
      "metadata": {
        "id": "qIOOzndrT8q_"
      }
    },
    {
      "cell_type": "markdown",
      "source": [
        "## 1.QuickSort version 1 - cuando se escoge el último elemento del arreglo"
      ],
      "metadata": {
        "id": "KxNc1YMKVePG"
      }
    },
    {
      "cell_type": "code",
      "source": [
        "a = random.sample(range(1, 100), 5)\n",
        "print(\"Input: \",a)\n",
        "QuickSort_high(a,0,len(a)-1,0,Verbose=True)\n",
        "print(\"Output: \",a)"
      ],
      "metadata": {
        "colab": {
          "base_uri": "https://localhost:8080/"
        },
        "id": "Xr3rwBS2VqJc",
        "outputId": "4769bf6f-2541-46bd-f226-5fa83061a0bf"
      },
      "execution_count": 19,
      "outputs": [
        {
          "output_type": "stream",
          "name": "stdout",
          "text": [
            "Input:  [55, 81, 3, 37, 70]\n",
            "========================\n",
            "Arreglo actual...\n",
            "\u001b[35m[55, 81, 3, 37, 70]\u001b[0m\n",
            "========================\n",
            "\n",
            "------------------------\n",
            "En funcion partition...\n",
            "\u001b[32m[]\u001b[0m \u001b[34m[55]\u001b[0m \u001b[32m[81, 3, 37]\u001b[0m \u001b[31m[70]\u001b[0m\n",
            "Intercambio...\n",
            "\u001b[32m[55]\u001b[0m \u001b[34m[81]\u001b[0m \u001b[32m[3, 37]\u001b[0m \u001b[31m[70]\u001b[0m\n",
            "\u001b[32m[55, 81]\u001b[0m \u001b[34m[3]\u001b[0m \u001b[32m[37]\u001b[0m \u001b[31m[70]\u001b[0m\n",
            "Intercambio...\n",
            "\u001b[32m[55, 3, 81]\u001b[0m \u001b[34m[37]\u001b[0m \u001b[32m[]\u001b[0m \u001b[31m[70]\u001b[0m\n",
            "Intercambio...\n",
            "Intercambio final entre:  \u001b[37m[70]\u001b[0m \u001b[36m[81]\u001b[0m\n",
            "------------------------\n",
            "\n",
            "Particiones en funcion QuickSort...\n",
            "\u001b[32m[55, 3, 37]\u001b[0m \u001b[34m[70]\u001b[0m \u001b[31m[81]\u001b[0m\n",
            "========================\n",
            "Arreglo actual...\n",
            "\u001b[35m[55, 3, 37, 70, 81]\u001b[0m\n",
            "========================\n",
            "\n",
            "------------------------\n",
            "En funcion partition...\n",
            "\u001b[32m[]\u001b[0m \u001b[34m[55]\u001b[0m \u001b[32m[3]\u001b[0m \u001b[31m[37]\u001b[0m\n",
            "\u001b[32m[55]\u001b[0m \u001b[34m[3]\u001b[0m \u001b[32m[]\u001b[0m \u001b[31m[37]\u001b[0m\n",
            "Intercambio...\n",
            "Intercambio final entre:  \u001b[37m[37]\u001b[0m \u001b[36m[55]\u001b[0m\n",
            "------------------------\n",
            "\n",
            "Particiones en funcion QuickSort...\n",
            "\u001b[32m[3]\u001b[0m \u001b[34m[37]\u001b[0m \u001b[31m[55, 70, 81]\u001b[0m\n",
            "Output:  [3, 37, 55, 70, 81]\n"
          ]
        }
      ]
    },
    {
      "cell_type": "markdown",
      "source": [
        "En cada entrada a QuickSort se traspasa el arreglo con su variable inicial y final, primero se comprueba si el inicio es menor que el final, esto para ver si debemos hacer los procedimientos posteriores. Primero se  muestra el arreglo original en \"magenta\", luego se llama a la función \"partition\", esta itera de acuerdo al problema entregado, desde A[p...r], el elemento que está siendo iterado se muestra como azul, el pivote como rojo y el resto del arreglo como verde, a medida que se recorre el arreglo se va comprobando si el j-ésimo elemento es menor o igual que el pivote, si lo es, se intercambia con el i-ésimo elemento, tanto j como i parten de un inicio del arreglo, si llegan a intercambiarse se muestra el siguiente mensaje: \"Intercambio...\", al finalizar el proceso, se intercambian el pivote y el i-ésimo elemento del arreglo.\n",
        "\n",
        "Al salir de \"partition\", se llama a QuickSort de nuevo para un arreglo A[p...i] y A[i...r], donde i es el elemento retornado por \"partition\"."
      ],
      "metadata": {
        "id": "PBUgxj23XGb_"
      }
    },
    {
      "cell_type": "markdown",
      "source": [
        "## 2.QuickSort version 2 - cuando se escoge el primer elemento del arreglo"
      ],
      "metadata": {
        "id": "i2m_hi1DWVEH"
      }
    },
    {
      "cell_type": "code",
      "source": [
        "b = random.sample(range(1, 100), 5)\n",
        "print(\"Input: \",b)\n",
        "QuickSort_low(b,0,len(b)-1,0,Verbose=True)\n",
        "print(\"Output: \",b)"
      ],
      "metadata": {
        "colab": {
          "base_uri": "https://localhost:8080/"
        },
        "id": "-T6EfyOoWYL3",
        "outputId": "98e78040-babc-47ac-870b-0d05fbc9e70f"
      },
      "execution_count": 20,
      "outputs": [
        {
          "output_type": "stream",
          "name": "stdout",
          "text": [
            "Input:  [45, 21, 77, 61, 81]\n",
            "========================\n",
            "Arreglo actual...\n",
            "\u001b[35m[45, 21, 77, 61, 81]\u001b[0m\n",
            "========================\n",
            "\n",
            "------------------------\n",
            "En funcion partition...\n",
            "\u001b[31m[45]\u001b[0m \u001b[32m[21, 77, 61]\u001b[0m \u001b[34m[81]\u001b[0m \u001b[32m[]\u001b[0m\n",
            "Intercambio...\n",
            "\u001b[31m[45]\u001b[0m \u001b[32m[21, 77]\u001b[0m \u001b[34m[61]\u001b[0m \u001b[32m[]\u001b[0m\n",
            "Intercambio...\n",
            "\u001b[31m[45]\u001b[0m \u001b[32m[21]\u001b[0m \u001b[34m[77]\u001b[0m \u001b[32m[61]\u001b[0m\n",
            "Intercambio...\n",
            "\u001b[31m[45]\u001b[0m \u001b[32m[]\u001b[0m \u001b[34m[21]\u001b[0m \u001b[32m[77, 61]\u001b[0m\n",
            "Intercambio final entre:  \u001b[37m[]\u001b[0m \u001b[36m[21]\u001b[0m\n",
            "------------------------\n",
            "\n",
            "Particiones en funcion QuickSort...\n",
            "\u001b[32m[21]\u001b[0m \u001b[34m[45]\u001b[0m \u001b[31m[77, 61, 81]\u001b[0m\n",
            "========================\n",
            "Arreglo actual...\n",
            "\u001b[35m[21, 45, 77, 61, 81]\u001b[0m\n",
            "========================\n",
            "\n",
            "------------------------\n",
            "En funcion partition...\n",
            "\u001b[31m[77]\u001b[0m \u001b[32m[61]\u001b[0m \u001b[34m[81]\u001b[0m \u001b[32m[]\u001b[0m\n",
            "Intercambio...\n",
            "\u001b[31m[77]\u001b[0m \u001b[32m[]\u001b[0m \u001b[34m[61]\u001b[0m \u001b[32m[]\u001b[0m\n",
            "Intercambio final entre:  \u001b[37m[]\u001b[0m \u001b[36m[61]\u001b[0m\n",
            "------------------------\n",
            "\n",
            "Particiones en funcion QuickSort...\n",
            "\u001b[32m[21, 45, 61]\u001b[0m \u001b[34m[77]\u001b[0m \u001b[31m[81]\u001b[0m\n",
            "Output:  [21, 45, 61, 77, 81]\n"
          ]
        }
      ]
    },
    {
      "cell_type": "markdown",
      "source": [
        "Teniendo en cuenta la primera versión de QuickSort, la cual se explicó anteriormente, se aplica la misma lógica para este problema, con excepción de que se recorre como A[r...p], donde r es el final del arreglo y p el inicio, y el pivote esta vez está al inicio del arreglo, y se compara si el pivote es mayor o igual que el j-ésimo elemento.\n",
        "\n",
        "El resto de lo entregado funciona igual, ya sean colores, lugares en donde está el arreglo en la función, etc."
      ],
      "metadata": {
        "id": "gsmLWd1qZv5p"
      }
    },
    {
      "cell_type": "markdown",
      "source": [
        "## 3.QuickSort version 3 - cuando se escoge la mediana de tres elementos aleatorios del arreglo de entrada en \"partition\""
      ],
      "metadata": {
        "id": "ndkS7dN6WprR"
      }
    },
    {
      "cell_type": "code",
      "source": [
        "c = random.sample(range(1, 100), 5)\n",
        "print(\"Input: \",c)\n",
        "QuickSort_med(c,0,len(c)-1,0,Verbose=True)\n",
        "print(\"Output: \",c)"
      ],
      "metadata": {
        "colab": {
          "base_uri": "https://localhost:8080/"
        },
        "id": "VPB0RwCYWjBE",
        "outputId": "5d08e4f8-8de1-43ed-d21f-c76c9d6a8650"
      },
      "execution_count": 21,
      "outputs": [
        {
          "output_type": "stream",
          "name": "stdout",
          "text": [
            "Input:  [71, 62, 13, 5, 45]\n",
            "========================\n",
            "Arreglo actual...\n",
            "\u001b[35m[71, 62, 13, 5, 45]\u001b[0m\n",
            "========================\n",
            "\n",
            "------------------------\n",
            "En funcion partition...\n",
            "La mediana entre: \u001b[31m[5]\u001b[0m \u001b[34m[13]\u001b[0m \u001b[36m[62]\u001b[0m ...es... 13\n",
            "Intercambiando: \u001b[31m[13]\u001b[0m \u001b[35m[45]\u001b[0m\n",
            "\u001b[32m[]\u001b[0m \u001b[34m[71]\u001b[0m \u001b[32m[62, 45, 5]\u001b[0m \u001b[31m[13]\u001b[0m\n",
            "\u001b[32m[71]\u001b[0m \u001b[34m[62]\u001b[0m \u001b[32m[45, 5]\u001b[0m \u001b[31m[13]\u001b[0m\n",
            "\u001b[32m[71, 62]\u001b[0m \u001b[34m[45]\u001b[0m \u001b[32m[5]\u001b[0m \u001b[31m[13]\u001b[0m\n",
            "\u001b[32m[71, 62, 45]\u001b[0m \u001b[34m[5]\u001b[0m \u001b[32m[]\u001b[0m \u001b[31m[13]\u001b[0m\n",
            "Intercambio...\n",
            "Intercambio final entre:  \u001b[37m[13]\u001b[0m \u001b[36m[62]\u001b[0m\n",
            "------------------------\n",
            "\n",
            "Particiones en funcion QuickSort...\n",
            "\u001b[32m[5]\u001b[0m \u001b[34m[13]\u001b[0m \u001b[31m[45, 71, 62]\u001b[0m\n",
            "========================\n",
            "Arreglo actual...\n",
            "\u001b[35m[5, 13, 45, 71, 62]\u001b[0m\n",
            "========================\n",
            "\n",
            "------------------------\n",
            "En funcion partition...\n",
            "La mediana entre: \u001b[31m[71]\u001b[0m \u001b[34m[71]\u001b[0m \u001b[36m[71]\u001b[0m ...es... 71\n",
            "Intercambiando: \u001b[31m[71]\u001b[0m \u001b[35m[62]\u001b[0m\n",
            "\u001b[32m[]\u001b[0m \u001b[34m[45]\u001b[0m \u001b[32m[62]\u001b[0m \u001b[31m[71]\u001b[0m\n",
            "Intercambio...\n",
            "\u001b[32m[45]\u001b[0m \u001b[34m[62]\u001b[0m \u001b[32m[]\u001b[0m \u001b[31m[71]\u001b[0m\n",
            "Intercambio...\n",
            "Intercambio final entre:  \u001b[37m[71]\u001b[0m \u001b[36m[71]\u001b[0m\n",
            "------------------------\n",
            "\n",
            "Particiones en funcion QuickSort...\n",
            "\u001b[32m[5, 13, 45, 62]\u001b[0m \u001b[34m[71]\u001b[0m \u001b[31m[]\u001b[0m\n",
            "========================\n",
            "Arreglo actual...\n",
            "\u001b[35m[5, 13, 45, 62, 71]\u001b[0m\n",
            "========================\n",
            "\n",
            "------------------------\n",
            "En funcion partition...\n",
            "La mediana entre: \u001b[31m[45]\u001b[0m \u001b[34m[45]\u001b[0m \u001b[36m[45]\u001b[0m ...es... 45\n",
            "Intercambiando: \u001b[31m[45]\u001b[0m \u001b[35m[62]\u001b[0m\n",
            "\u001b[32m[]\u001b[0m \u001b[34m[62]\u001b[0m \u001b[32m[]\u001b[0m \u001b[31m[45]\u001b[0m\n",
            "Intercambio final entre:  \u001b[37m[45]\u001b[0m \u001b[36m[62]\u001b[0m\n",
            "------------------------\n",
            "\n",
            "Particiones en funcion QuickSort...\n",
            "\u001b[32m[5, 13]\u001b[0m \u001b[34m[45]\u001b[0m \u001b[31m[62, 71]\u001b[0m\n",
            "Output:  [5, 13, 45, 62, 71]\n"
          ]
        }
      ]
    },
    {
      "cell_type": "markdown",
      "source": [
        "Para esta última versión funciona exactamente como la primera cuando se va iterando, con excepción de que el pivote se escoge mediante la mediana de tres elementos aleatorios dentro del arreglo A[p...r] que se traspasa a \"partition\".\n",
        "\n",
        "Cabe destacar que se muestra la mediana de los elementos antes de iterar en \"partition\""
      ],
      "metadata": {
        "id": "SPFc_asbbiA6"
      }
    },
    {
      "cell_type": "markdown",
      "source": [
        "# 4. Prueba de correctitud\n",
        "\n",
        "###4.1 Función Partition\n",
        "\n",
        "### Teorema (correctitud de Partition).\n",
        "\n",
        "*Para un arreglo A[p...r] de n elementos, donde p es el tramo inicial del arreglo y r el final de este.* *El algoritmo Partition retorna un recibe un arreglo A[p..r], lo reorganiza y retorna un índice q de tal forma que los elementos del arreglo A[p..q-1] son menores o iguales a A[q] y los elementos del arreglo A[q+1..r] son mayores a A[q].*\n",
        "\n",
        "### Lema (**propiedad invariante de bucle)**\n",
        "\n",
        "Al comienzo de cada iteración, en un arreglo A[p...r], se cumple que para cualquier índice k:\n",
        "\n",
        "* **1. Si p≤k≤i, entonces A[k]≤A[r].** \n",
        " *Si un elemento en la posición k, es menor o igual al i-ésimo elemento que se encuentra en el arreglo y mayor o igual al primer elemento, entonces A[k] será menor o igual al pivote A[r]*\n",
        "\n",
        "* **2.Si i<k<j, entonces A[k]>A[r].** *En caso de que k este entre el i-ésimo elemento y r, significa que el elemento A[k] es mayor al pivote*\n",
        "\n",
        "Antes de cada entrar en el bucle, sabemos que \"Partition\" **siempre** elegirá un pivote que sea igual al último elemento del arreglo (pivot = A[r]), además de tener dos índices, que llamaremos j e i, donde j = p e i = p -1.\n",
        "\n"
      ],
      "metadata": {
        "id": "KBJp6V1ndSoX"
      }
    },
    {
      "cell_type": "markdown",
      "source": [
        "![Imagen1.png](data:image/png;base64,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)"
      ],
      "metadata": {
        "id": "S22PPn9V9Upb"
      }
    },
    {
      "cell_type": "markdown",
      "source": [
        "Image 7.2 - Introduction-To-Algorithms - Page N°173"
      ],
      "metadata": {
        "id": "xx-goitO9Xjd"
      }
    },
    {
      "cell_type": "markdown",
      "source": [
        "**Inicialización**: teniendo en cuenta nuestro pivote, y los índices j e i, sabemos que antes de entrar en el bucle, se cumple trivialmente lo propuesto en el Lema, para un elemento k entre el inicio e i, será menor o igual al pivote, y si va desde i hasta r, es mayor al pivote, por lo que, en un inicio significaría que al no haber elementos entre j e i, podemos decir que todos los elementos del arreglo se consideran mayores al pivote hasta que se demuestre lo contrario.\n",
        "\n",
        "**Mantención**: Una vez empezamos a iterar con j como índice principal, al ir incrementando, si se comprueba que A[j] es menor o igual al pivote, se producirá un intercambio entre A[i] y A[j], y se incrementará $i$, por lo cual, se cumplirá la segunda condición del lema, para elementos A[i..j-1] se generará una zona donde se ubicaran los elementos mayores al pivote, lo que prueba el primer lema, puesto que automáticamente se irá separando por medio de la iteración y comprobación las zonas mayores y menores con respecto al pivote.\n",
        "\n",
        "*El bucle finaliza cuando j es igual a r - 1, al llegar a este punto, sabemos que el arreglo se separa en dos partes con respecto al elemento r, una menor o igual y otra mayor, solo queda intercambiar el elemento i + 1 con el r, finalmente, se retorna el índice i + 1, esto con el objetivo de dividir el arreglo en futuras llamadas recursivas y poder ordenar el arreglo.*"
      ],
      "metadata": {
        "id": "WxlR2OWn9StM"
      }
    },
    {
      "cell_type": "markdown",
      "source": [
        "##4.2 Función QuickSort"
      ],
      "metadata": {
        "id": "f--qOJDU94MZ"
      }
    },
    {
      "cell_type": "markdown",
      "source": [
        "### **Teorema 2 (Correctitud del algoritmo QuickSort)**\n",
        "\n",
        "*El algoritmo **QuickSort** ordena un arreglo: $[a_1',a_2',...,a_n']$, con los mismos elementos del arreglo de entrada permutados de menor a mayor, es decir,* $a_1'\\leq a_2' \\leq... \\leq a_n'$.\n",
        "\n",
        "Hipótesis $P(n)$: QuickSort ordena el arreglo de $n$ elementos internamente y sin memoria adicional en orden ascendente, mediante llamadas recursivas, dividiendo el problema de entrada en arreglos cada vez más pequeños de tamaño $m$.\n",
        "\n",
        "Para $P(1)$, QuickSort ordena un elemento, por lo que, nuestra hipótesis se cumple para arreglos de tamaño 1, los cuales se asegura que están ordenados.\n",
        "\n",
        "Para $P(m)$ casos, sabemos que \"Partition\" retornará un índice que marcará un punto medio para dividir el problema en sectores de mayor y menor tamaño dentro de un arreglo y que además organiza esos sectores, en adición, según el enunciado anterior se conoce que para problemas de tamaño 1 el arreglo se considera ordenado y la función QuickSort divide el problema con el retorno de \"Partition\", por tanto, podemos asegurar que para $P(m)$ problemas el arreglo estará ordenado mientras m < n, y que QuickSort llegará a generar el caso base.\n",
        "\n",
        "Luego de haber llegado a los casos bases, los  sub-arreglos estarán ordenados y como no se necesita combinar los problemas resultantes porque se sobreescribe encima del mismo arreglo, tendremos el arreglo original permutado de menor a mayor.\n",
        "\n"
      ],
      "metadata": {
        "id": "SslJ8_2lBDC4"
      }
    },
    {
      "cell_type": "markdown",
      "source": [
        "![Image](https://1.bp.blogspot.com/-zWEuVY3_7no/Ty7R36aQnYI/AAAAAAAAAAQ/WOZVZ8JiGUw/s1600/QuickSort.png)\n",
        "\n",
        "Imagen extraida de internet que pertenece al sitio (https://thedvdside.blogspot.com/2012/04/metodo-quicksort.html)"
      ],
      "metadata": {
        "id": "byeyYQbbHrXA"
      }
    },
    {
      "cell_type": "markdown",
      "source": [
        "#5. Tiempo de ejecución de QuickSort\n",
        "\n",
        "###5.1 Mejor caso \n",
        "\n",
        "Hipótesis: El mejor caso en el algoritmo Quicksort ocurre cuando \"Partition\" genera dos sub-problemas de tamaño no más de $n/2$, uno de $n/2$ y otro de $(n/2)-1$.\n",
        "\n",
        "Lo anterior, nos da la función de recurrencia \n",
        "\n",
        "* $T(n) = 2T(n/2) + O(n)$\n",
        "\n",
        "Con base en esto podemos usar el teorema maestro, donde:\n",
        "* $a$ = 2\n",
        "* $b$ = 2\n",
        "* $c$ = 1\n",
        "\n",
        "Siguiendo el calculo de la formula para determinar la complejidad temporal tenemos que:\n",
        "\n",
        "* $a <=> b^c$\n",
        "\n",
        "Reemplazando los valores obtenemos:\n",
        "\n",
        "* $2 = 2^1$\n",
        "\n",
        "Por tanto, nos queda finalmente que la complejidad temporal es:\n",
        "\n",
        "* $O(n^c logn)$ => $O(nlogn)$\n",
        "\n",
        "\n",
        "\n",
        "\n"
      ],
      "metadata": {
        "id": "6ghbsXhQH-zm"
      }
    },
    {
      "cell_type": "markdown",
      "source": [
        "###5.2 Caso promedio\n",
        "\n",
        "Hipótesis: El caso promedio ocurre cuando el algoritmo realiza particiones medianamente balanceadas, esta dependerá de la función \"Partition\".\n",
        "\n",
        "Supongamos el siguiente caso, tenemos un arreglo, y \"Partition\" divide el problema en fracciones de 7/10 y 3/10, esto nos genera la siguiente función de recurrencia.\n",
        "\n",
        "* $T(n) = T(7n/10) + T(3n/10) + O(n)$\n",
        "\n",
        "Para este análisis no podemos usar el teorema maestro, pero si vemos analizamos los casos mediante un árbol de recurrencia podemos llegar a la respuesta visualmente.\n"
      ],
      "metadata": {
        "id": "9mX_defkLXnK"
      }
    },
    {
      "cell_type": "markdown",
      "source": [
        "![Imagen2.png](data:image/png;base64,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)"
      ],
      "metadata": {
        "id": "5Tw77D_FQACA"
      }
    },
    {
      "cell_type": "markdown",
      "source": [
        "Como se ve representado, el árbol de recurrencia va en un inicio generando problemas que suman $cn$, pero va a llegar un punto en que serán a lo más $cn$, esto se debe a que puede que en alguno sub-problemas llegue antes al caso base. En el caso de la altura ocurre lo mismo, se puede apreciar que para la rama derecha tiene una altitud de $log_7(n)$, pero para otras ramas ocurre que pueden tener una altura m, k o m/k (considerando m, k y m/k números enteros), esto se verá fuertemente influenciado en el problema y la partición realizada.\n",
        "\n",
        "En conclusión, el caso promedio tiene como complejidad temporal y puede acercarse mucho al mejor caso:\n",
        "* $O(nlogn)$\n"
      ],
      "metadata": {
        "id": "snzMwJkGQDX1"
      }
    },
    {
      "cell_type": "markdown",
      "source": [
        "###5.3 Peor caso\n",
        "\n",
        "Hipótesis: QuickSort debe ordenar un arreglo el cual esté permutado en orden.\n",
        "\n",
        "Supongamos que tenemos un arreglo ordenado de $n$ elementos, y lo queremos meter en QuickSort, asumiendo por razones obvias que nuestra implementación inicial para escoger el pivote será el último elemento.\n",
        "\n",
        "Partition en un inicio no hará intercambios, y generará una división de n-1 y 1, suponiendo que está es nuestra función recursiva base, tenemos que:\n",
        "\n",
        "* $T(n) = T(n-1) +T(1) + O(n)\n",
        "\n",
        "Podemos verlo como un arbol recursivo, pero antes vamos a suponer que QuickSort ira dividiendo de la siguiente forma\n",
        "\n",
        "* T(n-1) + T(1) + O(n) => T(n-1) + T(1) + O(n) + T(n-2) + T(1) + O(n) => ...\n",
        "\n",
        "Si seguimos n-1 veces, entonces nos quedarán de la siguiente forma:\n",
        "\n",
        "* O(1+2+3+...n)\n",
        "\n",
        "Una sumatoria desde 1 hasta n, dando la clásica fórmula de $n(n+1)/2$. Claramente, se puede ver que el problema resultaría en $O(n^2)$.\n",
        "\n",
        "Con un árbol de recursión nos quedaría algo así:"
      ],
      "metadata": {
        "id": "rpzHtmgRRuT_"
      }
    },
    {
      "cell_type": "markdown",
      "source": [
        "![Image](https://ronnyml.files.wordpress.com/2009/05/quicksort_peor_caso.jpg)\n",
        "\n",
        "Imagen estraido de internet (https://ronnyml.files.wordpress.com/2009/05/quicksort_peor_caso.jpg)"
      ],
      "metadata": {
        "id": "khnnB_mlWpai"
      }
    },
    {
      "cell_type": "markdown",
      "source": [
        "Una partición en el arreglo de $n$ elementos que diera 1 y n-1 de manera recursiva."
      ],
      "metadata": {
        "id": "rMbsrv-hW37c"
      }
    },
    {
      "cell_type": "markdown",
      "source": [
        "#6.Experimentos"
      ],
      "metadata": {
        "id": "5qSE-laSXLWn"
      }
    },
    {
      "cell_type": "markdown",
      "source": [
        "###Experimento 1 - Comparaciones curvas de casos\n",
        "\n",
        "En el siguiente experimento se realizará la comparación entre:\n",
        "\n",
        "* El mejor caso teórico $O(nlogn)$\n",
        "* El peor caso teórico $O(n^2)$\n",
        "* Caso experimental con nuestra primera función QuickSort implementada (QuickSort_high)\n",
        "\n",
        "La entrada será para arreglo entre 5 y 30 elementos, se generarán de manera aleatoria."
      ],
      "metadata": {
        "id": "udO_KgrCYCJl"
      }
    },
    {
      "cell_type": "markdown",
      "source": [
        "**Hipótesis:** La curva experimental estará entre la cota superior e inferior en el número de comparaciones, también según planteamos en el análisis temporal, la curva experimental estará más cerca del mejor caso para arreglos aleatorios."
      ],
      "metadata": {
        "id": "exquGF1qaHGZ"
      }
    },
    {
      "cell_type": "code",
      "source": [
        "import matplotlib.pyplot as plt\n",
        "from math import log10"
      ],
      "metadata": {
        "id": "Mi3KAxttZMG8"
      },
      "execution_count": 26,
      "outputs": []
    },
    {
      "cell_type": "code",
      "source": [
        "x=[n for n in range(5,30)] \n",
        "y1=[n*(n-1)/2 for n in range(5,30)] # worst case\n",
        "y2=[n*log10(n) for n in range(5,30)] # best case\n",
        "y=[]; \n",
        "\n",
        "for n in range(5,30):\n",
        "  counter = 0\n",
        "  a = random.sample(range(1, 100), n)\n",
        "  counter = QuickSort_high(a,0,len(a)-1,counter,Verbose = False)\n",
        "  y.append(counter)\n",
        "\n",
        "plt.plot(x,y)\n",
        "plt.plot(x,y1)\n",
        "plt.plot(x,y2)\n",
        "plt.legend([\"QuickSort\", \"theoretical worst case\", \"theoretical best case\"])\n",
        "\n",
        "plt.xlabel('n')\n",
        "plt.ylabel('number of operations')\n",
        "plt.show()"
      ],
      "metadata": {
        "colab": {
          "base_uri": "https://localhost:8080/",
          "height": 279
        },
        "id": "IkWEA2GzY9nl",
        "outputId": "7d34b07c-776a-4564-cafb-e3004e2f007b"
      },
      "execution_count": 28,
      "outputs": [
        {
          "output_type": "display_data",
          "data": {
            "text/plain": [
              "<Figure size 432x288 with 1 Axes>"
            ],
            "image/png": "[encoded data removed]"
          },
          "metadata": {
            "needs_background": "light"
          }
        }
      ]
    },
    {
      "cell_type": "markdown",
      "source": [
        "###Análisis de resultados:\n",
        "\n",
        "Visualmente, se puede apreciar que la curva en el caso experimental está entre la cota superior e inferior, además se encuentra muy cerca del mejor caso, esto puede ser principalmente por ser arreglos aleatorios, al ser así nos asegura que no estarán ordenados, alejándonos del peor caso teórico."
      ],
      "metadata": {
        "id": "aMNJUOV5asel"
      }
    },
    {
      "cell_type": "markdown",
      "source": [
        "### Experimento 2 - Comparación entre MergeSort y QuickSort\n",
        "\n",
        "Según sabemos, se dice que QuickSort suele ser mucho más rápido que MergeSort, pero ¿será esto así?\n",
        "\n",
        "**Hipótesis 1:** QuickSort tendrá ventaja en tiempo de ejecución para arreglos de $n$ elementos\n",
        "\n",
        "Se compararán arreglos entre 5 y 500 elementos de forma aleatoria y ambos serán iguales."
      ],
      "metadata": {
        "id": "XDUZkFFqblZs"
      }
    },
    {
      "cell_type": "markdown",
      "source": [
        "---\n",
        "Importamos nuestra función MergeSort."
      ],
      "metadata": {
        "id": "8X0wmXpbcrAM"
      }
    },
    {
      "cell_type": "code",
      "source": [
        "#Función MergeSort propuesta en la guía\n",
        "\n",
        "def MergeSort(A, p, r,Verbose = False):\n",
        "  if p==r: return\n",
        "\n",
        "  q = int((p+r)/2) #elemento medio del arreglo\n",
        "  MergeSort(A,p,q,Verbose) #ordena la parte izquierda del arreglo\n",
        "  MergeSort(A,q+1,r,Verbose) #ordena la parte derecha del arreglo\n",
        "  Merge(A,p,q,r,Verbose) #combina y ordena ambos subarreglos ordenados\n",
        "\n",
        "#Función Merge\n",
        "\n",
        "def Merge(A,p,q,r,Verbose=False):\n",
        "  #Creo dos listas auxiliares\n",
        "  A1 = A[p:q+1]\n",
        "  A2 = A[q+1:r+1]\n",
        "  #Indices para ir moviendose en ambas listas respectivamente\n",
        "  izq = 0\n",
        "  der = 0\n",
        "  \n",
        "  for i in range(p,r+1):\n",
        "\n",
        "    ##Ciclos para rellenar valores faltantes en alguna lista\n",
        "    if izq == len(A1):\n",
        "      for k in range(i,r+1):\n",
        "        A[k] = A2[der]\n",
        "        der+=1\n",
        "      break\n",
        "    if der == len(A2):\n",
        "      for k in range(i,r+1):\n",
        "        A[k] = A1[izq]\n",
        "        izq+=1\n",
        "      break\n",
        "\n",
        "    ##Comparacion de elementos de las listas\n",
        "    if A1[izq] <= A2[der]:\n",
        "      A[i] = A1[izq]\n",
        "      izq+=1\n",
        "    else:\n",
        "      A[i] = A2[der]\n",
        "      der+=1"
      ],
      "metadata": {
        "id": "1Bbc44Xgcc5j"
      },
      "execution_count": 34,
      "outputs": []
    },
    {
      "cell_type": "markdown",
      "source": [
        "Procedemos a comparar los algoritmos, como premisa sabemos que ambos tiene la misma complejidad temporal $O(nlogn)$"
      ],
      "metadata": {
        "id": "42OktnWXc0qn"
      }
    },
    {
      "cell_type": "code",
      "source": [
        "import matplotlib.pyplot as plt\n",
        "import datetime\n",
        "from timeit import repeat"
      ],
      "metadata": {
        "id": "RPZ1Jrk2dAGg"
      },
      "execution_count": 30,
      "outputs": []
    },
    {
      "cell_type": "code",
      "source": [
        "x=[]; y=[]; y1=[]\n",
        "\n",
        "for n in range(5,500):\n",
        "\n",
        "  a = random.sample(range(1, 1000), n)\n",
        "  b = a\n",
        "  #la función repeat está ejecutando 20 veces bubble_sort con el arreglo a y retorna el mejor tiepo obtenido.\n",
        "  t = repeat(setup=\"from __main__ import QuickSort_high\", stmt=f\"QuickSort_high({a},{0},{len(a)-1},{0},{False})\", repeat=1, number=10)\n",
        "  t1 = repeat(setup=\"from __main__ import MergeSort\", stmt=f\"MergeSort({b},{0},{len(b)-1},{False})\", repeat=1, number=10)\n",
        "  x.append(n)\n",
        "  y.append(t)\n",
        "  y1.append(t1)\n",
        "\n",
        "\n",
        "plt.plot(x,y)\n",
        "plt.plot(x,y1)\n",
        "plt.legend([\"QuickSort\",\"MergeSort\"])\n",
        "\n",
        "plt.xlabel('n')\n",
        "plt.ylabel('time in ms')\n",
        "plt.show()"
      ],
      "metadata": {
        "colab": {
          "base_uri": "https://localhost:8080/",
          "height": 279
        },
        "id": "NOVUIH2bc-Pq",
        "outputId": "5a8a5a3f-4266-4b94-ebc0-f1eea9316415"
      },
      "execution_count": 38,
      "outputs": [
        {
          "output_type": "display_data",
          "data": {
            "text/plain": [
              "<Figure size 432x288 with 1 Axes>"
            ],
            "image/png": "[encoded data removed]"
          },
          "metadata": {
            "needs_background": "light"
          }
        }
      ]
    },
    {
      "cell_type": "markdown",
      "source": [
        "###Analisis de resultados\n",
        "\n",
        "Al ir iterando, QuickSort tiene mayor rapidez, debido a la variación de sus constantes en la función recursiva, por eso puede resultar más rápido en tiempo real a diferencia de MergeSort que su fórmula resulta ser siempre la misma.\n",
        "\n",
        "En la gráfica podemos ver como QuickSort tiene una mayor rapidez al momento de ordenar elementos, a finales de la gráfica se ve al menor una diferencia de 0.0050 en tiempo de ordenamiento.\n",
        "\n",
        "Al principio de cada ordenamiento no sé pueden apreciar tantos picos, pero a medida que $n$ va incrementando se van haciendo más notorios, existe la posibilidad de que se deba a los arreglos, como son aleatorios, puede que alguna fracción de estos estén parcialmente ordenados, lo que nos acercaría a un peor caso.\n",
        "\n",
        "\n"
      ],
      "metadata": {
        "id": "YBLCLPH_eeYm"
      }
    },
    {
      "cell_type": "markdown",
      "source": [
        "### Experimento 3 - QuickSort en la variación de sus pivotes\n",
        "\n",
        "Para la siguiente gráfica se mostrarán como afecta el pivote al rendimiento en tiempo real del QuickSort.\n",
        "\n",
        "**Hipótesis:** Posiblemente, la función de la mediana tenga un mejor tiempo de ordenamiento, puestos que las otras usan un elemento \"aleatorio\" del arreglo (esto no es así realmente, pero da la sensación que si lo es)."
      ],
      "metadata": {
        "id": "Z3VpzVQWgbZc"
      }
    },
    {
      "cell_type": "code",
      "source": [
        "x=[]; y=[]; y1=[]; y2=[]\n",
        "\n",
        "for n in range(5,500):\n",
        "\n",
        "  a = random.sample(range(1, 1000), n)\n",
        "  b = a\n",
        "  c = a\n",
        "  #la función repeat está ejecutando 20 veces bubble_sort con el arreglo a y retorna el mejor tiepo obtenido.\n",
        "  t = repeat(setup=\"from __main__ import QuickSort_high\", stmt=f\"QuickSort_high({a},{0},{len(a)-1},{0},{False})\", repeat=1, number=10)\n",
        "  t1 = repeat(setup=\"from __main__ import QuickSort_low\", stmt=f\"QuickSort_low({b},{0},{len(b)-1},{0},{False})\", repeat=1, number=10)\n",
        "  t2 = repeat(setup=\"from __main__ import QuickSort_med\", stmt=f\"QuickSort_med({c},{0},{len(c)-1},{0},{False})\", repeat=1, number=10)\n",
        "  x.append(n)\n",
        "  y.append(t)\n",
        "  y1.append(t1)\n",
        "  y2.append(t2)\n",
        "\n",
        "\n",
        "plt.plot(x,y)\n",
        "plt.plot(x,y1)\n",
        "plt.plot(x,y2)\n",
        "plt.legend([\"QuickSort con pivote al final\",\"QuickSort con pivote al principio\",\"QuickSort mediana de tres elementos\"])\n",
        "\n",
        "plt.xlabel('n')\n",
        "plt.ylabel('time in ms')\n",
        "plt.show()"
      ],
      "metadata": {
        "colab": {
          "base_uri": "https://localhost:8080/",
          "height": 279
        },
        "id": "8sz7N_BvhS_7",
        "outputId": "c8f8bdbd-9784-48c5-c54a-161d14744229"
      },
      "execution_count": 40,
      "outputs": [
        {
          "output_type": "display_data",
          "data": {
            "text/plain": [
              "<Figure size 432x288 with 1 Axes>"
            ],
            "image/png": "[encoded data removed]"
          },
          "metadata": {
            "needs_background": "light"
          }
        }
      ]
    },
    {
      "cell_type": "markdown",
      "source": [
        "### Análisis de resultados\n",
        "\n",
        "Nuestra hipótesis inicial no resultó acertada, esto puede deberse principalmente a que al escoger la mediana tome un poco de tiempo más, pero aun así resulta tener tiempo $O(nlogn)$. En las otras dos curvas tienen el mismo tiempo debido a su implementación, puesto que funcionan de la misma forma, solo que una empieza desde el inicio hasta $n - 1$ y la otra desde 1 hasta $n$."
      ],
      "metadata": {
        "id": "OR39EDW9ibL1"
      }
    },
    {
      "cell_type": "markdown",
      "source": [
        "### Experimento 4 - ver tiempos QuickSort_med y MergeSort\n",
        "\n",
        "En base al experimento anterior, se busca comparar ambos algoritmos, para ver si aún asi, QuickSort_med resulta ser más rapido que MergeSort, puesto que QuickSort_med es más lenta que sus dos variables.\n",
        "\n",
        "**Hipotesis:** QuickSort_med es más rapido de MergeSort en tiempo real"
      ],
      "metadata": {
        "id": "QMNDOfkCjUGk"
      }
    },
    {
      "cell_type": "code",
      "source": [
        "x=[]; y=[]; y1=[]\n",
        "\n",
        "for n in range(5,500):\n",
        "\n",
        "  a = random.sample(range(1, 1000), n)\n",
        "  b = a\n",
        "  #la función repeat está ejecutando 20 veces bubble_sort con el arreglo a y retorna el mejor tiepo obtenido.\n",
        "  t = repeat(setup=\"from __main__ import QuickSort_med\", stmt=f\"QuickSort_med({a},{0},{len(a)-1},{0},{False})\", repeat=1, number=10)\n",
        "  t1 = repeat(setup=\"from __main__ import MergeSort\", stmt=f\"MergeSort({b},{0},{len(b)-1},{False})\", repeat=1, number=10)\n",
        "  x.append(n)\n",
        "  y.append(t)\n",
        "  y1.append(t1)\n",
        "\n",
        "\n",
        "plt.plot(x,y)\n",
        "plt.plot(x,y1)\n",
        "plt.legend([\"QuickSort_med\",\"MergeSort\"])\n",
        "\n",
        "plt.xlabel('n')\n",
        "plt.ylabel('time in ms')\n",
        "plt.show()"
      ],
      "metadata": {
        "colab": {
          "base_uri": "https://localhost:8080/",
          "height": 279
        },
        "id": "k_Ixtxq2kQi6",
        "outputId": "167c728c-b3fd-401f-af00-e23cfdf9b96f"
      },
      "execution_count": 42,
      "outputs": [
        {
          "output_type": "display_data",
          "data": {
            "text/plain": [
              "<Figure size 432x288 with 1 Axes>"
            ],
            "image/png": "[encoded data removed]"
          },
          "metadata": {
            "needs_background": "light"
          }
        }
      ]
    },
    {
      "cell_type": "markdown",
      "source": [
        "### Análisis de resultados\n",
        "\n",
        "Se puede apreciar que QuickSort_med resulto ser más lenta, esto quizá a nuestra implementación, debido a que demora más tiempo en encontrar un pivote, a pesar de la diferencia es relativamente baja, el algoritmo QuickSort_med debería generar estabilidad para ordenar elementos."
      ],
      "metadata": {
        "id": "kVOJUD-wkc2S"
      }
    },
    {
      "cell_type": "markdown",
      "source": [
        "### Biografía de Charles Antony Richard Hoare\n",
        "(https://es.wikipedia.org/wiki/C._A._R._Hoare)\n",
        "\n",
        "### QuickSort (Wikipedia)\n",
        "(https://es.wikipedia.org/wiki/Quicksort)\n",
        "\n",
        "###Foro de ayuda\n",
        "(https://foroayuda.es/peor-caso-del-algoritmo-quicksort/)\n",
        "\n",
        "### Página de apoyo\n",
        "(https://www.programiz.com/dsa/quick-sort)"
      ],
      "metadata": {
        "id": "wzkEMd1KKE_k"
      }
    },
    {
      "cell_type": "markdown",
      "source": [
        "### Thomas Molina Sagredo - Ingeniería civil informática"
      ],
      "metadata": {
        "id": "ZTW1HKG5lD_A"
      }
    }
  ]
}