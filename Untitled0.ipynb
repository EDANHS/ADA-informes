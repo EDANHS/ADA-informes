{
  "cells": [
    {
      "cell_type": "markdown",
      "metadata": {
        "id": "view-in-github",
        "colab_type": "text"
      },
      "source": [
        "<a href=\"https://colab.research.google.com/github/EDANHS/ADA-informes/blob/main/Untitled0.ipynb\" target=\"_parent\"><img src=\"https://colab.research.google.com/assets/colab-badge.svg\" alt=\"Open In Colab\"/></a>"
      ]
    },
    {
      "cell_type": "markdown",
      "metadata": {
        "id": "Rvu8aOEL6O12"
      },
      "source": [
        "# **1. Problema de ordenamiento**\n",
        "\n",
        "**Entrada**: Secuencia de 'n' elementos en una lista $<a_1,a_2,…a_n>$ \n",
        "\n",
        "**Salida**: Permutación ordenada de la lista $<a_1',a_2',…a_n'>$ tal que $[a_1'\\leq a_2' \\leq… \\leq a_n']$\n",
        "\n",
        "![image](https://i.ytimg.com/vi/5drdwIqRKBs/maxresdefault.jpg)\n",
        "\n",
        "Los algoritmos de ordenamiento son importantes para tener datos organizados según corresponda, muchos de ellos tienen diferentes niveles de dificultad en su implementación, en esta ocasión se hablará sobre el InsertionSort."
      ]
    },
    {
      "cell_type": "markdown",
      "metadata": {
        "id": "7sK8v3GYHW5L"
      },
      "source": [
        "# **2. Insertion Sort**\n"
      ]
    },
    {
      "cell_type": "markdown",
      "metadata": {
        "id": "8vFB3LrlIdio"
      },
      "source": [
        "Descripción:\n",
        "\n",
        "El algoritmo recibe una lista de 'n' números, estos se conmutarán y de salida se obtendrá una lista ordenada.\n",
        "\n",
        "Los pasos que realiza el InsertionSort son los siguientes:\n",
        "\n",
        "1. Para comenzar se debe considerar que el primer elemento del arreglo está ordenado, los siguientes se ven como si estuvieran desordenados.\n",
        "2. Después, en cada elemento del arreglo se va iterando desde **i-1** hasta **0**, y se va realizando el intercambio hasta que se encuentre un elemento menor a la **key**.\n",
        "3. Lo anterior, se repite hasta llegar a los \"n\" elementos."
      ]
    },
    {
      "cell_type": "markdown",
      "metadata": {
        "id": "P6grEFHXZ_5r"
      },
      "source": [
        "![image](https://cdn.programiz.com/cdn/farfuture/l-X2VCkF2rp4i0X8mZX6BGJL_FQW9EL8PkKhBswQfpc/mtime:1582112622/sites/tutorial2program/files/Insertion-sort-0_1.png)"
      ]
    },
    {
      "cell_type": "markdown",
      "metadata": {
        "id": "M5wJNFHOalyj"
      },
      "source": [
        "# **3. Código**"
      ]
    },
    {
      "cell_type": "code",
      "execution_count": null,
      "metadata": {
        "id": "YlDnGMLjShX4"
      },
      "outputs": [],
      "source": [
        "from termcolor import colored"
      ]
    },
    {
      "cell_type": "code",
      "execution_count": 137,
      "metadata": {
        "id": "8qlXERgmHpWp"
      },
      "outputs": [],
      "source": [
        "## Mostrar mensaje\n",
        "def imprimir(a,j,n,z):\n",
        "  print(\"[\",end=\" \")\n",
        "  for k in range(n):\n",
        "    if k == j or k == j+1 : print(colored(a[k],z),end=\" \")\n",
        "    else : print(a[k],end=\" \")\n",
        "  print(\"]\")\n",
        "\n",
        "\n",
        "def InsertionSort(a,verbose=False):\n",
        "\n",
        "    ## Inicializa una variable con el tamaño del arreglo\n",
        "    n = len(a)\n",
        "    iter = 0\n",
        "    count = 0\n",
        "    if verbose == True : print(\"Input lista: \",a,end=\"\\n\")\n",
        "\n",
        "    ##variable para obtener la media\n",
        "    retr = 0\n",
        "\n",
        "    for i in range(1,n):\n",
        "      ## clave para realizar el intercambio\n",
        "      key = a[i]\n",
        "\n",
        "      ##Impresión de iteración\n",
        "      iter+=1\n",
        "      val = True\n",
        "\n",
        "      \n",
        "\n",
        "      if verbose == True:\n",
        "        print(\"----------------\")\n",
        "        print(\"Iteracion: \",iter)\n",
        "\n",
        "      ## Ciclo que va desde [i:0]\n",
        "      for j in range(i-1,-1,-1):\n",
        "        count+=1\n",
        "\n",
        "        ## Realización del intercambio de la clave y ruptura\n",
        "        ## del ciclo\n",
        "        if a[j]<key:\n",
        "          a[j+1] = key\n",
        "          break\n",
        "        ## Intercambio general\n",
        "\n",
        "        a[j+1] = a[j]\n",
        "        retr+=1\n",
        "\n",
        "        if verbose == True and val == True: \n",
        "          print(\"Inicio: \",end=\" \")\n",
        "          imprimir(a,j,n,\"red\")\n",
        "          val = False\n",
        "\n",
        "      ## Intercambio general\n",
        "      if key < a[0] : a[0] = key\n",
        "\n",
        "      if verbose == True: \n",
        "        print(\"Fin: \",end=\" \")\n",
        "        imprimir(a,i-1,n,\"blue\")\n",
        "        print(\"----------------\")\n",
        "\n",
        "    if verbose == True : \n",
        "      print(\"Output lista: \",a)\n",
        "      print(\"Comparaciones: \", count)\n",
        "      print(\"Retroceso: \",retr)\n",
        "      print(\"Media: \",(retr/(n-1)))\n",
        "    return a, count\n",
        "\n",
        "#ejemplo\n",
        "a = [8,5,3,9,1]\n",
        "a,count = InsertionSort(a)\n",
        "\n"
      ]
    },
    {
      "cell_type": "markdown",
      "metadata": {
        "id": "Vu6GIU5rTqAc"
      },
      "source": [
        "**Entrada:** Lista **'a'** de **'n'** elementos.\n",
        "\n",
        "**Salida:** La misma lista **'a'** con sus elementos ordenados de menor a mayor."
      ]
    },
    {
      "cell_type": "markdown",
      "metadata": {
        "id": "00AoGtqxgXMZ"
      },
      "source": [
        "**Ventajas:**\n",
        "1. Su implementación es sencilla.\n",
        "2. Ocupa poca memoria.\n",
        "\n",
        "**Desventajas:**\n",
        "1. Realiza muchas comparaciones.\n",
        "2. Recorre muchas veces la lista."
      ]
    },
    {
      "cell_type": "markdown",
      "metadata": {
        "id": "bQs8EscXa1ga"
      },
      "source": [
        "# **4. Ejemplo**\n",
        "\n",
        "Se consideró para este caso el arreglo **a** = [13 ,27 ,2 ,9 ,30]\n",
        "1. Se parte del segundo elemento para realizar las comparaciones.\n",
        "\n",
        "   key = 27 ; **a** = [**13** ,**27** ,2 ,9] ; **¿13 < 27?**\n",
        "\n",
        "   **Como están ordenados, no hay intercambio.**\n",
        "2. En la segunda pasada preguntamos si el tercer elemento del arreglo es menor al sub arreglo menor \n",
        "\n",
        "   key = 2 ; **a** = [13,**27**,**2**,9] ; ¿27 < 2?\n",
        "\n",
        "   key = 2 ; **a** = [**13**,**27**,27,9] ; ¿13 < 2?\n",
        "\n",
        "   key = 2 ; **a** = [**13**,**13**,27,9] ; ¿13 < 2?\n",
        "\n",
        "   key = 2 ; **a** = [**2**,**13**,27,9] ; **¿2 < 13?**\n",
        "\n",
        "   **(Como se cumple la comparación se reemplaza la key en el último valor visitado)**\n",
        "\n",
        "3. Los pasos anteriores se repetirán hasta recorrer **n-1** veces el arreglo.\n",
        "\n",
        "   key = 27 ; **a** = [2,13,27,9] ; ¿13 < 27?\n",
        "\n",
        "   **(No sigue iterando)**\n",
        "\n",
        "   key = 9 ; **a** = [2,13,**27**,**9**] ; ¿27 < 9?\n",
        "\n",
        "   key = 9 ; **a** = [2,**13**,**27**,27] ; ¿13 < 9?\n",
        "\n",
        "   key = 9 ; **a** = [**2**,**9**,13,27] ; **¿2 < 9?**\n"
      ]
    },
    {
      "cell_type": "markdown",
      "metadata": {
        "id": "TjEv516YmqA4"
      },
      "source": [
        "# **5. Ejecución del verbose**"
      ]
    },
    {
      "cell_type": "markdown",
      "metadata": {
        "id": "FUKjuSXrocB8"
      },
      "source": [
        "Para la visualización completa del InsertionSort, pasar **verbose** como **True** (verbose=True)"
      ]
    },
    {
      "cell_type": "code",
      "source": [
        "import random"
      ],
      "metadata": {
        "id": "BB-KDuhN27uN"
      },
      "execution_count": 134,
      "outputs": []
    },
    {
      "cell_type": "code",
      "execution_count": 135,
      "metadata": {
        "colab": {
          "base_uri": "https://localhost:8080/"
        },
        "id": "Hyb-KEqanJy0",
        "outputId": "5a5d514d-6104-4741-e4ee-4c6936308f8e"
      },
      "outputs": [
        {
          "output_type": "stream",
          "name": "stdout",
          "text": [
            "Input lista:  [67, 20, 33, 41, 64, 80]\n",
            "----------------\n",
            "Iteracion:  1\n",
            "Inicio:  [ \u001b[31m67\u001b[0m \u001b[31m67\u001b[0m 33 41 64 80 ]\n",
            "Fin:  [ \u001b[34m20\u001b[0m \u001b[34m67\u001b[0m 33 41 64 80 ]\n",
            "----------------\n",
            "----------------\n",
            "Iteracion:  2\n",
            "Inicio:  [ 20 \u001b[31m67\u001b[0m \u001b[31m67\u001b[0m 41 64 80 ]\n",
            "Fin:  [ 20 \u001b[34m33\u001b[0m \u001b[34m67\u001b[0m 41 64 80 ]\n",
            "----------------\n",
            "----------------\n",
            "Iteracion:  3\n",
            "Inicio:  [ 20 33 \u001b[31m67\u001b[0m \u001b[31m67\u001b[0m 64 80 ]\n",
            "Fin:  [ 20 33 \u001b[34m41\u001b[0m \u001b[34m67\u001b[0m 64 80 ]\n",
            "----------------\n",
            "----------------\n",
            "Iteracion:  4\n",
            "Inicio:  [ 20 33 41 \u001b[31m67\u001b[0m \u001b[31m67\u001b[0m 80 ]\n",
            "Fin:  [ 20 33 41 \u001b[34m64\u001b[0m \u001b[34m67\u001b[0m 80 ]\n",
            "----------------\n",
            "----------------\n",
            "Iteracion:  5\n",
            "Fin:  [ 20 33 41 64 \u001b[34m67\u001b[0m \u001b[34m80\u001b[0m ]\n",
            "----------------\n",
            "Output lista:  [20, 33, 41, 64, 67, 80]\n",
            "Comparaciones:  8\n",
            "Retroceso:  4\n",
            "Media:  0.8\n"
          ]
        }
      ],
      "source": [
        "a = random.sample(range(1, 100), 6)\n",
        "a,c= InsertionSort(a,verbose=True)"
      ]
    },
    {
      "cell_type": "markdown",
      "metadata": {
        "id": "xJWUnqGawFp5"
      },
      "source": [
        "# **6. Tiempo de ejecución**"
      ]
    },
    {
      "cell_type": "markdown",
      "metadata": {
        "id": "5Bs3_IbLxqNK"
      },
      "source": [
        "*El algoritmo InsertionSort tiene un tiempo de ejecución de O(n^2) en el peor caso*"
      ]
    },
    {
      "cell_type": "markdown",
      "metadata": {
        "id": "7rpDKvmxzBtN"
      },
      "source": [
        "## Prueba del Teorema\n",
        "Al apreciar el funcionamiento de este algoritmo, se intuye que su peor caso ocurre cuando la lista está ordenado de mayor a menor. En el siguiente ejemplo se puede representar lo expuesto anteriormente."
      ]
    },
    {
      "cell_type": "code",
      "execution_count": 136,
      "metadata": {
        "colab": {
          "base_uri": "https://localhost:8080/"
        },
        "id": "8o5AYC--yPA9",
        "outputId": "9ae0d13f-8b30-40b1-a66e-32a80ea5dd43"
      },
      "outputs": [
        {
          "output_type": "stream",
          "name": "stdout",
          "text": [
            "Input lista:  [4, 3, 2, 1]\n",
            "----------------\n",
            "Iteracion:  1\n",
            "Inicio:  [ \u001b[31m4\u001b[0m \u001b[31m4\u001b[0m 2 1 ]\n",
            "Fin:  [ \u001b[34m3\u001b[0m \u001b[34m4\u001b[0m 2 1 ]\n",
            "----------------\n",
            "----------------\n",
            "Iteracion:  2\n",
            "Inicio:  [ 3 \u001b[31m4\u001b[0m \u001b[31m4\u001b[0m 1 ]\n",
            "Fin:  [ 2 \u001b[34m3\u001b[0m \u001b[34m4\u001b[0m 1 ]\n",
            "----------------\n",
            "----------------\n",
            "Iteracion:  3\n",
            "Inicio:  [ 2 3 \u001b[31m4\u001b[0m \u001b[31m4\u001b[0m ]\n",
            "Fin:  [ 1 2 \u001b[34m3\u001b[0m \u001b[34m4\u001b[0m ]\n",
            "----------------\n",
            "Output lista:  [1, 2, 3, 4]\n",
            "Comparaciones:  6\n",
            "Retroceso:  6\n",
            "Media:  2.0\n"
          ]
        }
      ],
      "source": [
        "a = [4,3,2,1]\n",
        "a,c= InsertionSort(a,verbose=True)"
      ]
    },
    {
      "cell_type": "markdown",
      "metadata": {
        "id": "gwKTVkNY5VYP"
      },
      "source": [
        "Primero se ve como el 4 se intercambia con el 3, en segunda instancia el 2 se cambia con el 3 y luego con el 4, realizando 2 intercambios, finalmente está el 1 que se mueve a través del 4, 3 y 2 respectivamente. En total se permutó un total de 6 veces.\n",
        "\n",
        "En el caso general, se deberían realizar $\\sum\\limits_{i=0}^{n-1} i=\\frac{n(n-1)}{2}$ comparaciones."
      ]
    },
    {
      "cell_type": "markdown",
      "metadata": {
        "id": "4H2-VrbE6lsi"
      },
      "source": [
        "# **7. Correctitud**\n",
        "\n",
        "## Teorema 1 (Correctitud)\n",
        "\n",
        "El algoritmo InsertionSort genera una lista: $<a_1,a_2,…a_n>$, con los mismos elementos de la lista de entrada ordenados de menor a mayor, es decir $[a_1'\\leq a_2' \\leq… \\leq a_n']$\n",
        "\n",
        "\n",
        "## Prueba del teorema\n",
        "\n",
        "Se entiende que la lista se irá ordenando secuencialmente, esta partirá en el primer elemento asumiendo que desde 0 hasta i-1 se encontrará permutados de menor a mayor y desde i+1 hasta **n** estará en desorden conteniendo los mismos elementos que en un inicio.\n",
        "\n",
        "Lo anterior, corresponde al bucle invariante para el InsertionSort.\n",
        "\n",
        "\n",
        "**Inicialización**: Al comenzar en el primer elemento del arreglo **a[0]** se ve que el arreglo está orden, por tanto, el sub arreglo **a[0:i-1]** estará en orden y tendrá los elementos del arreglo original.\n",
        "\n",
        "**Mantención**: Teniendo en cuenta que  **a[0:i-1]** está en orden, los nuevos valores **i** se irán iterando y ubicando en la posición correspondiente, además mantendrá los elementos del arreglo original.\n",
        "\n",
        "# Correctitud\n",
        "\n",
        "Se probó con la inicialización y mantención el **bucle invariante**, por tanto, al finalizar **n-1** iteraciones el algoritmo devolverá una lista ordenada de menor a mayor."
      ]
    },
    {
      "cell_type": "markdown",
      "metadata": {
        "id": "cIA_ODFWGbiv"
      },
      "source": [
        "# **8. Experimento y análisis**"
      ]
    },
    {
      "cell_type": "markdown",
      "metadata": {
        "id": "nJMHdsH8cVaV"
      },
      "source": [
        "# *8.1. Número de comparaciones*\n",
        "\n",
        "En las siguientes líneas se realizará una gráfica de las comparaciones en los casos:\n",
        "* Mejor caso: Ocurre cuando el arreglo está en orden de menor a mayor y no necesita realizar intercambios, esto se determina como **n-1** .\n",
        "\n",
        "* Peor caso: Sucede cuando el arreglo se encuentra ordenado de mayor a menor, y se puede calcular matemáticamente con $\\sum\\limits_{i=0}^{n-1} i=\\frac{n(n-1)}{2}$ .\n",
        "\n",
        "* Caso experimental: Mediante la implementación propuesta del Insertion Sort, se realizarán ordenamientos para arreglos aleatorios y se tomará los respectivos números de comparaciones hechas para graficar.\n",
        "\n",
        "La entrada será para problemas de **n** elementos que irán desde 5 hasta 20 elementos."
      ]
    },
    {
      "cell_type": "code",
      "execution_count": null,
      "metadata": {
        "id": "fFNYrWrvatym"
      },
      "outputs": [],
      "source": [
        "import matplotlib.pyplot as plt"
      ]
    },
    {
      "cell_type": "code",
      "execution_count": null,
      "metadata": {
        "colab": {
          "base_uri": "https://localhost:8080/",
          "height": 279
        },
        "id": "1YC1ZBZrgHjy",
        "outputId": "2ad79e04-0f1b-4b80-e079-29f916103f87"
      },
      "outputs": [
        {
          "output_type": "display_data",
          "data": {
            "text/plain": [
              "<Figure size 432x288 with 1 Axes>"
            ],
            "image/png": "[encoded data removed]"
          },
          "metadata": {
            "needs_background": "light"
          }
        }
      ],
      "source": [
        "x=[n for n in range(5,21)] \n",
        "y1=[n*(n-1)/2 for n in range(5,21)] # worst case\n",
        "y2=[n-1 for n in range(5,21)] # best case\n",
        "y=[]; \n",
        "\n",
        "## experimental case\n",
        "for n in range(5,21):\n",
        "  a = random.sample(range(1, 100), n)\n",
        "  a,counter = InsertionSort(a)\n",
        "  y.append(counter)\n",
        "\n",
        "##Gráfica\n",
        "plt.plot(x,y)\n",
        "plt.plot(x,y1)\n",
        "plt.plot(x,y2)\n",
        "plt.legend([\"Insertion Sort\", \"theoretical worst case\", \"theoretical best case\"])\n",
        "\n",
        "plt.xlabel('n elements')\n",
        "plt.ylabel('number of operations')\n",
        "plt.show()"
      ]
    },
    {
      "cell_type": "markdown",
      "metadata": {
        "id": "dbGkTG-sxbtV"
      },
      "source": [
        "### 8.1 Análisis de resultados\n",
        "\n",
        "En conclusión, se aprecia a simple vista que el caso experimental está por debajo del peor caso teórico (Complejidad O(n^2)) y por encima del mejor caso propuesto (Complejidad O(n)), por lo cual, el algoritmo implementado, está dentro del rango estimado en la teoría. \n",
        "\n",
        "Esta curva graficada para casos experimentales puede variar, debido a la aleatoriedad de los números."
      ]
    },
    {
      "cell_type": "markdown",
      "metadata": {
        "id": "Eb-ihfPMK3yT"
      },
      "source": [
        "# *8.2. Arreglo semi-ordenado (InsertionSort)*\n",
        "\n"
      ]
    },
    {
      "cell_type": "markdown",
      "metadata": {
        "id": "O0I4Ec5jPNu6"
      },
      "source": [
        "En seguidase hará una prueba en el número de comparaciones y el tiempo que lleva la ejecución del algoritmo InsertionSort cuando está casi completamente ordenado.\n",
        "\n",
        "Para la demostración se generará mediante código un arreglo que esté ordenado en 2/3 de su totalidad. Desde ahora los llamaremos arreglos 2/3."
      ]
    },
    {
      "cell_type": "code",
      "execution_count": null,
      "metadata": {
        "id": "8_QiWaVFQE8p"
      },
      "outputs": [],
      "source": [
        "def array_2_3(n):\n",
        "  k = int((2*n)/3)\n",
        "  a=[]\n",
        "  for i in range(0,n):\n",
        "    if(i < k): a.append(i)\n",
        "    else: a.append(random.randint(1,100))\n",
        "  \n",
        "\n",
        "  return a\n"
      ]
    },
    {
      "cell_type": "markdown",
      "source": [
        "1. Para este primer análisis, se muestra el mejor y peor caso en comparaciones realizadas con un arreglo 2/3. La respuesta esperada es su acercamiento al mejor caso posible. El largo **n** varía de 5 hasta 20."
      ],
      "metadata": {
        "id": "W-i-yqhYiQb2"
      }
    },
    {
      "cell_type": "code",
      "source": [
        "x=[n for n in range(5,21)] \n",
        "y1=[n*(n-1)/2 for n in range(5,21)] # worst case\n",
        "y2=[n-1 for n in range(5,21)] # best case\n",
        "y=[]; \n",
        "\n",
        "## experimental case\n",
        "for n in range(5,21):\n",
        "  a = array_2_3(n)\n",
        "  a,counter = InsertionSort(a)\n",
        "  y.append(counter)\n",
        "\n",
        "##Gráfica\n",
        "plt.plot(x,y)\n",
        "plt.plot(x,y1)\n",
        "plt.plot(x,y2)\n",
        "plt.legend([\"Insertion Sort\", \"theoretical worst case\", \"theoretical best case\"])\n",
        "\n",
        "plt.xlabel('n elements')\n",
        "plt.ylabel('number of operations')\n",
        "plt.show()"
      ],
      "metadata": {
        "colab": {
          "base_uri": "https://localhost:8080/",
          "height": 279
        },
        "id": "t8e1_VjJfdSJ",
        "outputId": "b39ccdb6-86c6-4cbc-8cb2-059badd2e13c"
      },
      "execution_count": null,
      "outputs": [
        {
          "output_type": "display_data",
          "data": {
            "text/plain": [
              "<Figure size 432x288 with 1 Axes>"
            ],
            "image/png": "[encoded data removed]"
          },
          "metadata": {
            "needs_background": "light"
          }
        }
      ]
    },
    {
      "cell_type": "markdown",
      "source": [
        "1. Resultado: Según lo esperado, cuando un arreglo está semi-ordenado en 2/3 de su totalidad y se compara los casos teóricos, los arreglos 2/3 están muy cerca del mejor caso."
      ],
      "metadata": {
        "id": "5aYXs3Q0hEOX"
      }
    },
    {
      "cell_type": "markdown",
      "source": [
        "2. Basándose en el resultado anterior, si los arreglos 2/3 están cerca del mejor caso, existe la posibilidad que en un análisis de su gráfica en tiempo de ejecución también presente una curva similar a la asíntota."
      ],
      "metadata": {
        "id": "6Q8ZhyIbjV8n"
      }
    },
    {
      "cell_type": "code",
      "source": [
        "x=[]; y=[]\n",
        "\n",
        "for n in range(5,500):\n",
        "\n",
        "  a = array_2_3(n)\n",
        "\n",
        "  #la función repeat está ejecutando 20 veces bubble_sort con el arreglo a y retorna el mejor tiepo obtenido.\n",
        "  t = repeat(setup=\"from __main__ import InsertionSort\", stmt=f\"InsertionSort({a})\", repeat=1, number=10)\n",
        "  \n",
        "  x.append(n)\n",
        "  y.append(t)\n",
        "\n",
        "\n",
        "plt.plot(x,y)\n",
        "plt.legend([\"InsertionSort\"])\n",
        "\n",
        "plt.xlabel('n')\n",
        "plt.ylabel('time in ms')\n",
        "plt.show()"
      ],
      "metadata": {
        "colab": {
          "base_uri": "https://localhost:8080/",
          "height": 279
        },
        "id": "8tfgD2szgpyv",
        "outputId": "f61f98f0-67c2-4d5b-db21-e3916aca6129"
      },
      "execution_count": null,
      "outputs": [
        {
          "output_type": "display_data",
          "data": {
            "text/plain": [
              "<Figure size 432x288 with 1 Axes>"
            ],
            "image/png": "[encoded data removed]"
          },
          "metadata": {
            "needs_background": "light"
          }
        }
      ]
    },
    {
      "cell_type": "markdown",
      "source": [
        "2. Resultado: Al ver la gráfica se intuye que a pesar  de estar ordenado en 2/3 de su totalidad, el tiempo de ejecución aún tiene una complejidad de O(n^2)."
      ],
      "metadata": {
        "id": "IYy-QoNjh_eH"
      }
    },
    {
      "cell_type": "markdown",
      "metadata": {
        "id": "hEtlU-n2yYki"
      },
      "source": [
        "# *8.2. Tiempo de ejecución experimental (InsertionSort vs BubbleSort)*"
      ]
    },
    {
      "cell_type": "markdown",
      "metadata": {
        "id": "UYVxIgZhBNUs"
      },
      "source": [
        "A continuación se realizará una comparación en los tiempos de ejecución del InsertionSort vs el BubbleSort, el largo **n** está entre 5 y 500\n",
        "* Se debe tener en cuenta que para las siguientes gráficas de tiempo puede haber picos muy exagerados, debido al procesador, puesto que son muchos arreglos a comparar  y puede haber otros procesos en curso, esto hace que tarden una cantidad de tiempo más notoria de lo normal.\n"
      ]
    },
    {
      "cell_type": "markdown",
      "source": [
        "* Primero que nada importamos el algoritmo BubbleSort"
      ],
      "metadata": {
        "id": "8HlJxC0omgiQ"
      }
    },
    {
      "cell_type": "code",
      "execution_count": null,
      "metadata": {
        "id": "O3ZbRhYx9a_s"
      },
      "outputs": [],
      "source": [
        "import datetime\n",
        "from timeit import repeat"
      ]
    },
    {
      "cell_type": "code",
      "execution_count": null,
      "metadata": {
        "id": "McNn9aje-TvX"
      },
      "outputs": [],
      "source": [
        "import copy\n",
        "\n",
        "def bubble_sort(a, verbose=False):\n",
        "    n = len(a)\n",
        "    T = 0 #contador de comparaciones\n",
        "\n",
        "    if verbose == True: print(\"input array:\",a)\n",
        "\n",
        "    for i in range(1,n+1):\n",
        "        if verbose == True: print(\"\\nPasada\",i)\n",
        "        # Flag que indica si el arreglo ya se encuentra ordenado\n",
        "        already_sorted = True\n",
        "\n",
        "        # Se recorre el arreglo\n",
        "        for j in range(n - i):\n",
        "            T +=1\n",
        "            if a[j] > a[j + 1]:\n",
        "                # Si el elemento es mayor al siguiente se intercambia\n",
        "                a[j], a[j + 1] = a[j + 1], a[j]\n",
        "                if verbose == True: \n",
        "                  print(str(a[:j])[1:-1],\",\",colored(f\"{str(a[j:j+2])[1:-1]}\",\"red\"),\",\",str(a[j+2:])[1:-1])\n",
        "\n",
        "                already_sorted = False\n",
        "\n",
        "        if already_sorted == False and verbose == True: \n",
        "           print(\"\\nAl finalizar pasada:\")\n",
        "           print(str(a[:n-i])[1:-1],\",\",colored(f\"{str(a[n-i:])[1:-1]}\",\"blue\"))\n",
        "\n",
        "        if already_sorted:\n",
        "            if verbose == True: print(\"is sorted!\")\n",
        "            break\n",
        "\n",
        "    if verbose == True: print(\"\\noutput array:\",a)\n",
        "\n",
        "    return a, T"
      ]
    },
    {
      "cell_type": "markdown",
      "metadata": {
        "id": "KQk6wH7HFauv"
      },
      "source": [
        "1. En este primer caso se compara el tiempo de cada algoritmo sobre el mismo arreglo para el largo predefinido."
      ]
    },
    {
      "cell_type": "code",
      "execution_count": null,
      "metadata": {
        "id": "TYrxplOrAzv5",
        "colab": {
          "base_uri": "https://localhost:8080/",
          "height": 279
        },
        "outputId": "7a96a406-63c9-4dbb-aa8c-a05a6520149c"
      },
      "outputs": [
        {
          "output_type": "display_data",
          "data": {
            "text/plain": [
              "<Figure size 432x288 with 1 Axes>"
            ],
            "image/png": "[encoded data removed]"
          },
          "metadata": {
            "needs_background": "light"
          }
        }
      ],
      "source": [
        "x=[]; y=[]; y1=[]\n",
        "\n",
        "for n in range(5,500):\n",
        "\n",
        "  a = random.sample(range(1, 1000), n)\n",
        "  b = a\n",
        "\n",
        "  #la función repeat está ejecutando 20 veces bubble_sort con el arreglo a y retorna el mejor tiepo obtenido.\n",
        "  t =repeat(setup=\"from __main__ import bubble_sort\", stmt=f\"bubble_sort({a})\", repeat=1, number=10)\n",
        "  t1 = repeat(setup=\"from __main__ import InsertionSort\", stmt=f\"InsertionSort({b})\", repeat=1, number=10)\n",
        "  \n",
        "\n",
        "  x.append(n)\n",
        "  y.append(t)\n",
        "  y1.append(t1)\n",
        "\n",
        "\n",
        "plt.plot(x,y)\n",
        "plt.plot(x,y1)\n",
        "plt.legend([\"BubbleSort\",\"InsertionSort\"])\n",
        "\n",
        "plt.xlabel('n')\n",
        "plt.ylabel('time in ms')\n",
        "plt.show()"
      ]
    },
    {
      "cell_type": "markdown",
      "metadata": {
        "id": "DuS7i5xtFztj"
      },
      "source": [
        "Como conclusión para este primer caso, vemos que el InsertionSort para arreglos cada vez más grandes tiene un menor tiempo de ejecución que el BubbleSort."
      ]
    },
    {
      "cell_type": "markdown",
      "metadata": {
        "id": "OuMFk12tHNdG"
      },
      "source": [
        "3. Para el siguiente caso, se realizará la comparación de dos arreglos distintos y aleatorios."
      ]
    },
    {
      "cell_type": "code",
      "execution_count": null,
      "metadata": {
        "id": "Xsksdpa4AYo_",
        "colab": {
          "base_uri": "https://localhost:8080/",
          "height": 279
        },
        "outputId": "fe125519-3498-4e26-921f-0b5dc4ff932f"
      },
      "outputs": [
        {
          "output_type": "display_data",
          "data": {
            "text/plain": [
              "<Figure size 432x288 with 1 Axes>"
            ],
            "image/png": "[encoded data removed]"
          },
          "metadata": {
            "needs_background": "light"
          }
        }
      ],
      "source": [
        "x=[]; y=[]; y1=[]\n",
        "\n",
        "for n in range(5,500):\n",
        "\n",
        "  a = random.sample(range(1, 1000), n)\n",
        "  b = random.sample(range(1, 1000), n)\n",
        "\n",
        "  #la función repeat está ejecutando 20 veces bubble_sort con el arreglo a y retorna el mejor tiepo obtenido.\n",
        "  t =repeat(setup=\"from __main__ import bubble_sort\", stmt=f\"bubble_sort({a})\", repeat=1, number=10)\n",
        "  t1 = repeat(setup=\"from __main__ import InsertionSort\", stmt=f\"InsertionSort({b})\", repeat=1, number=10)\n",
        "  \n",
        "\n",
        "  x.append(n)\n",
        "  y.append(t)\n",
        "  y1.append(t1)\n",
        "\n",
        "\n",
        "plt.plot(x,y)\n",
        "plt.plot(x,y1)\n",
        "plt.legend([\"BubbleSort\",\"InsertionSort\"])\n",
        "\n",
        "plt.xlabel('n')\n",
        "plt.ylabel('time in ms')\n",
        "plt.show()"
      ]
    },
    {
      "cell_type": "markdown",
      "metadata": {
        "id": "ZiEKqRiNIZXl"
      },
      "source": [
        "Podemos concluir que en este segundo caso, el InsertionSort tiene un tiempo de ejecución menor al BubbleSort, por lo que, entre estos dos algoritmos, el InsertionSort es mejor para problemas de ordenamiento."
      ]
    },
    {
      "cell_type": "markdown",
      "source": [
        "4. A continuación se hace una comparación en tiempo de ejecución con el bubbleSort en arreglos 2/3."
      ],
      "metadata": {
        "id": "c31cqQs1lZhe"
      }
    },
    {
      "cell_type": "code",
      "source": [
        "x=[]; y=[]; y1=[]\n",
        "\n",
        "for n in range(5,500):\n",
        "\n",
        "  a = array_2_3(n)\n",
        "  b = a\n",
        "\n",
        "  #la función repeat está ejecutando 20 veces bubble_sort con el arreglo a y retorna el mejor tiepo obtenido.\n",
        "  t =repeat(setup=\"from __main__ import bubble_sort\", stmt=f\"bubble_sort({a})\", repeat=1, number=10)\n",
        "  t1 = repeat(setup=\"from __main__ import InsertionSort\", stmt=f\"InsertionSort({b})\", repeat=1, number=10)\n",
        "  \n",
        "\n",
        "  x.append(n)\n",
        "  y.append(t)\n",
        "  y1.append(t1)\n",
        "\n",
        "\n",
        "plt.plot(x,y)\n",
        "plt.plot(x,y1)\n",
        "plt.legend([\"BubbleSort\",\"InsertionSort\"])\n",
        "\n",
        "plt.xlabel('n')\n",
        "plt.ylabel('time in ms')\n",
        "plt.show()"
      ],
      "metadata": {
        "colab": {
          "base_uri": "https://localhost:8080/",
          "height": 279
        },
        "id": "eQ2eG_kngHoI",
        "outputId": "5cd702d4-4147-4873-cc3a-6fa115ad369a"
      },
      "execution_count": null,
      "outputs": [
        {
          "output_type": "display_data",
          "data": {
            "text/plain": [
              "<Figure size 432x288 with 1 Axes>"
            ],
            "image/png": "[encoded data removed]"
          },
          "metadata": {
            "needs_background": "light"
          }
        }
      ]
    },
    {
      "cell_type": "markdown",
      "source": [
        "En resumen, al comparar un arreglo aleatorio y un arreglo 2/3 también se demuestra que el algoritmo InsertionSort es mejor para problemas de ordenamiento que un BubbleSort."
      ],
      "metadata": {
        "id": "OCmAlSZYlgf2"
      }
    },
    {
      "cell_type": "markdown",
      "metadata": {
        "id": "Un6yKtV2g_F7"
      },
      "source": [
        "https://es.slideshare.net/M1k3Z/insertion-sort-55547752\n",
        "\n",
        "https://www.programiz.com/dsa/insertion-sort"
      ]
    }
  ],
  "metadata": {
    "colab": {
      "collapsed_sections": [],
      "name": "Untitled0.ipynb",
      "provenance": [],
      "authorship_tag": "ABX9TyN/UEehVS1bnzmy0V3i5rDx",
      "include_colab_link": true
    },
    "kernelspec": {
      "display_name": "Python 3",
      "name": "python3"
    },
    "language_info": {
      "name": "python"
    }
  },
  "nbformat": 4,
  "nbformat_minor": 0
}