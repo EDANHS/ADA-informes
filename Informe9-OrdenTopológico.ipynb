{
  "nbformat": 4,
  "nbformat_minor": 0,
  "metadata": {
    "colab": {
      "provenance": [],
      "collapsed_sections": [
        "lKRW3Ln53hy3",
        "V3-Z8HkjqA1S",
        "jk1a2wPq2gC5",
        "YwI0EFH62tbW",
        "oAOlE_VuuYym"
      ],
      "authorship_tag": "ABX9TyNs8lYZPGt9MaTKzIBdJSae",
      "include_colab_link": true
    },
    "kernelspec": {
      "name": "python3",
      "display_name": "Python 3"
    },
    "language_info": {
      "name": "python"
    }
  },
  "cells": [
    {
      "cell_type": "markdown",
      "metadata": {
        "id": "view-in-github",
        "colab_type": "text"
      },
      "source": [
        "<a href=\"https://colab.research.google.com/github/EDANHS/ADA-informes/blob/main/Informe9-OrdenTopol%C3%B3gico.ipynb\" target=\"_parent\"><img src=\"https://colab.research.google.com/assets/colab-badge.svg\" alt=\"Open In Colab\"/></a>"
      ]
    },
    {
      "cell_type": "markdown",
      "source": [
        "# Orden topológico"
      ],
      "metadata": {
        "id": "TiLzyaFKhqm0"
      }
    },
    {
      "cell_type": "markdown",
      "source": [
        "###Definición del orden topológico\n",
        "\n",
        "Sea $G=(V,E)$ un grafo dirigido. Un orden topológico de $G$ es una asignación $f(v)$ a cada vértice $v\\in V$ con distintos números, tal que para cada arco $(v,w)\\in E$, se cumple que $f(v)<f(w)$."
      ],
      "metadata": {
        "id": "QQmnJ-tPEGEb"
      }
    },
    {
      "cell_type": "markdown",
      "source": [
        "# 1. Descripción del problema\n",
        "\n",
        "---\n",
        "\n",
        "\n",
        "Dadas algunas actividades, tareas, etc. que posean alguna restricción previa, que no permite empezar alguna actividad sin completar otras, se pide encontrar un orden para realizarlas. El ordenamiento topológico es un algoritmo que sirve para ordenar alguna actividad que posee una restricción previa devolviendo una secuencia de dichas actividades respetando las restricciones.\n",
        "\n",
        "$Entrada:$ Grafo dirigido sin ciclos $G=(V,E)$.\n",
        "\n",
        "$Salida:$ Un orden topológico de los vértices de $G$. Es decir, una asignación $f(v)$ a cada vértice $v\\in V$, tal que para cada arco $(v,w)\\in E$, se cumple que $f(v)<f(w)$.\n",
        "\n",
        "---"
      ],
      "metadata": {
        "id": "EaGOg9eD87h1"
      }
    },
    {
      "cell_type": "markdown",
      "source": [
        "# 2. Descripción del algoritmo\n",
        "\n",
        "---\n",
        "\n",
        "Para encontrar un orden topológico de un grafo $G$, se debe saber que es una **búsqueda en profundidad**, dicha búsqueda es un algoritmo que recorre cada nodo en un grafo de manera ordenada, esta tiene tres tipos de recorridos:\n",
        "\n",
        "* En pre-orden\n",
        "* En orden\n",
        "* En post-orden\n",
        "\n",
        "En el algoritmo de ordenamiento topológico se ocupa **post-orden** para encontrar el orden lineal que se debe seguir para realizar las tareas, dicho recorrido se encarga de visitar todos los hijos.\n"
      ],
      "metadata": {
        "id": "R22TSBfMDw63"
      }
    },
    {
      "cell_type": "markdown",
      "source": [
        "![image](https://i.stack.imgur.com/4goj8.jpg)\n",
        "\n",
        "*Imagen extraída de stackoverflow*\n"
      ],
      "metadata": {
        "id": "DBQt2tGeps0p"
      }
    },
    {
      "cell_type": "markdown",
      "source": [
        "Teniendo claro la búsqueda en profundidad post orden, podemos decir que para un grafo $G$, de tamaño $n$, los pasos que realiza el algoritmo son los siguientes:\n",
        "\n",
        "1. Se debe tener un contador $F$ que indique la cantidad de nodos en el grafo.\n",
        "\n",
        "2. La búsqueda comienza en un nodo aleatorio sin visitar.\n",
        "\n",
        "3. Se aplica búsqueda en profundidad en el grafo.\n",
        "\n",
        "4. En consecuencia a la búsqueda en profundidad, al visitar un nodo se le asigna un valor $f(v)$, donde dicho valor es igual a $F$.\n",
        "\n",
        "5. Como ya $F$ fue asignado a un nodo, $F$ pasa a ser $F - 1$\n",
        "\n",
        "6. Se repiten los pasos hasta haber asignado a los $n$ nodos los $F$ valores.\n",
        "\n",
        "---"
      ],
      "metadata": {
        "id": "-lTLCxpOp-Ud"
      }
    },
    {
      "cell_type": "markdown",
      "source": [
        "#3. Código\n",
        "\n",
        "A continuación, se mostrará la implementación del algoritmo de orden topológico recursivo con DFS-Post-orden."
      ],
      "metadata": {
        "id": "QCUsDpCVoFQS"
      }
    },
    {
      "cell_type": "code",
      "source": [
        "from networkx.drawing.nx_pydot import graphviz_layout\n",
        "from collections import defaultdict\n",
        "import math\n",
        "import random\n",
        "import matplotlib.pyplot as plt\n",
        "import networkx as nx\n",
        "from termcolor import colored"
      ],
      "metadata": {
        "id": "wZNYCLmMqLQg"
      },
      "execution_count": null,
      "outputs": []
    },
    {
      "cell_type": "markdown",
      "source": [
        "## Código de visualización\n",
        "\n",
        "1. Código para visualizar el grafo."
      ],
      "metadata": {
        "id": "lKRW3Ln53hy3"
      }
    },
    {
      "cell_type": "code",
      "source": [
        "def visualize(G):\n",
        "  pos=nx.spring_layout(G)\n",
        "  labels = nx.get_edge_attributes(G,'weight')\n",
        "  nx.draw_networkx_edge_labels(G,pos,edge_labels=labels,font_size=14)\n",
        "  node_size = 500\n",
        "  nx.draw(G, pos, with_labels=True, node_size=node_size, font_color=\"black\", font_size=8, width  =1.0)\n",
        "  nodes = nx.draw_networkx_nodes(G, pos,  node_size=node_size, node_color=\"white\")\n",
        "  nodes.set_edgecolor('black')"
      ],
      "metadata": {
        "id": "huWcbCdS3tJk"
      },
      "execution_count": null,
      "outputs": []
    },
    {
      "cell_type": "markdown",
      "source": [
        "## Generador de instacias\n",
        "\n",
        "1. Aqui estan los codigos que permiten generar un grafo"
      ],
      "metadata": {
        "id": "V3-Z8HkjqA1S"
      }
    },
    {
      "cell_type": "code",
      "source": [
        "# Crea un grafo sin ciclos de nodos de 0 a V - 1\n",
        "# Retorna un dicionario [defaultdict(list)] \n",
        "# de key valor del nodo (0 a V - 1) y de value una \n",
        "# lista con los nodos a los cuales se conecta\n",
        "def graph_instance_creator(V):\n",
        "\n",
        "  ##Crea un arreglo entre 0 y v hasta v\n",
        "  nodes = random.sample(range(0, V), V)\n",
        "  ##Divide crear una variable que divide el tamaño en 4\n",
        "  div = int(math.ceil(V / 4))\n",
        "\n",
        "  ##Asigna div a un current\n",
        "  current_div = div\n",
        "  ##Crea un diccionario\n",
        "  graph = defaultdict(list)\n",
        "\n",
        "  ##calcula el tamaño de los nodos, en un rango de 0 a n, y\n",
        "  ##luego lo revierte, por lo que va desde n hasta 0\n",
        "  for i in reversed(range(len(nodes))):\n",
        "\n",
        "    ##Crea una lista auxiliar\n",
        "    selectables = []\n",
        "\n",
        "    ##Si n - current <= 0, la lista auxiliar es una random \n",
        "    ## de nodes, escogidos aleatoriamente entre 1 y n\n",
        "    if (len(nodes) - current_div <= 0):\n",
        "      selectables = random.sample(nodes, random.randint(1, len(nodes)))\n",
        "    else:\n",
        "      ##lista que se crea de 0 hasta n - current\n",
        "      population = nodes[:len(nodes)-current_div]\n",
        "      ##manejo de caso si no da justo 4\n",
        "      end = len(population) if len(population) < 4 else 4\n",
        "      ##la lista auxiliar se obtiene de population que va\n",
        "      ## desde 1 hasta end\n",
        "      selectables = random.sample(population, random.randint(1, end))\n",
        "    \n",
        "    ##Una vez creada la lista auxiliar, se itera a traves de \n",
        "    ##Esta obteniendo los objetos que almacena\n",
        "    for selectable in selectables:\n",
        "      ##Si el nodo i-ésimo es distinto de selectable y no \n",
        "      ##esta en el grafo, lo agregamos\n",
        "      if (nodes[i] != selectable and not selectable in graph[nodes[i]]):\n",
        "        graph[nodes[i]].append(selectable)\n",
        "\n",
        "    ##actualizamos current aumentandolo en 4\n",
        "    if (i < len(nodes) - current_div):\n",
        "      current_div += div\n",
        "\n",
        "  return graph"
      ],
      "metadata": {
        "id": "LueppA3OqERT"
      },
      "execution_count": null,
      "outputs": []
    },
    {
      "cell_type": "code",
      "source": [
        "# Recibe un grafo de tipo [defaultdict(list)]\n",
        "# Retorna un nx.DiGraph de la libreria networkx\n",
        "# Se modifico para crear una copia del grafo\n",
        "def graph_to_nxdigraph(graph):\n",
        "  nxdigraph = nx.DiGraph()\n",
        "  nxdigraph1 = nx.DiGraph() \n",
        "  for i in graph.keys():\n",
        "    nxdigraph.add_node(i)\n",
        "    nxdigraph1.add_node(i)\n",
        "    for v in graph[i]:\n",
        "      nxdigraph.add_edge(i, v)\n",
        "      nxdigraph1.add_edge(i, v)\n",
        "  return nxdigraph,nxdigraph1"
      ],
      "metadata": {
        "id": "apVN-PT7wylE"
      },
      "execution_count": null,
      "outputs": []
    },
    {
      "cell_type": "markdown",
      "source": [
        "## Algoritmos de orden topológico recursivo\n",
        "\n",
        "2. Primero que nada tenemos el algoritmo DFS-Post-orden recursivo"
      ],
      "metadata": {
        "id": "jk1a2wPq2gC5"
      }
    },
    {
      "cell_type": "code",
      "source": [
        "def topologicalSort(G,node,visited,stack,Verbose = False):\n",
        "  visited[node] = True\n",
        "  if Verbose == True:\n",
        "    print(\"-------------------\")\n",
        "  for i in G[node]:\n",
        "    if Verbose == True:\n",
        "      print(colored(\"En nodo: \",'yellow'),colored(i,'cyan'),\" buscando si fue visitado\")\n",
        "    if visited[i] == False:\n",
        "      if Verbose == True:\n",
        "        print(\"Nodo \",colored(i,'red'),\" no visitado, llamando a la función recursivamente\")\n",
        "      topologicalSort(G,i,visited,stack,Verbose)\n",
        "  if Verbose == True:\n",
        "    print(\"-------------------\")\n",
        "  if Verbose == True:\n",
        "    print(\"agregando nodo: \",colored(node,'red'),\"al stack\")\n",
        "  stack.append(node)\n",
        "\n",
        "\n",
        "def DFS(G,Verbose = False):\n",
        "  visited = [False]*len(G)\n",
        "  arr = []\n",
        "  if Verbose == True:\n",
        "    print(\"====================================\")\n",
        "    print(colored(\"Buscando el orden topológico...\",'green'))\n",
        "  for node in G:\n",
        "    if visited[node] == False:\n",
        "      if Verbose == True:\n",
        "        print(\"Buscando orden topológico en nodo\",colored(node,'blue'))\n",
        "      topologicalSort(G,node,visited,arr,Verbose)\n",
        "  \n",
        "  if Verbose == True:\n",
        "    print(\"====================================\")\n",
        "\n",
        "  return arr[::-1]\n",
        "\n",
        "def recursive(G = None, G1 = None, Verbose = False, Visualize = False):\n",
        "  if Verbose  == True:\n",
        "    print(\"--------------\",colored(\"Verbose DFS Recursivo\",'magenta'),\"--------------\")\n",
        "    print(\"El grafo posee:\",end=' ')\n",
        "    print(colored(G,'cyan'))\n",
        "    print(\"-----------------------------------------------\")\n",
        "\n",
        "  arr = DFS(G,Verbose)\n",
        "\n",
        "  if Verbose == True:\n",
        "    print(\"-----------------------------------------------\")\n",
        "    print(\"El orden topológico para el grafo G es:\")\n",
        "    print(colored(arr,'red'))\n",
        "    print(\"-----------------------------------------------\")\n",
        "\n",
        "  ##Mostrar despues de encontrar el orden topológico\n",
        "  if Visualize == True:\n",
        "    print(\"\\n------------------\",colored(\"Grafo 'G'\",'blue'),\"------------------\")\n",
        "    visualize(G1)\n"
      ],
      "metadata": {
        "id": "gmpXLz5-8_aA"
      },
      "execution_count": 232,
      "outputs": []
    },
    {
      "cell_type": "markdown",
      "source": [
        "## Algoritmo de orden topológico iterativo\n",
        "\n",
        "3. En segunda instancia esta el algoritmo DFS-Post-orden iterativo.\n"
      ],
      "metadata": {
        "id": "YwI0EFH62tbW"
      }
    },
    {
      "cell_type": "code",
      "source": [
        "def dfs(T, initial=0,orden=[],Verbose = False):\n",
        "   \n",
        "   if Verbose == True:\n",
        "     print(\"===============================================\")\n",
        "     print(colored(\"Entrando al DFS...\",'yellow'))\n",
        "\n",
        "   state = dict()\n",
        "   for n in T: state[n]=\"no descubierto\"\n",
        "   \n",
        "   if Verbose == True:\n",
        "     print(\"Marcando el grafo:\",end=\" \")\n",
        "     print(colored(T,'cyan'))\n",
        "     print(\"como:\",colored(\"no descubierto\",'red'),end='\\n\\n')\n",
        "\n",
        "   S=[initial] #stack\n",
        "   count = 1\n",
        "\n",
        "   while len(S)>0:\n",
        "     n=S.pop()\n",
        "\n",
        "     if state[n]==\"no descubierto\": #primera pasada\n",
        "       state[n]=\"descubierto\"\n",
        "       S.append(n)\n",
        "       for adj in reversed(list(T[n])):\n",
        "         if state[adj]== \"no descubierto\": S.append(adj)\n",
        "     elif state[n]==\"descubierto\": #segunda pasada\n",
        "       state[n] =\"visitado\"\n",
        "       orden.append(n)\n",
        "       if Verbose == True:\n",
        "          print(\"Agregando el elemento:\",colored(n,'red'),\"al orden topológico\")\n",
        "\n",
        "   if Verbose == True:\n",
        "     print(\"===============================================\")\n",
        "\n",
        "##Copiar lo de una lista a otra\n",
        "def copy(orden,orden1):\n",
        "  for i in orden1:\n",
        "    orden.append(i)\n",
        "\n",
        "def eliminar(G,aux):\n",
        "  for i in aux:\n",
        "      G.remove_node(i)\n",
        "  return G\n",
        "\n",
        "def DFS_iterative(G,Verbose = False):\n",
        "  arr = []\n",
        "  aux = []\n",
        "  initial = 0\n",
        "\n",
        "  if Verbose == True:\n",
        "    print(colored(\"Buscando el orden topológico...\",'green'))\n",
        "\n",
        "  while G.number_of_nodes()>0:\n",
        "\n",
        "    #DFS\n",
        "    dfs(G,initial,aux,Verbose)\n",
        "\n",
        "    #Copiar contenido\n",
        "    copy(arr,aux)\n",
        "\n",
        "    ##Eliminar nodos\n",
        "    G = eliminar(G, aux)\n",
        "\n",
        "    if Verbose == True:\n",
        "      print(\"===============================================\")\n",
        "      print(\"---Eliminando nodos ya visitados del grafo----\")\n",
        "      print(colored(G,'magenta'))\n",
        "      print(colored(\"Grafo actual:\",'cyan'),end=' ')\n",
        "      print(colored(list(G),'red'))\n",
        "      print(\"===============================================\\n\")\n",
        "\n",
        "    if G.number_of_nodes() == 0: \n",
        "      if Verbose == True:\n",
        "        print(colored(\"Como ya no hay nodos por recorrer tenemos listo\",'yellow'))\n",
        "        print(colored(\"nuestro orden topológico ;)\",'yellow'))\n",
        "      break\n",
        "\n",
        "\n",
        "    #declarar el primer nodo\n",
        "    initial = list(G.nodes)[0]\n",
        "\n",
        "    #limpiar lista auxiliar\n",
        "    aux.clear()\n",
        "\n",
        "  if Verbose == True:\n",
        "    print(\"Orden topológico obtenido al final del algoritmo:\")\n",
        "    print(colored(arr,'blue'))\n",
        "  arr = arr[::-1]\n",
        "  return arr\n",
        "  \n",
        "\n",
        "\n",
        "##Algoritmo para ver grafo, verbose y calcular el orden topologico\n",
        "def iterative(G = None, G1 = None, Verbose = False, Visualize = False):\n",
        "\n",
        "  if Verbose  == True:\n",
        "    print(\"--------------\",colored(\"Verbose DFS Iterativo\",'magenta'),\"--------------\")\n",
        "    print(\"El grafo posee:\",end=' ')\n",
        "    print(colored(G,'cyan'))\n",
        "    print(\"-----------------------------------------------\")\n",
        "\n",
        "  arr = DFS_iterative(G,Verbose)\n",
        "  \n",
        "  if Verbose == True:\n",
        "    print(\"-----------------------------------------------\")\n",
        "    print(\"El orden topológico para el grafo G es:\")\n",
        "    print(colored(arr,'red'))\n",
        "    print(\"-----------------------------------------------\")\n",
        "\n",
        "  ##Mostrar despues de encontrar el orden topológico\n",
        "  if Visualize == True:\n",
        "    print(\"\\n------------------\",colored(\"Grafo 'G'\",'blue'),\"------------------\")\n",
        "    visualize(G1)\n"
      ],
      "metadata": {
        "id": "vXPyx4eB3T9A"
      },
      "execution_count": 222,
      "outputs": []
    },
    {
      "cell_type": "markdown",
      "source": [
        "##Ejemplo con Vizualize y Verbose con valor 'True'"
      ],
      "metadata": {
        "id": "oAOlE_VuuYym"
      }
    },
    {
      "cell_type": "markdown",
      "source": [
        "1. A continuación, se muestra el algoritmo recursiva para encontrar el orden topológico de un grafo de tamaño 5 generado de manera aleatoria con el creador de grafos entregado en la guía. Al pasar la variable Verbose = True, podemos ver los pasos del algoritmo y al pasar la variable Visualize = True se muestra el grafo."
      ],
      "metadata": {
        "id": "xbw6ja2pbSYx"
      }
    },
    {
      "cell_type": "code",
      "source": [
        "T,T1 = graph_to_nxdigraph(graph_instance_creator(5))\n",
        "recursive(T,T1,True,True)"
      ],
      "metadata": {
        "colab": {
          "base_uri": "https://localhost:8080/",
          "height": 959
        },
        "id": "KQ2Pjdawbp4d",
        "outputId": "341aa7d4-687b-419a-dc66-7bd96071ded4"
      },
      "execution_count": 235,
      "outputs": [
        {
          "output_type": "stream",
          "name": "stdout",
          "text": [
            "-------------- \u001b[35mVerbose DFS Recursivo\u001b[0m --------------\n",
            "El grafo posee: \u001b[36mDiGraph with 5 nodes and 9 edges\u001b[0m\n",
            "-----------------------------------------------\n",
            "====================================\n",
            "\u001b[32mBuscando el orden topológico...\u001b[0m\n",
            "Buscando orden topológico en nodo \u001b[34m4\u001b[0m\n",
            "-------------------\n",
            "\u001b[33mEn nodo: \u001b[0m \u001b[36m1\u001b[0m  buscando si fue visitado\n",
            "Nodo  \u001b[31m1\u001b[0m  no visitado, llamando a la función recursivamente\n",
            "-------------------\n",
            "\u001b[33mEn nodo: \u001b[0m \u001b[36m2\u001b[0m  buscando si fue visitado\n",
            "Nodo  \u001b[31m2\u001b[0m  no visitado, llamando a la función recursivamente\n",
            "-------------------\n",
            "-------------------\n",
            "agregando nodo:  \u001b[31m2\u001b[0m al stack\n",
            "-------------------\n",
            "agregando nodo:  \u001b[31m1\u001b[0m al stack\n",
            "\u001b[33mEn nodo: \u001b[0m \u001b[36m2\u001b[0m  buscando si fue visitado\n",
            "\u001b[33mEn nodo: \u001b[0m \u001b[36m3\u001b[0m  buscando si fue visitado\n",
            "Nodo  \u001b[31m3\u001b[0m  no visitado, llamando a la función recursivamente\n",
            "-------------------\n",
            "\u001b[33mEn nodo: \u001b[0m \u001b[36m2\u001b[0m  buscando si fue visitado\n",
            "\u001b[33mEn nodo: \u001b[0m \u001b[36m1\u001b[0m  buscando si fue visitado\n",
            "-------------------\n",
            "agregando nodo:  \u001b[31m3\u001b[0m al stack\n",
            "-------------------\n",
            "agregando nodo:  \u001b[31m4\u001b[0m al stack\n",
            "Buscando orden topológico en nodo \u001b[34m0\u001b[0m\n",
            "-------------------\n",
            "\u001b[33mEn nodo: \u001b[0m \u001b[36m3\u001b[0m  buscando si fue visitado\n",
            "\u001b[33mEn nodo: \u001b[0m \u001b[36m1\u001b[0m  buscando si fue visitado\n",
            "\u001b[33mEn nodo: \u001b[0m \u001b[36m2\u001b[0m  buscando si fue visitado\n",
            "-------------------\n",
            "agregando nodo:  \u001b[31m0\u001b[0m al stack\n",
            "====================================\n",
            "-----------------------------------------------\n",
            "El orden topológico para el grafo G es:\n",
            "\u001b[31m[0, 4, 3, 1, 2]\u001b[0m\n",
            "-----------------------------------------------\n",
            "\n",
            "------------------ \u001b[34mGrafo 'G'\u001b[0m ------------------\n"
          ]
        },
        {
          "output_type": "display_data",
          "data": {
            "text/plain": [
              "<Figure size 432x288 with 1 Axes>"
            ],
            "image/png": "[encoded data removed]"
          },
          "metadata": {}
        }
      ]
    },
    {
      "cell_type": "markdown",
      "source": [
        "2. A continuación, se muestra el algoritmo iterativo para encontrar el orden topológico de un grafo de tamaño 5 generado de manera aleatoria con el creador de grafos entregado en la guía, al pasar la variable Verbose = True, podemos ver los pasos del algoritmo y al pasar la variable Visualize = True se muestra el grafo."
      ],
      "metadata": {
        "id": "VekzZrm9a7Ah"
      }
    },
    {
      "cell_type": "code",
      "source": [
        "G,G1 = graph_to_nxdigraph(graph_instance_creator(5))\n",
        "iterative(G,G1,True,True)"
      ],
      "metadata": {
        "colab": {
          "base_uri": "https://localhost:8080/",
          "height": 994
        },
        "id": "hafPJ8mGuhYn",
        "outputId": "752072d5-a81b-47d1-bde7-701dcb4a3207"
      },
      "execution_count": 223,
      "outputs": [
        {
          "output_type": "stream",
          "name": "stdout",
          "text": [
            "-------------- \u001b[35mVerbose DFS Iterativo\u001b[0m --------------\n",
            "El grafo posee: \u001b[36mDiGraph with 5 nodes and 6 edges\u001b[0m\n",
            "-----------------------------------------------\n",
            "\u001b[32mBuscando el orden topológico...\u001b[0m\n",
            "===============================================\n",
            "\u001b[33mEntrando al DFS...\u001b[0m\n",
            "Marcando el grafo: \u001b[36mDiGraph with 5 nodes and 6 edges\u001b[0m\n",
            "como: \u001b[31mno descubierto\u001b[0m\n",
            "\n",
            "Agregando el elemento: \u001b[31m2\u001b[0m al orden topológico\n",
            "Agregando el elemento: \u001b[31m3\u001b[0m al orden topológico\n",
            "Agregando el elemento: \u001b[31m0\u001b[0m al orden topológico\n",
            "===============================================\n",
            "===============================================\n",
            "---Eliminando nodos ya visitados del grafo----\n",
            "\u001b[35mDiGraph with 2 nodes and 1 edges\u001b[0m\n",
            "\u001b[36mGrafo actual:\u001b[0m \u001b[31m[1, 4]\u001b[0m\n",
            "===============================================\n",
            "\n",
            "===============================================\n",
            "\u001b[33mEntrando al DFS...\u001b[0m\n",
            "Marcando el grafo: \u001b[36mDiGraph with 2 nodes and 1 edges\u001b[0m\n",
            "como: \u001b[31mno descubierto\u001b[0m\n",
            "\n",
            "Agregando el elemento: \u001b[31m4\u001b[0m al orden topológico\n",
            "Agregando el elemento: \u001b[31m1\u001b[0m al orden topológico\n",
            "===============================================\n",
            "===============================================\n",
            "---Eliminando nodos ya visitados del grafo----\n",
            "\u001b[35mDiGraph with 0 nodes and 0 edges\u001b[0m\n",
            "\u001b[36mGrafo actual:\u001b[0m \u001b[31m[]\u001b[0m\n",
            "===============================================\n",
            "\n",
            "\u001b[33mComo ya no hay nodos por recorrer tenemos listo\u001b[0m\n",
            "\u001b[33mnuestro orden topológico ;)\u001b[0m\n",
            "Orden topológico obtenido al final del algoritmo:\n",
            "\u001b[34m[2, 3, 0, 4, 1]\u001b[0m\n",
            "-----------------------------------------------\n",
            "El orden topológico para el grafo G es:\n",
            "\u001b[31m[1, 4, 0, 3, 2]\u001b[0m\n",
            "-----------------------------------------------\n",
            "\n",
            "------------------ \u001b[34mGrafo 'G'\u001b[0m ------------------\n"
          ]
        },
        {
          "output_type": "display_data",
          "data": {
            "text/plain": [
              "<Figure size 432x288 with 1 Axes>"
            ],
            "image/png": "[encoded data removed]"
          },
          "metadata": {}
        }
      ]
    },
    {
      "cell_type": "markdown",
      "source": [
        "# 4. Correctitud\n",
        "\n",
        "Para demostrar que el algoritmo es correcto debemos tener en cuenta la siguiente restricción: “Para encontrar el orden topológico de un grafo dirigido, este debe ser acíclico” o mejor dicho, que no posea ciclos.\n",
        "¿Como podemos demostrar que un grafo dirigido es acíclico? Primero vamos a plantear una hipótesis.\n",
        "\n",
        "---\n",
        "\n",
        "####**Hipótesis:**  *Si un grafo es dirigido y acíclico entonces debería existir un orden topológico.*\n",
        "\n",
        "---\n",
        "\n",
        "Se intentará validar dicha hipótesis mediante el siguiente teorema.\n",
        "\n",
        "---\n",
        "\n",
        "####**Teorema:** *Cualquier grafo dirigido sin ciclos tiene al menos un orden topológico.*\n",
        "\n",
        "---\n",
        "\n",
        "Para demostrar dicho teorema se deben considerar el siguiente lema.\n",
        "\n",
        "---\n",
        "\n",
        "####**Lema 1:** *Todo DAG (Grafo acíclico dirigido) tiene un origen.*\n",
        "\n",
        "El lema 1 se puede demostrar al escoger un vértice arbitrario de un grafo acíclico dirigido y recorrerlo hacia el origen. Si es acíclico llegaremos a un vértice origen.\n",
        "\n",
        "El teorema se demuestra pensando en la idea de crear un orden topológico de izquierda a derecha tomando un vértice origen.\n",
        "\n",
        "**Prueba del teorema:**\n",
        "\n",
        "Sea un grafo G acíclico dirigido con ‘n’ vértices. Se debe asignar valores $f$ a los vértices de forma creciente de 1 hasta $n$. Al dejar un vértice $‘v_1’ $ como vértice origen, nos aseguramos que el ordenamiento no se realizara en otro sentido, por ende, es obligatorio escoger un vértice origen para asignar valor a $f$.\n",
        "\n",
        "Gracias al lema 1, nos asegura la existencia de G, entonces a su vértice $‘v_1’ $ se le asigna el valor f(v_1) = 1. Si ocupamos recursividad, podemos generar un grafo $G_0$ al eliminar el vértice $‘v_1’$, dando que los vértices que se pueden marcar partiendo de 2 hasta n y como G es acíclico dirigido, condena a que G0 también lo sea, puesto que eliminar cosas no crea ciclos nuevos entonces queda comprobado que $G_0$ es acíclico dirigido. Al ir reduciendo el grafo por recursión se puede crear el orden topológico eliminando vértices.\n",
        "\n",
        "---\n",
        "\n",
        "Ahora que demostramos que todo grafo dirigido acíclico posee orden topológico se debe demostrar que el algoritmo encuentra dicho orden, con ello se debe preguntar: ¿Es posible encontrar un orden topológico para un grafo dirigido acíclico mediante un algoritmo?, a dicha pregunta se da la siguiente hipótesis.\n",
        "\n",
        "---\n",
        "\n",
        "####**Hipótesis:** *Existe un algoritmo que permite encontrar el orden topológico de un grafo dirigido acíclico.*\n",
        "\n",
        "---\n",
        "\n",
        "Para esto se determina el siguiente teorema.\n",
        "\n",
        "---\n",
        "\n",
        "####**Teorema:** El algoritmo para encontrar un orden topológico de un grafo dirigido acíclico retorna una secuencia de los elementos con cierto orden.\n",
        "\n",
        "---\n",
        "\n",
        "Mediante inducción probaremos que el algoritmo es correcto.\n",
        "\n",
        "Sea $P(1)$ el caso base donde el grafo posee un único elemento, se puede considerar su orden topológico como el mismo elemento sin otra opción posible, en caso de tener un grafo con dos nodos y un arco se podría considerar también como un caso base el nodo origen y luego el siguiente nodo.\n",
        "Dado que el algoritmo se implementa mediante BFS en Post-orden, tenemos un recorrido de final a inicio, esto debemos tenerlo en consideración para explicar el siguiente paso.\n",
        "\n",
        "Para $P(m)$ casos con m < n, se puede considerar que el algoritmo asignará un favor $f$ a un nodo $’v’$ desde $m$ hasta 1, por ende, se tendrá un orden de recorrido para el grafo $G_0$, a medida que se va visitando y asignando valores al grafo, el algoritmo va guardando el orden topológico encontrado desde el ultimo nodo que iría en dicho orden hasta el nodo m, por lo tanto, obtenemos un orden que va de fin a inicio mientras se visitan los nodos.\n",
        "\n",
        "Como el grafo $G_0$ es dirigido y acíclico completará su recorrido a los $n$ nodos, dando que se encontrará un orden topológico para el grafo $G$, por lo que se demuestra que el algoritmo es correcto.\n",
        "\n",
        "---"
      ],
      "metadata": {
        "id": "b0XZRRZeyjig"
      }
    },
    {
      "cell_type": "markdown",
      "source": [
        "##5. Tiempo de Ejecución:\n",
        "\n",
        "**Teorema:** El tiempo de ejecución para encontrar el orden topológico es $O(|V|+|E_v|)$.\n",
        "\n",
        "En base al teorema anterior, podemos calcular el tiempo de ejecución considerando lo siguiente:\n",
        "\n",
        "Para encontrar el tiempo de ejecución del orden topológico, se realizará un análisis específico a cada paso que realiza el algoritmo:\n",
        "\n",
        "---\n",
        "###Paso 1: Creación de listas.\n",
        "\n",
        "Este paso sólo crea estructuras auxiliares que se utilizarán la función en los siguientes procedimientos. Por lo tanto, este paso tiene complejidad temporal $O(1)$.\n",
        "\n",
        "---\n",
        "###Paso 2: Ciclo de DFS.\n",
        "\n",
        "####Paso 2.1: DFS.\n",
        "En este paso se llama a la función \"DFS\" para realizar una búsqueda en profundidad en el grafo según el valor \"initial\" que se le haya asignado en un inicio. El DFS debe recorrer una cierta cantidad de nodos $m$, cumpliéndose que $m < V$, con $V$ = cantidad de nodos en el grafo. Durante el recorrido, se debe agregar a la lista auxiliar creada los nodos que son visitados.\n",
        "\n",
        "Al trabajar con un \"sub-grafo\" el DFS que tarda en promedio a nivel general $O(|V|+|E_v|)$, tendrá una complejidad de $O(|m| + |e_m|)$. \n",
        "\n",
        "####Paso 2.2: Traspasar datos de lista.\n",
        "Después de recorrer el grafo, se deben agregar los nodos de la lista auxiliar a la lista de orden topológico. Esta acción se realiza gracias a un ciclo for, por lo que hará $m$ pasos.\n",
        "\n",
        "####Paso 2.3: Eliminar nodos del grafo.\n",
        "Luego de ejecutar lo anterior, es necesario eliminar los nodos visitados (presentes en la lista auxiliar) del grafo inicial. Este proceso se realiza con un ciclo for y un método propio del grafo, y considerando que la lista auxiliar tiene $m$ elementos, entonces esta función tarda $O(m)$ también. Es necesario también eliminar los nodos que estaban en la lista auxiliar.\n",
        "\n",
        "####Paso 2.4: Definir un nuevo nodo inicial.\n",
        "En caso de que aún queden nodos en el grafo, resultará necesaria otra iteración. Por ende, se debe elegir un nuevo valor inicial para iterar en el grafo. Sin embargo, este paso se puede realizar de varias formas simples, y no debería tomar más que $O(1)$.\n",
        "\n",
        "####Conclusión del Paso 2.\n",
        "Si bien, al juntar todos los pasos queda una complejidad de $O(m)$, se debe considerar al momento del análisis que el ciclo while que opera a todas las instrucciones anteriores se ejecutará hasta que el DFS y la lista hayan procesado a todos los elementos. Dado a que se van eliminando los nodos del grafo, se asegura que no se recorrerán más veces los datos, por lo tanto, la complejidad temporal de este paso puede reducirse a operar las 3 primeras instrucciones en los $V$ nodos del grafo, o sea, complejidad $O(|V|+|E_v|)$.\n",
        "\n",
        "---\n",
        "###Paso 3: Invertir el orden de la lista oficial.\n",
        "El DFS agrega los nodos desde el último visitado, hasta el nodo de origen del camino seleccionado en la iteración, por ende, al momento de agregar estos a la lista auxiliar, estos quedarán en el orden inverso al esperado. Para solucionar esto, se puede realizar una función que genere una nueva lista con los datos invertidos, lo cual no debería tardar más de O(V).\n",
        "\n",
        "---\n",
        "###Conclusión:\n",
        "Finalmente, teniendo todos los pasos completamente analizados, se puede calcular el tiempo de ejecución del algoritmo como: $O(1) + O(|V|+|E_v|) + O(|V|) = O(|V|+|E_v|)$."
      ],
      "metadata": {
        "id": "DtK7_MnPyp3H"
      }
    },
    {
      "cell_type": "markdown",
      "source": [
        "#6. Experimentos"
      ],
      "metadata": {
        "id": "Aqo1HX7eytxb"
      }
    },
    {
      "cell_type": "markdown",
      "source": [
        "Para realizar la sección de los experimentos, se analizarán los tiempo de ejecución de cada algoritmo por separado, dado que uno es recursivo será mejor mostrarlo como experimento aparte.\n",
        "\n",
        "Los experimentos se harán con grafos entre 5 y 100 nodos."
      ],
      "metadata": {
        "id": "Ke5B-wJufQ0h"
      }
    },
    {
      "cell_type": "code",
      "source": [
        "import datetime\n",
        "from timeit import repeat"
      ],
      "metadata": {
        "id": "OsgCguUl0MlM"
      },
      "execution_count": null,
      "outputs": []
    },
    {
      "cell_type": "markdown",
      "source": [
        "###Experimento 1.\n",
        "\n",
        "Para este primer experimento se analizará el tiempo de ejecución del algoritmo de orden topológico iterativo. Se establece la siguiente hipótesis.\n",
        "\n",
        "**Hipótesis:** *Dado que el tiempo de ejecución teórico es O(V+E), podemos esperar que su tiempo coincida aproximadamente con el número de nodos y arcos*"
      ],
      "metadata": {
        "id": "OEeEXb4zfP8h"
      }
    },
    {
      "cell_type": "code",
      "source": [
        "def instanciador(n):\n",
        "  a,a1 = graph_to_nxdigraph(graph_instance_creator(n))\n",
        "  iterative(a,a1,False,False)\n",
        "\n",
        "x=[]; y=[]; y1=[]\n",
        "\n",
        "for n in range(5,100):\n",
        "\n",
        "  \n",
        "  #la función repeat está ejecutando 10 veces el algoritmo iterativo\n",
        "  t =repeat(setup=\"from __main__ import instanciador\", stmt=f\"instanciador({n})\", repeat=1, number=5)\n",
        "  \n",
        "\n",
        "  x.append(n)\n",
        "  y.append(t)\n",
        "\n",
        "\n",
        "plt.plot(x,y)\n",
        "plt.legend([\"Algoritmo de orden topológico iterativo\"])\n",
        "\n",
        "plt.xlabel('n')\n",
        "plt.ylabel('time in ms')\n",
        "plt.show()"
      ],
      "metadata": {
        "colab": {
          "base_uri": "https://localhost:8080/",
          "height": 279
        },
        "id": "6VyknQOtz3_1",
        "outputId": "cc9e9138-2450-4e0f-c316-39716835bd40"
      },
      "execution_count": 267,
      "outputs": [
        {
          "output_type": "display_data",
          "data": {
            "text/plain": [
              "<Figure size 432x288 with 1 Axes>"
            ],
            "image/png": "[encoded data removed]"
          },
          "metadata": {
            "needs_background": "light"
          }
        }
      ]
    },
    {
      "cell_type": "markdown",
      "source": [
        "###Análisis de experimento 1\n",
        "\n",
        "Para este experimento, podemos interpretar que el tiempo de ejecución de coincide con la complejidad temporal establecida teóricamente $(O(V+E))$, puesto que los arcos y nodos generados no están en alguna razón, se ve la curva poco fluida y no como una curva limpia, en base a esto podemos establecer que el análisis del tiempo de ejecución es correcto."
      ],
      "metadata": {
        "id": "OPBjh2b2hkFX"
      }
    },
    {
      "cell_type": "markdown",
      "source": [
        "###Experimento 2.\n",
        "\n",
        "Para este segundo experimento, se analizará el tiempo de ejecución del algoritmo de orden topológico recursivo. Como ya fue comprobado en el experimento anterior que nuestro análisis del tiempo de ejecución para el algoritmo es correcto, podemos ver cómo evoluciona el algoritmo recursivo a medida que tiene más nodos, por lo que, se establece la siguiente hipótesis.\n",
        "\n",
        "**Hipótesis:** *Dado que el tiempo de ejecución teórico para el algoritmo iterativo es correcto y es O(V+E), podemos esperar que el tiempo de ejecución del algoritmo recursivo sea aproximadamente igual o mayor que el algoritmo iterativo.*"
      ],
      "metadata": {
        "id": "zJSmEzgAjgQd"
      }
    },
    {
      "cell_type": "code",
      "source": [
        "def instanciador1(n):\n",
        "  a,a1 = graph_to_nxdigraph(graph_instance_creator(n))\n",
        "  recursive(a,a1,False,False)\n",
        "\n",
        "x=[]; y=[]; y1=[]\n",
        "\n",
        "for n in range(5,100):\n",
        "\n",
        "  \n",
        "  #la función repeat está ejecutando 10 veces el algoritmo iterativo\n",
        "  t =repeat(setup=\"from __main__ import instanciador1\", stmt=f\"instanciador1({n})\", repeat=1, number=5)\n",
        "  \n",
        "\n",
        "  x.append(n)\n",
        "  y.append(t)\n",
        "\n",
        "\n",
        "plt.plot(x,y)\n",
        "plt.legend([\"Algoritmo de orden topológico recursivo\"])\n",
        "\n",
        "plt.xlabel('n')\n",
        "plt.ylabel('time in ms')\n",
        "plt.show()"
      ],
      "metadata": {
        "colab": {
          "base_uri": "https://localhost:8080/",
          "height": 282
        },
        "id": "BdW11FMEctQy",
        "outputId": "a4471bcc-fcd0-40a5-b30b-2e704286fcac"
      },
      "execution_count": 266,
      "outputs": [
        {
          "output_type": "display_data",
          "data": {
            "text/plain": [
              "<Figure size 432x288 with 1 Axes>"
            ],
            "image/png": "[encoded data removed]"
          },
          "metadata": {
            "needs_background": "light"
          }
        }
      ]
    },
    {
      "cell_type": "markdown",
      "source": [
        "###Análisis de experimento 2\n",
        "\n",
        "Para este experimento, podemos comprobar lo establecido en nuestra hipótesis, el algoritmo recursivo es aproximadamente igual en tiempo de ejecución al algoritmo iterativo, en consecuencia nos asegura en su totalidad que el análisis del tiempo de ejecución es correcto.\n",
        "\n"
      ],
      "metadata": {
        "id": "x8FUFd9IlVsx"
      }
    },
    {
      "cell_type": "markdown",
      "source": [
        "#7. Conclusión\n",
        "\n",
        "En base a lo investigado, formulado y aprendido, se puede concluir que el algoritmo para crear el orden topológico de un grafo si es correcto, y es muy eficaz, debido a que podemos tener una gran cantidad de nodos y arcos, pero puesto que son valores que pueden ser computados por una maquina muy rápido, encontrar una solución tomará segundos, ya que depende de sus nodos y arcos, esto dado un grafo que siga las restricciones para establecer el orden topológico."
      ],
      "metadata": {
        "id": "JR8pdIrGl6ZC"
      }
    }
  ]
}