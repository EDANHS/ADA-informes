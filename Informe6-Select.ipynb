{
  "nbformat": 4,
  "nbformat_minor": 0,
  "metadata": {
    "colab": {
      "provenance": [],
      "collapsed_sections": [],
      "authorship_tag": "ABX9TyPAAiE6hWOxyRhBgOrtVY9w",
      "include_colab_link": true
    },
    "kernelspec": {
      "name": "python3",
      "display_name": "Python 3"
    },
    "language_info": {
      "name": "python"
    }
  },
  "cells": [
    {
      "cell_type": "markdown",
      "metadata": {
        "id": "view-in-github",
        "colab_type": "text"
      },
      "source": [
        "<a href=\"https://colab.research.google.com/github/EDANHS/ADA-informes/blob/main/Informe6-Select.ipynb\" target=\"_parent\"><img src=\"https://colab.research.google.com/assets/colab-badge.svg\" alt=\"Open In Colab\"/></a>"
      ]
    },
    {
      "cell_type": "markdown",
      "source": [
        "# $Algoritmo$ $Select$"
      ],
      "metadata": {
        "id": "tpLmdJE91SXP"
      }
    },
    {
      "cell_type": "markdown",
      "source": [
        "---\n",
        "Encontrar el k-ésimo dato de un arreglo se ha tratado con diferentes algoritmos, puesto que todos son una variación del QuickSort se diferencian en el metodo para encontrar el pivote. Entre las elecciones de pivote tenemos:\n",
        "\n",
        "* Escoger un pivote aleatorio.\n",
        "* Escoger como pivote la mediana.\n",
        "\n",
        "---"
      ],
      "metadata": {
        "id": "tgLXSMpC3KcW"
      }
    },
    {
      "cell_type": "markdown",
      "source": [
        "## 1. Descripción del problema.\n",
        "---\n",
        "El problema por tratar a continuación corresponde a seleccionar el k-ésimo elemento de un arreglo (ya sea el k-ésimo elemento menor o mayor), esto se puede realizar sin ordenar una lista de entrada siguiendo la idea del pivote de QuickSort.\n",
        "\n",
        "$Entrada:$ arreglo $A$ de $n$ elementos con un indice $k$ que representa la posición a buscar.\n",
        "\n",
        "$Salida:$ Elemento $X$ perteneciente a $A$, donde si $A$ estuviera ordenado, se encontraria en la posición $k$.\n",
        "\n",
        "**$X$ se denomina como estadístico de orden k-ésimo**\n",
        "\n",
        "---"
      ],
      "metadata": {
        "id": "H4pXObGtoTiK"
      }
    },
    {
      "cell_type": "markdown",
      "source": [
        "## 2. Descripción del algoritmo $Select$\n",
        "---\n",
        "\n",
        "El funcionamiento del algoritmo $Select$ se puede dividir en dos partes importantes. La primera parte consiste en la elección del elemento de partición (escoger la mediana del arreglo). Para un arreglo $A$ de $n$ elementos:\n",
        "\n",
        "---\n",
        "####$Pivot-Selection:$\n",
        "* Divide el arreglo en particiones de [n/5], donde los grupos tienen 5 elementos como máximo, el último grupo puede tener a los más 5 elementos.\n",
        "\n",
        "* Ordena los grupos mediante un algoritmo de ordenamiento, en este caso InsertionSort.\n",
        "\n",
        "* De cada grupo se selecciona la mediana y se guarda en un arreglo auxiliar de medianas.\n",
        "\n",
        "* Se vuelve a llamar recursivamente a $Pivot-Selection$ hasta que quede un solo elemento, el cual representa al elemento pivote, este se debe retornar a la función Select.\n",
        "\n",
        "---\n",
        "\n",
        "####$Select:$\n",
        "\n",
        "* Según lo retornado por $Pivot-Selection$ generamos la partición del arreglo de entrada.\n",
        "\n",
        "* Antes que nada, debemos confirmar si el elemento que esta en la posición de pivote corresponde al k-ésimo elemento buscado. Si lo es, se retorna directamente nuestro elemento.\n",
        "\n",
        "* En caso de que no corresponda a nuestro elemento, se debe confirmar si la posición al pivote es menor al k-ésimo valor buscado, si lo es llamamos a la función Select y le damos como parametro el arreglo $A[low...pivot]$, en caso contrario, a Select se le envia $A[pivot+1...high]$. "
      ],
      "metadata": {
        "id": "FQu2qFw30UZk"
      }
    },
    {
      "cell_type": "markdown",
      "source": [
        "## 3. Código\n",
        "\n"
      ],
      "metadata": {
        "id": "0ABSAE8QEIx7"
      }
    },
    {
      "cell_type": "code",
      "source": [
        "from termcolor import colored"
      ],
      "metadata": {
        "id": "L4OFCXBXDfH4"
      },
      "execution_count": 634,
      "outputs": []
    },
    {
      "cell_type": "code",
      "source": [
        "def InsertionSort(a):\n",
        "    n = len(a)\n",
        "    for i in range(1,n):\n",
        "      key = a[i]\n",
        "      for j in range(i-1,-1,-1):\n",
        "        if a[j]<key:\n",
        "          a[j+1] = key\n",
        "          break\n",
        "        a[j+1] = a[j]\n",
        "      if key < a[0] : a[0] = key"
      ],
      "metadata": {
        "id": "kkjD1ANMNIku"
      },
      "execution_count": 635,
      "outputs": []
    },
    {
      "cell_type": "code",
      "source": [
        "def mediana(A,Verbose = False):\n",
        "  InsertionSort(A)\n",
        "  n = len(A)\n",
        "  if Verbose == True:\n",
        "    print(\"---------------\")\n",
        "    print(\"Calculando la mediana: \",colored(A,'red'))\n",
        "    print(\"---------------\",end='\\n\\n')\n",
        "  \n",
        "  return A[n//2]"
      ],
      "metadata": {
        "id": "0TIalcmCKl20"
      },
      "execution_count": 649,
      "outputs": []
    },
    {
      "cell_type": "code",
      "source": [
        "def Partition (A, piv):\n",
        "  min = 0\n",
        "  max = len(A)-1\n",
        "  i = 0\n",
        "  pivIndex = -1\n",
        "  for k in range (0, len(A)):\n",
        "    if (A[k] <= piv):\n",
        "      A[i], A[k] = A[k], A[i]\n",
        "      i += 1\n",
        "      if (A[i-1] == piv):\n",
        "        pivIndex = i-1\n",
        "\n",
        "  A[i-1], A[pivIndex] = A[pivIndex], A[i-1]\n",
        "  return i-1"
      ],
      "metadata": {
        "id": "OhOmHuahXDSM"
      },
      "execution_count": 637,
      "outputs": []
    },
    {
      "cell_type": "code",
      "source": [
        "def PivotSelection(A,Verbose = False):\n",
        "    \n",
        "    n = len(A)\n",
        "    median = []\n",
        "    j = 0\n",
        "    while j < n//5:\n",
        "      median.append(mediana(A[j:j+5],Verbose))\n",
        "      j+=5\n",
        "\n",
        "    if j <= n//5:\n",
        "      median.append(mediana(A[j:],Verbose))\n",
        "\n",
        "    if Verbose == True:\n",
        "      print(\"---------------\")\n",
        "      print(\"Arreglo de medianas: \",median)\n",
        "      print(\"---------------\",end='\\n\\n')\n",
        "    #Si la lista de medinas tiene menos de 5 elementos entra a caso base\n",
        "    if len(median) <= 5:\n",
        "        pivot = mediana(median,Verbose)\n",
        "    #Recursividad\n",
        "    else:\n",
        "        pivot = PivotSelection(median,Verbose)\n",
        "\n",
        "    if Verbose == True:\n",
        "      print(\"---------------\")\n",
        "      print(\"Mediana Verdadera (Pivote): \",pivot)\n",
        "      print(\"---------------\",end='\\n\\n')\n",
        "    return pivot\n"
      ],
      "metadata": {
        "id": "32LIg_AD-JiI"
      },
      "execution_count": 638,
      "outputs": []
    },
    {
      "cell_type": "code",
      "source": [
        "def Select(A, i, Verbose = False):\n",
        "    if Verbose == True:\n",
        "      print(\"---------------\")\n",
        "      print(\"Arreglo entrada: \",colored(A,'green'))\n",
        "      print(\"---------------\",end='\\n\\n')\n",
        "    pivot = PivotSelection(A,Verbose)\n",
        "    \n",
        "    n = Partition(A,pivot)\n",
        "    low = A[:n]\n",
        "    high = A[n+1:]\n",
        "\n",
        "    k = len(low)\n",
        "    if i < k:\n",
        "        return Select(low,i,Verbose)\n",
        "    elif i > k:\n",
        "        return Select(high,i-k-1,Verbose)\n",
        "    \n",
        "    \n",
        "    return pivot"
      ],
      "metadata": {
        "id": "t6uHlTexCK5L"
      },
      "execution_count": 639,
      "outputs": []
    },
    {
      "cell_type": "code",
      "source": [
        "arr = [12, 3, 5, 7, 4, 19, 26]\n",
        "a = Select(arr,2,False)\n",
        "print(\"Valor minimo:\",a)"
      ],
      "metadata": {
        "colab": {
          "base_uri": "https://localhost:8080/"
        },
        "id": "3KL8AlfQCaSh",
        "outputId": "b3272f6b-e07b-4eb9-b075-8dcaa6552203"
      },
      "execution_count": 650,
      "outputs": [
        {
          "output_type": "stream",
          "name": "stdout",
          "text": [
            "Valor minimo: 5\n"
          ]
        }
      ]
    },
    {
      "cell_type": "markdown",
      "source": [
        "##Ejemplo con Verbose == True\n",
        "\n"
      ],
      "metadata": {
        "id": "xW-sgtsXdTC6"
      }
    },
    {
      "cell_type": "markdown",
      "source": [
        "A continuación, se mostrará el paso a paso que realizá el programa."
      ],
      "metadata": {
        "id": "-CGTjS44eAXZ"
      }
    },
    {
      "cell_type": "code",
      "source": [
        "x = Select([4, 5,8, 9, 1, 0],2,True)\n",
        "print(\"i-ésimo del arreglo: \",3)\n",
        "print(\"Valor retornado: \",x)"
      ],
      "metadata": {
        "colab": {
          "base_uri": "https://localhost:8080/"
        },
        "id": "stUG2yjgM4AC",
        "outputId": "167b8a1c-a843-4d84-a6c1-ffd22947b5be"
      },
      "execution_count": 641,
      "outputs": [
        {
          "output_type": "stream",
          "name": "stdout",
          "text": [
            "---------------\n",
            "Arreglo entrada:  \u001b[32m[4, 5, 8, 9, 1, 0]\u001b[0m\n",
            "---------------\n",
            "\n",
            "---------------\n",
            "Calculando la mediana:  \u001b[31m[1, 4, 5, 8, 9]\u001b[0m\n",
            "---------------\n",
            "\n",
            "---------------\n",
            "Arreglo de medianas:  [5]\n",
            "---------------\n",
            "\n",
            "---------------\n",
            "Mediana Verdadera (Pivote):  5\n",
            "---------------\n",
            "\n",
            "---------------\n",
            "Arreglo entrada:  \u001b[32m[4, 0, 1]\u001b[0m\n",
            "---------------\n",
            "\n",
            "---------------\n",
            "Arreglo de medianas:  [1]\n",
            "---------------\n",
            "\n",
            "---------------\n",
            "Mediana Verdadera (Pivote):  1\n",
            "---------------\n",
            "\n",
            "---------------\n",
            "Arreglo entrada:  \u001b[32m[4]\u001b[0m\n",
            "---------------\n",
            "\n",
            "---------------\n",
            "Arreglo de medianas:  [4]\n",
            "---------------\n",
            "\n",
            "---------------\n",
            "Mediana Verdadera (Pivote):  4\n",
            "---------------\n",
            "\n",
            "i-ésimo del arreglo:  3\n",
            "Valor retornado:  4\n"
          ]
        }
      ]
    },
    {
      "cell_type": "markdown",
      "source": [
        "##Ejemplo paso a paso \n",
        "\n",
        "Para el arreglo de 5 datos definido como: A = $[9,3,2,5,69]$, se busca el valor minímo del arreglo (1 primer elemento).\n",
        "\n",
        "1ra iteración:\n",
        "\n",
        "      A = [9,3,2,5,69]\n",
        "      pivote = 5 : posicion 3\n",
        "      ¿posición == 1 elemento?\n",
        "      Particion1 : [3,2]\n",
        "      Particion2 : [9,69]\n",
        "\n",
        "2da iteración:\n",
        "\n",
        "      A = [3,2]\n",
        "      pivote = 2 : posicion 1\n",
        "      ¿posición == 1 elemento? Si\n",
        "\n",
        "      retorno : 2\n",
        "      "
      ],
      "metadata": {
        "id": "IqfzCeQzeebr"
      }
    },
    {
      "cell_type": "markdown",
      "source": [
        "#4. Prueba de correctitud\n"
      ],
      "metadata": {
        "id": "PaPGUvtXR8c3"
      }
    },
    {
      "cell_type": "markdown",
      "source": [
        "###4.1 Función Partition\n",
        "\n",
        "### Teorema (correctitud de Partition).\n",
        "\n",
        "*Para un arreglo A[p...r] de n elementos, donde p es el tramo inicial del arreglo y r el final de este.* *El algoritmo Partition retorna un recibe un arreglo A[p..r], lo reorganiza y retorna un índice q de tal forma que los elementos del arreglo A[p..q-1] son menores o iguales a A[q] y los elementos del arreglo A[q+1..r] son mayores a A[q].*\n",
        "\n",
        "### Lema (**propiedad invariante de bucle)**\n",
        "\n",
        "Al comienzo de cada iteración, en un arreglo A[p...r], se cumple que para cualquier índice k:\n",
        "\n",
        "* **1. Si p≤k≤i, entonces A[k]≤A[r].** \n",
        " *Si un elemento en la posición k, es menor o igual al i-ésimo elemento que se encuentra en el arreglo y mayor o igual al primer elemento, entonces A[k] será menor o igual al pivote A[r]*\n",
        "\n",
        "* **2.Si i<k<j, entonces A[k]>A[r].** *En caso de que k este entre el i-ésimo elemento y r, significa que el elemento A[k] es mayor al pivote*\n",
        "\n",
        "Antes de cada entrar en el bucle, sabemos que \"Partition\" **siempre** elegirá un pivote que sea igual al último elemento del arreglo (pivot = A[r]), además de tener dos índices, que llamaremos j e i, donde j = p e i = p -1.\n",
        "\n",
        "---\n"
      ],
      "metadata": {
        "id": "K9i6nAHoR5OH"
      }
    },
    {
      "cell_type": "markdown",
      "source": [
        "![Imagen1.png](data:image/png;base64,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)"
      ],
      "metadata": {
        "id": "u-O1FjH8SE6x"
      }
    },
    {
      "cell_type": "markdown",
      "source": [
        "Image 7.2 - Introduction-To-Algorithms - Page N°173"
      ],
      "metadata": {
        "id": "VfwllcJhSLWa"
      }
    },
    {
      "cell_type": "markdown",
      "source": [
        "\n",
        "---\n",
        "\n",
        "**Inicialización**: teniendo en cuenta nuestro pivote, y los índices j e i, sabemos que antes de entrar en el bucle, se cumple trivialmente lo propuesto en el Lema, para un elemento k entre el inicio e i, será menor o igual al pivote, y si va desde i hasta r, es mayor al pivote, por lo que, en un inicio significaría que al no haber elementos entre j e i, podemos decir que todos los elementos del arreglo se consideran mayores al pivote hasta que se demuestre lo contrario.\n",
        "\n",
        "**Mantención**: Una vez empezamos a iterar con j como índice principal, al ir incrementando, si se comprueba que A[j] es menor o igual al pivote, se producirá un intercambio entre A[i] y A[j], y se incrementará $i$, por lo cual, se cumplirá la segunda condición del lema, para elementos A[i..j-1] se generará una zona donde se ubicaran los elementos mayores al pivote, lo que prueba el primer lema, puesto que automáticamente se irá separando por medio de la iteración y comprobación las zonas mayores y menores con respecto al pivote.\n",
        "\n",
        "*El bucle finaliza cuando j es igual a r - 1, al llegar a este punto, sabemos que el arreglo se separa en dos partes con respecto al elemento r, una menor o igual y otra mayor, solo queda intercambiar el elemento i + 1 con el r, finalmente, se retorna el índice i + 1, esto con el objetivo de dividir el arreglo en futuras llamadas recursivas y poder ordenar el arreglo.*"
      ],
      "metadata": {
        "id": "PPxuNvlYRdDO"
      }
    },
    {
      "cell_type": "markdown",
      "source": [
        "###4.2 Función Pivot-Selection\n",
        "\n",
        "### Teorema (correctitud de Pivot-Selection).\n",
        "\n",
        "*Teorema: La función Pivot-Selection retorna la mediana de las medianas de un conjunto de elementos, el cual será usado como pivote*\n",
        "\n",
        "---\n",
        "\n",
        "El procedimiento para escoger un buen pivote (la mediana de las medianas) consiste en ir dividiendo el arreglo de entrada en sub-arreglo de tamaño 5 cada uno, con excepción del último, puesto que, este puede tener a los más 5 elementos, luego las ordena con InsertionSort, el cual tiene un costo lineal, puesto que siempre serán 5 elementos.\n",
        "\n",
        "Para comprobar la correctitud del Pivot-Selection, debemos asumir que InsertionSort ordena correctamente el arreglo pasado, por inducción podemos establecer que para un arreglo de entrada $A$ de $n$ elementos:\n",
        "\n",
        "**Caso base P(1)**: Si el arreglo tiene menos de 5 elementos, entonces se ordena y se retorna la mediana que es el elemento central en caso de ser tamaño impar [((n+1)/2)], si no lo es, se retorna el dato ubicado en el punto (n/2) del arreglo.\n",
        "\n",
        "Para P(m) sub-arreglos siendo que m es igual a n/5, se deben ordenar todos los sub-arreglo, luego extraerles la mediana e ir guardando este valor en un arreglo de medianas, este arreglo se vuelve a pasar a la misma función Pivot-Selection. Finalmente, solo basta hacer este pasó de manera recursiva hasta tener un arreglo equivalente al caso base. Este retornará la mediana verdadera del arreglo.\n",
        "\n",
        "Este método permite estabilidad al algoritmo, puesto que a diferencia de Randomized-Select, no ocupamos un valor dejado a la suerte.\n"
      ],
      "metadata": {
        "id": "qMN1YgE3STJm"
      }
    },
    {
      "cell_type": "markdown",
      "source": [
        "###4.3 Función Select\n",
        "\n",
        "### Teorema (correctitud de Select).\n",
        "\n",
        "*Teorema: La función Pivot-Selection retorna el k-ésimo estadistico de orden en el arreglo de entrada.*\n",
        "\n",
        "---\n",
        "\n",
        "Siendo comprobados Partition y Pivot-Selection podemos establecer la correctitud del algoritmo Select. Por inducción mátematica podemos decir que para un arreglo $A$ de tamaño $n$ :\n",
        "\n",
        "\n",
        "Consideremos un caso base de $P(1)$ cuando solo hay un elemento en nuestro subarreglo, en ese caso nuestro i-ésimo elemento más pequeño corresponderá al unico elemento presente.\n",
        "\n",
        "Cuando obtenemos el pivote y lo comparamos con nuestro i-ésimo elemento a buscar, en caso de que no corresponda se particiona el arreglo. Si el i-esimo elemento es menor al pivote se continua por el subarreglo de la izquierda, si el i-ésimo elemento es mayor al pivote se continua por la derecha. Con esto se minimiza el tamaño de cada subarreglo $m$ con cada llamada recursiva, cumpliendo la condición de P(m) es verdad para m < n\n",
        "\n",
        "Con lo anteriormente comprobado, podemos concluir que la correctitud para el algoritmo Select es correcta."
      ],
      "metadata": {
        "id": "kJdXMYy3g6dC"
      }
    },
    {
      "cell_type": "markdown",
      "source": [
        "#5. Tiempo de ejecución\n",
        "\n",
        "$Lema:$ el tiempo de ejecución del algoritmo Select es de complejidad $O(n)$. \n",
        "\n",
        "Iremos analizando paso a paso el recorrido que realiza el algoritmo para establecer una relación de recurrencia:\n",
        "\n",
        "* Primero el algoritmo Pivot-Selection busca la mediana de las medianas, sabiendo cómo funciona esto podemos decir que está definida como $T(n/5)$.\n",
        "\n",
        "* El algoritmo Partition tiene una complejidad de tiempo $O(n)$.\n",
        "\n",
        "Para determinar la función recursiva que se genera en Select al separar el arreglo en dos casos, si no se ha encontrado el k-ésimo dato al finalizar Partition debemos saber que:\n",
        "\n",
        "* Al menos la mitad de las medianas que se encontraron en Pivot-Selection son mayores o igual que la mediana verdadera obtenida al finalizar este algoritmo. Esto nos dice que como mínimo la mitad de los grupos de medianas aportan 3 datos mayores que la mediana verdadera, con excepción del último grupo, ya que este tiene a lo más 5 elementos. A partir de lo anterior surge la siguiente proporción.\n",
        "\n",
        "      [1/2 * n/5]*3 => 3n/10\n",
        "\n",
        "\n",
        "* Dado que al menos tres elementos son mayores que la mediana verdadera, nos indica que la función se repite a lo más 7n/10 veces.\n",
        "\n",
        "      n - 3n/10 => 7n/10\n",
        "\n",
        "\n",
        "Con esto claro podemos establecer que la relación de recurrencia para el algoritmo completo es:\n",
        "\n",
        "    T(n) = T(n/5) + T(7n/10) + O(n)\n",
        "\n",
        "Para probar que el tiempo de ejecución es $O(n)$ se debe aplicar sustitución, puesto que cualquier otro método sería inconveniente o no resultaría.\n",
        "\n",
        "    T(n) <= cn/5 + 7cn/10 + dn\n",
        "\n",
        "    T(n) <= 9cn/10 + dn => O(n)\n",
        "\n",
        "En conclusión, el algoritmo Select tiene complejidad temporal $O(n)$, también se puede apreciar que tiene constantes muy grandes, debido al proceso de escoger la mediana verdadera y las particiones que realiza.\n",
        "\n",
        "\n",
        "\n",
        "    "
      ],
      "metadata": {
        "id": "Mj9Es0nCk_ic"
      }
    },
    {
      "cell_type": "markdown",
      "source": [
        "#6. Experimentos"
      ],
      "metadata": {
        "id": "yAatwOsXIKon"
      }
    },
    {
      "cell_type": "code",
      "source": [
        "import matplotlib.pyplot as plt\n",
        "from random import randint\n",
        "from random import choice\n",
        "from random import sample\n",
        "import datetime\n",
        "from timeit import repeat\n"
      ],
      "metadata": {
        "id": "-HMJZ7piIOPj"
      },
      "execution_count": 642,
      "outputs": []
    },
    {
      "cell_type": "code",
      "source": [
        "\n",
        "\n",
        "def R_Select (A, i):\n",
        "  #Encontrar un pivote.\n",
        "\n",
        "  #Reorganizar el arreglo con Partition y obtener la posición del pivote.\n",
        "  pivIndex = Partition(A, choice(A))\n",
        "\n",
        "  #Verificar si el pivote es el estadístico de orden buscado.\n",
        "  if (pivIndex == i-1):\n",
        "    return A[pivIndex]\n",
        "  if (i-1 < pivIndex):\n",
        "    return Select(A[0:pivIndex], i)\n",
        "  if (i-1 > pivIndex):\n",
        "    return Select(A[pivIndex+1:len(A)], i-pivIndex-1)\n",
        "\n",
        "  #Retornar el estadístico de orden.\n",
        "  return A"
      ],
      "metadata": {
        "id": "NVYo8asDgGdY"
      },
      "execution_count": 643,
      "outputs": []
    },
    {
      "cell_type": "code",
      "source": [
        "x=[]; y=[]\n",
        "x1=[]; y1=[]\n",
        "\n",
        "for n in range(5,500):\n",
        "  a = sample(range(0, 500), n)\n",
        "  i = randint(0, len(a)-1)\n",
        "  #La función repeat ejecuta 20 veces los algoritmos de selección con el arreglo a y retorna el mejor tiempo obtenido.\n",
        "  t = repeat(setup=\"from __main__ import R_Select\", stmt=f\"R_Select({a},{i})\", repeat=1, number=10)\n",
        "  t1 = repeat(setup=\"from __main__ import Select\", stmt=f\"Select({a}, {i})\", repeat=1, number=10)\n",
        "\n",
        "  x.append(n)\n",
        "  y.append(t)\n",
        "  y1.append(t1)\n",
        "\n",
        "plt.plot(x,y)\n",
        "plt.plot(x,y1)\n",
        "plt.legend([\"Select\"])\n",
        "\n",
        "plt.xlabel('Cantidad de Elementos en el Arreglo')\n",
        "plt.ylabel('Tiempo en Milisegundos')\n",
        "plt.show()"
      ],
      "metadata": {
        "colab": {
          "base_uri": "https://localhost:8080/",
          "height": 345
        },
        "id": "KNwzMVoTIM5T",
        "outputId": "5f0c3b10-3663-4ce1-c9f8-79741c6e814e"
      },
      "execution_count": 647,
      "outputs": [
        {
          "output_type": "error",
          "ename": "IndexError",
          "evalue": "ignored",
          "traceback": [
            "\u001b[0;31m---------------------------------------------------------------------------\u001b[0m",
            "\u001b[0;31mIndexError\u001b[0m                                Traceback (most recent call last)",
            "\u001b[0;32m<ipython-input-647-a0ce9d27c4b0>\u001b[0m in \u001b[0;36m<module>\u001b[0;34m\u001b[0m\n\u001b[1;32m      6\u001b[0m   \u001b[0mi\u001b[0m \u001b[0;34m=\u001b[0m \u001b[0mrandint\u001b[0m\u001b[0;34m(\u001b[0m\u001b[0;36m0\u001b[0m\u001b[0;34m,\u001b[0m \u001b[0mlen\u001b[0m\u001b[0;34m(\u001b[0m\u001b[0ma\u001b[0m\u001b[0;34m)\u001b[0m\u001b[0;34m-\u001b[0m\u001b[0;36m1\u001b[0m\u001b[0;34m)\u001b[0m\u001b[0;34m\u001b[0m\u001b[0;34m\u001b[0m\u001b[0m\n\u001b[1;32m      7\u001b[0m   \u001b[0;31m#La función repeat ejecuta 20 veces los algoritmos de selección con el arreglo a y retorna el mejor tiempo obtenido.\u001b[0m\u001b[0;34m\u001b[0m\u001b[0;34m\u001b[0m\u001b[0;34m\u001b[0m\u001b[0m\n\u001b[0;32m----> 8\u001b[0;31m   \u001b[0mt\u001b[0m \u001b[0;34m=\u001b[0m \u001b[0mrepeat\u001b[0m\u001b[0;34m(\u001b[0m\u001b[0msetup\u001b[0m\u001b[0;34m=\u001b[0m\u001b[0;34m\"from __main__ import R_Select\"\u001b[0m\u001b[0;34m,\u001b[0m \u001b[0mstmt\u001b[0m\u001b[0;34m=\u001b[0m\u001b[0;34mf\"R_Select({a},{i})\"\u001b[0m\u001b[0;34m,\u001b[0m \u001b[0mrepeat\u001b[0m\u001b[0;34m=\u001b[0m\u001b[0;36m1\u001b[0m\u001b[0;34m,\u001b[0m \u001b[0mnumber\u001b[0m\u001b[0;34m=\u001b[0m\u001b[0;36m10\u001b[0m\u001b[0;34m)\u001b[0m\u001b[0;34m\u001b[0m\u001b[0;34m\u001b[0m\u001b[0m\n\u001b[0m\u001b[1;32m      9\u001b[0m   \u001b[0mt1\u001b[0m \u001b[0;34m=\u001b[0m \u001b[0mrepeat\u001b[0m\u001b[0;34m(\u001b[0m\u001b[0msetup\u001b[0m\u001b[0;34m=\u001b[0m\u001b[0;34m\"from __main__ import Select\"\u001b[0m\u001b[0;34m,\u001b[0m \u001b[0mstmt\u001b[0m\u001b[0;34m=\u001b[0m\u001b[0;34mf\"Select({a}, {i})\"\u001b[0m\u001b[0;34m,\u001b[0m \u001b[0mrepeat\u001b[0m\u001b[0;34m=\u001b[0m\u001b[0;36m1\u001b[0m\u001b[0;34m,\u001b[0m \u001b[0mnumber\u001b[0m\u001b[0;34m=\u001b[0m\u001b[0;36m10\u001b[0m\u001b[0;34m)\u001b[0m\u001b[0;34m\u001b[0m\u001b[0;34m\u001b[0m\u001b[0m\n\u001b[1;32m     10\u001b[0m \u001b[0;34m\u001b[0m\u001b[0m\n",
            "\u001b[0;32m/usr/lib/python3.7/timeit.py\u001b[0m in \u001b[0;36mrepeat\u001b[0;34m(stmt, setup, timer, repeat, number, globals)\u001b[0m\n\u001b[1;32m    236\u001b[0m            repeat=default_repeat, number=default_number, globals=None):\n\u001b[1;32m    237\u001b[0m     \u001b[0;34m\"\"\"Convenience function to create Timer object and call repeat method.\"\"\"\u001b[0m\u001b[0;34m\u001b[0m\u001b[0;34m\u001b[0m\u001b[0m\n\u001b[0;32m--> 238\u001b[0;31m     \u001b[0;32mreturn\u001b[0m \u001b[0mTimer\u001b[0m\u001b[0;34m(\u001b[0m\u001b[0mstmt\u001b[0m\u001b[0;34m,\u001b[0m \u001b[0msetup\u001b[0m\u001b[0;34m,\u001b[0m \u001b[0mtimer\u001b[0m\u001b[0;34m,\u001b[0m \u001b[0mglobals\u001b[0m\u001b[0;34m)\u001b[0m\u001b[0;34m.\u001b[0m\u001b[0mrepeat\u001b[0m\u001b[0;34m(\u001b[0m\u001b[0mrepeat\u001b[0m\u001b[0;34m,\u001b[0m \u001b[0mnumber\u001b[0m\u001b[0;34m)\u001b[0m\u001b[0;34m\u001b[0m\u001b[0;34m\u001b[0m\u001b[0m\n\u001b[0m\u001b[1;32m    239\u001b[0m \u001b[0;34m\u001b[0m\u001b[0m\n\u001b[1;32m    240\u001b[0m \u001b[0;32mdef\u001b[0m \u001b[0mmain\u001b[0m\u001b[0;34m(\u001b[0m\u001b[0margs\u001b[0m\u001b[0;34m=\u001b[0m\u001b[0;32mNone\u001b[0m\u001b[0;34m,\u001b[0m \u001b[0;34m*\u001b[0m\u001b[0;34m,\u001b[0m \u001b[0m_wrap_timer\u001b[0m\u001b[0;34m=\u001b[0m\u001b[0;32mNone\u001b[0m\u001b[0;34m)\u001b[0m\u001b[0;34m:\u001b[0m\u001b[0;34m\u001b[0m\u001b[0;34m\u001b[0m\u001b[0m\n",
            "\u001b[0;32m/usr/lib/python3.7/timeit.py\u001b[0m in \u001b[0;36mrepeat\u001b[0;34m(self, repeat, number)\u001b[0m\n\u001b[1;32m    203\u001b[0m         \u001b[0mr\u001b[0m \u001b[0;34m=\u001b[0m \u001b[0;34m[\u001b[0m\u001b[0;34m]\u001b[0m\u001b[0;34m\u001b[0m\u001b[0;34m\u001b[0m\u001b[0m\n\u001b[1;32m    204\u001b[0m         \u001b[0;32mfor\u001b[0m \u001b[0mi\u001b[0m \u001b[0;32min\u001b[0m \u001b[0mrange\u001b[0m\u001b[0;34m(\u001b[0m\u001b[0mrepeat\u001b[0m\u001b[0;34m)\u001b[0m\u001b[0;34m:\u001b[0m\u001b[0;34m\u001b[0m\u001b[0;34m\u001b[0m\u001b[0m\n\u001b[0;32m--> 205\u001b[0;31m             \u001b[0mt\u001b[0m \u001b[0;34m=\u001b[0m \u001b[0mself\u001b[0m\u001b[0;34m.\u001b[0m\u001b[0mtimeit\u001b[0m\u001b[0;34m(\u001b[0m\u001b[0mnumber\u001b[0m\u001b[0;34m)\u001b[0m\u001b[0;34m\u001b[0m\u001b[0;34m\u001b[0m\u001b[0m\n\u001b[0m\u001b[1;32m    206\u001b[0m             \u001b[0mr\u001b[0m\u001b[0;34m.\u001b[0m\u001b[0mappend\u001b[0m\u001b[0;34m(\u001b[0m\u001b[0mt\u001b[0m\u001b[0;34m)\u001b[0m\u001b[0;34m\u001b[0m\u001b[0;34m\u001b[0m\u001b[0m\n\u001b[1;32m    207\u001b[0m         \u001b[0;32mreturn\u001b[0m \u001b[0mr\u001b[0m\u001b[0;34m\u001b[0m\u001b[0;34m\u001b[0m\u001b[0m\n",
            "\u001b[0;32m/usr/lib/python3.7/timeit.py\u001b[0m in \u001b[0;36mtimeit\u001b[0;34m(self, number)\u001b[0m\n\u001b[1;32m    175\u001b[0m         \u001b[0mgc\u001b[0m\u001b[0;34m.\u001b[0m\u001b[0mdisable\u001b[0m\u001b[0;34m(\u001b[0m\u001b[0;34m)\u001b[0m\u001b[0;34m\u001b[0m\u001b[0;34m\u001b[0m\u001b[0m\n\u001b[1;32m    176\u001b[0m         \u001b[0;32mtry\u001b[0m\u001b[0;34m:\u001b[0m\u001b[0;34m\u001b[0m\u001b[0;34m\u001b[0m\u001b[0m\n\u001b[0;32m--> 177\u001b[0;31m             \u001b[0mtiming\u001b[0m \u001b[0;34m=\u001b[0m \u001b[0mself\u001b[0m\u001b[0;34m.\u001b[0m\u001b[0minner\u001b[0m\u001b[0;34m(\u001b[0m\u001b[0mit\u001b[0m\u001b[0;34m,\u001b[0m \u001b[0mself\u001b[0m\u001b[0;34m.\u001b[0m\u001b[0mtimer\u001b[0m\u001b[0;34m)\u001b[0m\u001b[0;34m\u001b[0m\u001b[0;34m\u001b[0m\u001b[0m\n\u001b[0m\u001b[1;32m    178\u001b[0m         \u001b[0;32mfinally\u001b[0m\u001b[0;34m:\u001b[0m\u001b[0;34m\u001b[0m\u001b[0;34m\u001b[0m\u001b[0m\n\u001b[1;32m    179\u001b[0m             \u001b[0;32mif\u001b[0m \u001b[0mgcold\u001b[0m\u001b[0;34m:\u001b[0m\u001b[0;34m\u001b[0m\u001b[0;34m\u001b[0m\u001b[0m\n",
            "\u001b[0;32m/usr/lib/python3.7/timeit.py\u001b[0m in \u001b[0;36minner\u001b[0;34m(_it, _timer)\u001b[0m\n",
            "\u001b[0;32m<ipython-input-643-bf0b06d2463a>\u001b[0m in \u001b[0;36mR_Select\u001b[0;34m(A, i)\u001b[0m\n\u001b[1;32m      9\u001b[0m     \u001b[0;32mreturn\u001b[0m \u001b[0mA\u001b[0m\u001b[0;34m[\u001b[0m\u001b[0mpivIndex\u001b[0m\u001b[0;34m]\u001b[0m\u001b[0;34m\u001b[0m\u001b[0;34m\u001b[0m\u001b[0m\n\u001b[1;32m     10\u001b[0m   \u001b[0;32mif\u001b[0m \u001b[0;34m(\u001b[0m\u001b[0mi\u001b[0m\u001b[0;34m-\u001b[0m\u001b[0;36m1\u001b[0m \u001b[0;34m<\u001b[0m \u001b[0mpivIndex\u001b[0m\u001b[0;34m)\u001b[0m\u001b[0;34m:\u001b[0m\u001b[0;34m\u001b[0m\u001b[0;34m\u001b[0m\u001b[0m\n\u001b[0;32m---> 11\u001b[0;31m     \u001b[0;32mreturn\u001b[0m \u001b[0mSelect\u001b[0m\u001b[0;34m(\u001b[0m\u001b[0mA\u001b[0m\u001b[0;34m[\u001b[0m\u001b[0;36m0\u001b[0m\u001b[0;34m:\u001b[0m\u001b[0mpivIndex\u001b[0m\u001b[0;34m]\u001b[0m\u001b[0;34m,\u001b[0m \u001b[0mi\u001b[0m\u001b[0;34m)\u001b[0m\u001b[0;34m\u001b[0m\u001b[0;34m\u001b[0m\u001b[0m\n\u001b[0m\u001b[1;32m     12\u001b[0m   \u001b[0;32mif\u001b[0m \u001b[0;34m(\u001b[0m\u001b[0mi\u001b[0m\u001b[0;34m-\u001b[0m\u001b[0;36m1\u001b[0m \u001b[0;34m>\u001b[0m \u001b[0mpivIndex\u001b[0m\u001b[0;34m)\u001b[0m\u001b[0;34m:\u001b[0m\u001b[0;34m\u001b[0m\u001b[0;34m\u001b[0m\u001b[0m\n\u001b[1;32m     13\u001b[0m     \u001b[0;32mreturn\u001b[0m \u001b[0mSelect\u001b[0m\u001b[0;34m(\u001b[0m\u001b[0mA\u001b[0m\u001b[0;34m[\u001b[0m\u001b[0mpivIndex\u001b[0m\u001b[0;34m+\u001b[0m\u001b[0;36m1\u001b[0m\u001b[0;34m:\u001b[0m\u001b[0mlen\u001b[0m\u001b[0;34m(\u001b[0m\u001b[0mA\u001b[0m\u001b[0;34m)\u001b[0m\u001b[0;34m]\u001b[0m\u001b[0;34m,\u001b[0m \u001b[0mi\u001b[0m\u001b[0;34m-\u001b[0m\u001b[0mpivIndex\u001b[0m\u001b[0;34m-\u001b[0m\u001b[0;36m1\u001b[0m\u001b[0;34m)\u001b[0m\u001b[0;34m\u001b[0m\u001b[0;34m\u001b[0m\u001b[0m\n",
            "\u001b[0;32m<ipython-input-639-fbe1a50ea28e>\u001b[0m in \u001b[0;36mSelect\u001b[0;34m(A, i, Verbose)\u001b[0m\n\u001b[1;32m     14\u001b[0m         \u001b[0;32mreturn\u001b[0m \u001b[0mSelect\u001b[0m\u001b[0;34m(\u001b[0m\u001b[0mlow\u001b[0m\u001b[0;34m,\u001b[0m\u001b[0mi\u001b[0m\u001b[0;34m,\u001b[0m\u001b[0mVerbose\u001b[0m\u001b[0;34m)\u001b[0m\u001b[0;34m\u001b[0m\u001b[0;34m\u001b[0m\u001b[0m\n\u001b[1;32m     15\u001b[0m     \u001b[0;32melif\u001b[0m \u001b[0mi\u001b[0m \u001b[0;34m>\u001b[0m \u001b[0mk\u001b[0m\u001b[0;34m:\u001b[0m\u001b[0;34m\u001b[0m\u001b[0;34m\u001b[0m\u001b[0m\n\u001b[0;32m---> 16\u001b[0;31m         \u001b[0;32mreturn\u001b[0m \u001b[0mSelect\u001b[0m\u001b[0;34m(\u001b[0m\u001b[0mhigh\u001b[0m\u001b[0;34m,\u001b[0m\u001b[0mi\u001b[0m\u001b[0;34m-\u001b[0m\u001b[0mk\u001b[0m\u001b[0;34m-\u001b[0m\u001b[0;36m1\u001b[0m\u001b[0;34m,\u001b[0m\u001b[0mVerbose\u001b[0m\u001b[0;34m)\u001b[0m\u001b[0;34m\u001b[0m\u001b[0;34m\u001b[0m\u001b[0m\n\u001b[0m\u001b[1;32m     17\u001b[0m \u001b[0;34m\u001b[0m\u001b[0m\n\u001b[1;32m     18\u001b[0m \u001b[0;34m\u001b[0m\u001b[0m\n",
            "\u001b[0;32m<ipython-input-639-fbe1a50ea28e>\u001b[0m in \u001b[0;36mSelect\u001b[0;34m(A, i, Verbose)\u001b[0m\n\u001b[1;32m      4\u001b[0m       \u001b[0mprint\u001b[0m\u001b[0;34m(\u001b[0m\u001b[0;34m\"Arreglo entrada: \"\u001b[0m\u001b[0;34m,\u001b[0m\u001b[0mcolored\u001b[0m\u001b[0;34m(\u001b[0m\u001b[0mA\u001b[0m\u001b[0;34m,\u001b[0m\u001b[0;34m'green'\u001b[0m\u001b[0;34m)\u001b[0m\u001b[0;34m)\u001b[0m\u001b[0;34m\u001b[0m\u001b[0;34m\u001b[0m\u001b[0m\n\u001b[1;32m      5\u001b[0m       \u001b[0mprint\u001b[0m\u001b[0;34m(\u001b[0m\u001b[0;34m\"---------------\"\u001b[0m\u001b[0;34m,\u001b[0m\u001b[0mend\u001b[0m\u001b[0;34m=\u001b[0m\u001b[0;34m'\\n\\n'\u001b[0m\u001b[0;34m)\u001b[0m\u001b[0;34m\u001b[0m\u001b[0;34m\u001b[0m\u001b[0m\n\u001b[0;32m----> 6\u001b[0;31m     \u001b[0mpivot\u001b[0m \u001b[0;34m=\u001b[0m \u001b[0mPivotSelection\u001b[0m\u001b[0;34m(\u001b[0m\u001b[0mA\u001b[0m\u001b[0;34m,\u001b[0m\u001b[0mVerbose\u001b[0m\u001b[0;34m)\u001b[0m\u001b[0;34m\u001b[0m\u001b[0;34m\u001b[0m\u001b[0m\n\u001b[0m\u001b[1;32m      7\u001b[0m \u001b[0;34m\u001b[0m\u001b[0m\n\u001b[1;32m      8\u001b[0m     \u001b[0mn\u001b[0m \u001b[0;34m=\u001b[0m \u001b[0mPartition\u001b[0m\u001b[0;34m(\u001b[0m\u001b[0mA\u001b[0m\u001b[0;34m,\u001b[0m\u001b[0mpivot\u001b[0m\u001b[0;34m)\u001b[0m\u001b[0;34m\u001b[0m\u001b[0;34m\u001b[0m\u001b[0m\n",
            "\u001b[0;32m<ipython-input-638-ef3760d1ad26>\u001b[0m in \u001b[0;36mPivotSelection\u001b[0;34m(A, Verbose)\u001b[0m\n\u001b[1;32m      9\u001b[0m \u001b[0;34m\u001b[0m\u001b[0m\n\u001b[1;32m     10\u001b[0m     \u001b[0;32mif\u001b[0m \u001b[0mj\u001b[0m \u001b[0;34m<=\u001b[0m \u001b[0mn\u001b[0m\u001b[0;34m//\u001b[0m\u001b[0;36m5\u001b[0m\u001b[0;34m:\u001b[0m\u001b[0;34m\u001b[0m\u001b[0;34m\u001b[0m\u001b[0m\n\u001b[0;32m---> 11\u001b[0;31m       \u001b[0mmedian\u001b[0m\u001b[0;34m.\u001b[0m\u001b[0mappend\u001b[0m\u001b[0;34m(\u001b[0m\u001b[0mmediana\u001b[0m\u001b[0;34m(\u001b[0m\u001b[0mA\u001b[0m\u001b[0;34m[\u001b[0m\u001b[0mj\u001b[0m\u001b[0;34m:\u001b[0m\u001b[0;34m]\u001b[0m\u001b[0;34m,\u001b[0m\u001b[0mVerbose\u001b[0m\u001b[0;34m)\u001b[0m\u001b[0;34m)\u001b[0m\u001b[0;34m\u001b[0m\u001b[0;34m\u001b[0m\u001b[0m\n\u001b[0m\u001b[1;32m     12\u001b[0m \u001b[0;34m\u001b[0m\u001b[0m\n\u001b[1;32m     13\u001b[0m     \u001b[0;32mif\u001b[0m \u001b[0mVerbose\u001b[0m \u001b[0;34m==\u001b[0m \u001b[0;32mTrue\u001b[0m\u001b[0;34m:\u001b[0m\u001b[0;34m\u001b[0m\u001b[0;34m\u001b[0m\u001b[0m\n",
            "\u001b[0;32m<ipython-input-645-01ea25d750ce>\u001b[0m in \u001b[0;36mmediana\u001b[0;34m(A, Verbose)\u001b[0m\n\u001b[1;32m      7\u001b[0m     \u001b[0mprint\u001b[0m\u001b[0;34m(\u001b[0m\u001b[0;34m\"---------------\"\u001b[0m\u001b[0;34m,\u001b[0m\u001b[0mend\u001b[0m\u001b[0;34m=\u001b[0m\u001b[0;34m'\\n\\n'\u001b[0m\u001b[0;34m)\u001b[0m\u001b[0;34m\u001b[0m\u001b[0;34m\u001b[0m\u001b[0m\n\u001b[1;32m      8\u001b[0m \u001b[0;34m\u001b[0m\u001b[0m\n\u001b[0;32m----> 9\u001b[0;31m   \u001b[0;32mreturn\u001b[0m \u001b[0mA\u001b[0m\u001b[0;34m[\u001b[0m\u001b[0mlen\u001b[0m\u001b[0;34m(\u001b[0m\u001b[0mA\u001b[0m\u001b[0;34m)\u001b[0m\u001b[0;34m//\u001b[0m\u001b[0;36m2\u001b[0m\u001b[0;34m]\u001b[0m\u001b[0;34m\u001b[0m\u001b[0;34m\u001b[0m\u001b[0m\n\u001b[0m",
            "\u001b[0;31mIndexError\u001b[0m: list index out of range"
          ]
        }
      ]
    }
  ]
}