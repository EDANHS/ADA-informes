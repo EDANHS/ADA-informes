{
  "nbformat": 4,
  "nbformat_minor": 0,
  "metadata": {
    "colab": {
      "provenance": [],
      "collapsed_sections": [],
      "authorship_tag": "ABX9TyMmfCgp7FvVoaclyH5Gjfn3",
      "include_colab_link": true
    },
    "kernelspec": {
      "name": "python3",
      "display_name": "Python 3"
    },
    "language_info": {
      "name": "python"
    }
  },
  "cells": [
    {
      "cell_type": "markdown",
      "metadata": {
        "id": "view-in-github",
        "colab_type": "text"
      },
      "source": [
        "<a href=\"https://colab.research.google.com/github/EDANHS/ADA-informes/blob/main/Informe7-CuttingRod.ipynb\" target=\"_parent\"><img src=\"https://colab.research.google.com/assets/colab-badge.svg\" alt=\"Open In Colab\"/></a>"
      ]
    },
    {
      "cell_type": "markdown",
      "source": [
        "# Cutting Rod (Corte de varilla)"
      ],
      "metadata": {
        "id": "BWmmM3XePSG7"
      }
    },
    {
      "cell_type": "markdown",
      "source": [
        "##1.Descripción del problema\n",
        "\n",
        "---\n",
        "\n",
        "El problema del corte de varilla está enfocado en maximizar la ganancia. En base a realizar cortes óptimos en la varilla y una tabla de precios inicial podemos determinar en varillas de largo $n$ la mejor distribución de los cortes para sacar el máximo provecho de ello.\n",
        "\n",
        "$Entrada:$ *Un número $n$ que representa el tamaño de la varilla, junto a un vector de i terminos que va desde 1 hasta $n$ indicando los precios.*\n",
        "\n",
        "$Salida:$ *Un valor $r_n$ que representa la ganancia máxima que se puede obtener realizando cortes en la varilla y vendiendo sus partes.*\n",
        "\n",
        "---"
      ],
      "metadata": {
        "id": "oZMG3PYxPVuv"
      }
    },
    {
      "cell_type": "markdown",
      "source": [
        "##2.Descripción del algoritmo - Corte de varillas\n",
        "\n",
        "---\n",
        "\n",
        "El problema a resolver se enfoca en buscar la máxima ganancia que podemos obtener en base a una tabla de precios base traspasado, en una barra de $n$ metros, donde los cortes son metro a metro debemos ir viendo cual es la mejor combinación posible para hallar dicho valor buscado. \n",
        "\n",
        "Hay dos formas principalmente de atacar este problema, una es usando recursión y el otro es usando programación dinamica. En programación dinamica hay dos instancias que resuelven el problema, una es mediante el método $Top-Down$ y la segunda es por $Botton-up$. A continuación se hablará de las tres formas.\n",
        "\n",
        "---\n"
      ],
      "metadata": {
        "id": "-vL0s8mT9YBZ"
      }
    },
    {
      "cell_type": "markdown",
      "source": [
        "###Corte de varillas por Recursión\n",
        "\n",
        "---\n",
        "\n",
        "El enfoque de este algoritmo va de tomar los casos desde n, luego n-1, n-2 y asi sucesivamente hasta llegar al caso base, luego de eso calcular los cortes que máximizan la ganancia. El problema de esta estrategia se da porque debemos calcular los mismos casos muchas veces, por lo cual, se demora una cantidad de \n",
        "tiempo bastante elevada llegando a lo exponencial.\n",
        "\n",
        "---"
      ],
      "metadata": {
        "id": "od1dGul8cQgT"
      }
    },
    {
      "cell_type": "markdown",
      "source": [
        "###Corte de varillas por acercamiento Botton-Up\n",
        "\n",
        "---\n",
        "\n",
        "Como se vio, para el caso recursivo debemos calcular varios casos repetidos para obtener una solución, el problema era su tiempo exponencial. Para reducir tiempos se utiliza la programación dinamica, guardando los casos ya resueltos en una estructura y no tener que calcularlos nuevamente. Gracias a esta tecnica se reduce de un tiempo exponencial a cuadratico, lo cual es mejor y se nota la diferencia de velocidad para problemas $n$ muy grandes.\n",
        "\n",
        "El algoritmo Botton-Up trabaja de la siguiente manera:\n",
        "\n",
        "-En el primer ciclo se van a trabajar las varillas que vayan desde 1 hasta n  con un iterador $i$, donde n es el tamaño máximo de la varilla indicando .\n",
        "\n",
        "-En su ciclo anidado, se ira buscando la suma máxima que se pueden generar con los cortes de acuerdo a los precios que vayan desde $0...i$, con un indice j.\n",
        "\n",
        "-En el ciclo, para comprobar una máxima ganancia, se compara el $j-ésimo$ elemento de la tabla precios agregando los valores máximos ya guardados en una tabla auxiliar y comparando ese resultado con el anterior máximo anteriormente guardado en una variable auxiliar.\n",
        "\n",
        "-Una vez fuera del ciclo, se agrega este valor auxiliar a la $i-ésima$ posición de la tabla de máximos.\n",
        "\n",
        "---"
      ],
      "metadata": {
        "id": "bs_Rlvq9YZft"
      }
    },
    {
      "cell_type": "markdown",
      "source": [
        "---\n",
        "\n",
        "##3. Código\n",
        "\n",
        "---\n",
        "\n"
      ],
      "metadata": {
        "id": "705b6Ew_h_bg"
      }
    },
    {
      "cell_type": "code",
      "source": [
        "import random"
      ],
      "metadata": {
        "id": "x-ojdCpBiInu"
      },
      "execution_count": 3,
      "outputs": []
    },
    {
      "cell_type": "markdown",
      "source": [
        "####Generador de tabla de precios"
      ],
      "metadata": {
        "id": "k7IXszgqT30D"
      }
    },
    {
      "cell_type": "code",
      "source": [
        "def cutrod_instance_generator(N):\n",
        "  A = []\n",
        "  prev = 0\n",
        "  for i in range(N):\n",
        "    r=random.randint(0,10)\n",
        "    A.append(prev+r)\n",
        "    prev+=r\n",
        "  return A"
      ],
      "metadata": {
        "id": "OYHaW5ONiFDY"
      },
      "execution_count": 4,
      "outputs": []
    },
    {
      "cell_type": "markdown",
      "source": [
        "####Algoritmo recursivo"
      ],
      "metadata": {
        "id": "5qbeyqUAT4I-"
      }
    },
    {
      "cell_type": "code",
      "source": [
        "\n",
        "def RecursiveCut(p,n,Verbose = False):\n",
        "  global llamadasRecursivas\n",
        "  if n == 0:\n",
        "     llamadasRecursivas+=1\n",
        "     return 0\n",
        "  q = -float('inf')\n",
        "\n",
        "  if Verbose == True:\n",
        "    print(\"------------------------------\")\n",
        "    print(\"Llamada Recursiva N°\",llamadasRecursivas)\n",
        "    print(\"Price: \",p)\n",
        "    print(\"Tamaño del problema actual: \",n)\n",
        "    print([\"=\"*n])\n",
        "\n",
        "  h = 0\n",
        "  \n",
        "  for i in range(n):\n",
        "    llamadasRecursivas +=1\n",
        "    q = max(q,p[i]+RecursiveCut(p,n-i-1,Verbose))\n",
        "    \n",
        "    if Verbose == True:\n",
        "      print(\"Arreglo de cortes\")\n",
        "      print([\"=\"*i],end='|\\n')\n",
        "\n",
        "    #if q != aux:\n",
        "\n",
        "\n",
        "  return q"
      ],
      "metadata": {
        "id": "iEaaLxxoiO9R"
      },
      "execution_count": 5,
      "outputs": []
    },
    {
      "cell_type": "markdown",
      "source": [
        "###Llamadas recursivas para el algoritmo recursivo"
      ],
      "metadata": {
        "id": "8ChHg1B5UFfO"
      }
    },
    {
      "cell_type": "code",
      "source": [
        "global llamadasRecursivas\n",
        "C = [1, 5, 8, 9, 10, 17, 17, 20 ]\n",
        "\n",
        "llamadasRecursivas = 0\n",
        "print(\"Arreglo de precios\",C)\n",
        "q= RecursiveCut(C,len(C),llamadasRecursivas)\n",
        "print(\"Precio máximo retornado:\",q)\n",
        "print(\"Llamadas recursivas:\",llamadasRecursivas)"
      ],
      "metadata": {
        "colab": {
          "base_uri": "https://localhost:8080/"
        },
        "id": "eeZLw_6Mh5LZ",
        "outputId": "ed876859-7dea-438d-ab4c-e57333647702"
      },
      "execution_count": 6,
      "outputs": [
        {
          "output_type": "stream",
          "name": "stdout",
          "text": [
            "Arreglo de precios [1, 5, 8, 9, 10, 17, 17, 20]\n",
            "Precio máximo retornado: 22\n",
            "Llamadas recursivas: 383\n"
          ]
        }
      ]
    },
    {
      "cell_type": "code",
      "source": [
        "def BottomUp(p,n,Verbose = False):\n",
        "  r = [0 for i in range(n+1)]\n",
        "  contador = 0\n",
        "  if Verbose == True:\n",
        "    print(\"----Bottom-up----\")\n",
        "\n",
        "  for i in range(1,n+1):\n",
        "    q = -float('inf')\n",
        "    for j in range(i):\n",
        "      contador+=1\n",
        "      aux = p[j]+r[i-j-1]\n",
        "      q = max(q,p[j]+r[i-j-1])\n",
        "    \n",
        "    r[i] = q\n",
        "    if Verbose == True:\n",
        "      print(\"----------------------------------------------------\")\n",
        "      print(\"Comparando valores máximos anteriormente guardados:\")\n",
        "      print(q,\"<=>\",aux)\n",
        "      print(\"Arreglo auxiliar de valores:\",r)\n",
        "      print(\"----------------------------------------------------\")\n",
        "  return r[n],contador"
      ],
      "metadata": {
        "id": "pZ4TK8cVct8y"
      },
      "execution_count": 14,
      "outputs": []
    },
    {
      "cell_type": "code",
      "source": [
        "price = [1, 5, 8, 9, 10, 17, 17, 20 ]\n",
        "print(\"Arreglo de precios:\",price)\n",
        "a,b = BottomUp(price,len(price),False)\n",
        "print(\"Precio máximo retornado:\",a)"
      ],
      "metadata": {
        "colab": {
          "base_uri": "https://localhost:8080/"
        },
        "id": "pbGvMT90dtzI",
        "outputId": "108fcf62-8b9a-410b-8604-f3773d0c7464"
      },
      "execution_count": 17,
      "outputs": [
        {
          "output_type": "stream",
          "name": "stdout",
          "text": [
            "Arreglo de precios: [1, 5, 8, 9, 10, 17, 17, 20]\n",
            "Precio máximo retornado: 22\n"
          ]
        }
      ]
    },
    {
      "cell_type": "markdown",
      "source": [
        "---\n",
        "\n",
        "##Ejemplo con Verbose == True en acercamiento BottomUp\n",
        "\n"
      ],
      "metadata": {
        "id": "xyUenf0mdhSt"
      }
    },
    {
      "cell_type": "code",
      "source": [
        "a = cutrod_instance_generator(6)\n",
        "print(\"Arreglo de entrada:\", a)\n",
        "b = BottomUp(a,6,True)\n",
        "print(\"Máximo valor para n = 6:\",b)\n"
      ],
      "metadata": {
        "colab": {
          "base_uri": "https://localhost:8080/"
        },
        "id": "7ciDV6e2dqQ_",
        "outputId": "8a3366ba-2a5d-4f36-f4a9-4dce8b75c56f"
      },
      "execution_count": 9,
      "outputs": [
        {
          "output_type": "stream",
          "name": "stdout",
          "text": [
            "Arreglo de entrada: [8, 15, 21, 31, 37, 42]\n",
            "----Bottom-up----\n",
            "----------------------------------------------------\n",
            "Comparando valores máximos anteriormente guardados:\n",
            "8 <=> 8\n",
            "Arreglo auxiliar de valores: [0, 8, 0, 0, 0, 0, 0]\n",
            "----------------------------------------------------\n",
            "----------------------------------------------------\n",
            "Comparando valores máximos anteriormente guardados:\n",
            "16 <=> 15\n",
            "Arreglo auxiliar de valores: [0, 8, 16, 0, 0, 0, 0]\n",
            "----------------------------------------------------\n",
            "----------------------------------------------------\n",
            "Comparando valores máximos anteriormente guardados:\n",
            "24 <=> 21\n",
            "Arreglo auxiliar de valores: [0, 8, 16, 24, 0, 0, 0]\n",
            "----------------------------------------------------\n",
            "----------------------------------------------------\n",
            "Comparando valores máximos anteriormente guardados:\n",
            "32 <=> 31\n",
            "Arreglo auxiliar de valores: [0, 8, 16, 24, 32, 0, 0]\n",
            "----------------------------------------------------\n",
            "----------------------------------------------------\n",
            "Comparando valores máximos anteriormente guardados:\n",
            "40 <=> 37\n",
            "Arreglo auxiliar de valores: [0, 8, 16, 24, 32, 40, 0]\n",
            "----------------------------------------------------\n",
            "----------------------------------------------------\n",
            "Comparando valores máximos anteriormente guardados:\n",
            "48 <=> 42\n",
            "Arreglo auxiliar de valores: [0, 8, 16, 24, 32, 40, 48]\n",
            "----------------------------------------------------\n",
            "Máximo valor para n = 6: 48\n"
          ]
        }
      ]
    },
    {
      "cell_type": "markdown",
      "source": [
        "---"
      ],
      "metadata": {
        "id": "Aad8tF7idpRT"
      }
    },
    {
      "cell_type": "markdown",
      "source": [
        "---\n",
        "\n",
        "##Ejemplo paso a paso\n",
        "\n",
        "Para la tabla de precios $[1, 5, 8, 9, 10, 17, 17, 20 ]$ con tamaño (n = 8)\n",
        "\n",
        "Se generá el arreglo auxiliar  = $[0,0,0,0,0,0,0,0,0]$ en la entrada de la función con nueve espacios o mejor dicho $n+1$.\n",
        "\n",
        "Para una primera iteración:\n",
        "\n",
        "      el precio máximo determinado en el arreglo [1] que va desde 0 a 0 es: 1, por ende, se actualiza el arreglo auxiliar a [0,1,0,0,0,0,0,0,0]\n",
        "\n",
        "\n",
        "Para una segunda iteración:\n",
        "\n",
        "      el precio máximo determinado en el arreglo [1,5] que va desde 0 a 1 es: 5, por ende, se actualiza el arreglo auxiliar a [0,1,5,0,0,0,0,0,0]\n",
        "\n",
        "Para una tercera iteración:\n",
        "\n",
        "      el precio máximo determinado en el arreglo [1,5,8] que va desde 0 a 2 es: 8, por ende, se actualiza el arreglo auxiliar a [0,1,5,8,0,0,0,0,0]\n",
        "\n",
        "\n",
        "Para una cuarta iteración:\n",
        "\n",
        "      el precio máximo determinado en el arreglo [1,5,8,9] que va desde 0 a 3 es: 10, por ende, se actualiza el arreglo auxiliar a [0,1,5,8,10,0,0,0,0]\n",
        "\n",
        "Para una quinta iteración:\n",
        "\n",
        "      el precio máximo determinado en el arreglo [1,5,8,9,10] que va desde 0 a 3 es: 13, por ende, se actualiza el arreglo auxiliar a [0,1,5,8,10,13,0,0,0]\n",
        "\n",
        "Para una sexta iteración:\n",
        "\n",
        "      el precio máximo determinado en el arreglo [1,5,8,9,10,17] que va desde 0 a 3 es: 17, por ende, se actualiza el arreglo auxiliar a [0,1,5,8,10,13,17,0,0]\n",
        "\n",
        "Para una septima iteración:\n",
        "\n",
        "      el precio máximo determinado en el arreglo [1,5,8,9,10,17,17] que va desde 0 a 3 es: 18, por ende, se actualiza el arreglo auxiliar a [0,1,5,8,10,13,17,18,0]\n",
        "\n",
        "Para una octava iteración:\n",
        "\n",
        "      el precio máximo determinado en el arreglo [1,5,8,9,10,17,17,20] que va desde 0 a 3 es: 22, por ende, se actualiza el arreglo auxiliar a [0,1,5,8,10,13,17,18,22]\n",
        "\n",
        "Al rellenar cada casilla significa que el problema esta resuelto, por tanto al retornar el valor auxiliar[n], obtenemos que la máxima ganancia para un tamaño $n$ es 22.\n",
        "\n",
        "---"
      ],
      "metadata": {
        "id": "R63uDCzqcLjy"
      }
    },
    {
      "cell_type": "markdown",
      "source": [
        "#4. Correctitud acercamiento Botton-Up\n",
        "\n",
        "###Teorema:\n",
        "\n",
        "*El algoritmo para resolver el problema de corte de varillas, con $n$ como el tamaño de dicha varilla, retorna un valor máximo para el largo $n$ que representa la ganancia obtenida con los cortes, además de retornar los cortes que se deben hacer para obtener dicha ganancia.*\n",
        "\n",
        "\n",
        "Como se vio en la descripción del algoritmo  consiste de dos bucles anidados para determinar cual es la máxima ganancia posible para los cortes de tamaño $1, 2, 3..., n-1,n$.\n",
        "\n",
        "###Prueba del teorema:\n",
        "\n",
        "Sea $P(0)$ el caso base, con tamaño 0, el precio máximo será dado por el único elemento que existe en la tabla de precios o mejor dicho el único precio posible de construir es el mismo, se definen dos arreglos $P$ y $L$, donde son precios y ganancia máxima para largo $l$ respectivamente, al momento de darse un valor 0 significa que no se puede calcular una ganacia inexistente, entonces la ganancia es 0. Para un $P(1)$ que tambien podria considerarse un caso base tenemos que la unica división posible es la misma varilla, por tanto la máxima ganancia es obtenida mediante la varilla. \n",
        "\n",
        "Sea $P(m)$ con $m < n$ existen dos casos que determinan el mayor precio para una varilla de largo $m$, los cuales son:\n",
        "\n",
        "1. El precio máximo de la varilla de largo $m$ es el dado por la tabla de precios, dando a entender que no se necesita particionar para lograr una ganancia máxima.\n",
        "\n",
        "2. El precio máximo se puede construir mediante los cortes anteriores de los valores máximos previamente guardados que sumados dan el tamaño $m$ de la barra, estos se deben verificar iterando desde un $P[j]$ y un $L[j-i-1]$.\n",
        "\n",
        "Ambos casos son comparados para luego actualizar el ultimo valor $L[i]$. Gracias a estas comparaciones podemos determinar por inducción que siempre se generan los valores máximos para cada corte a partir de una tabla inicial. En conclusión, podemos decir que el algoritmo por acercamiento Bottom-Up es correcto para problemas de tamaño $n$ .\n",
        "\n",
        "\n"
      ],
      "metadata": {
        "id": "bMRQmL0MsfDi"
      }
    },
    {
      "cell_type": "markdown",
      "source": [
        "#5. Tiempo de ejecución \n",
        "\n",
        "---\n",
        "####Teorema: *el algoritmo por acercamiento Botton-Up tiene una complejidad de $O(n^2)$ para encontrar la ganancia máxima en $n$ cortes*\n",
        "\n",
        "La estructura interna del algoritmo BottonUp se puede representar mediante una sumatoria de la siguiente forma\n",
        "\n",
        "- $T(n) = \\displaystyle\\sum_{i = 1}^{n+1} \\displaystyle\\sum_{j = 0}^{i} j$\n",
        "\n",
        "Dado que tenemos anidación de ciclos y uno depende de otro para el calculo temporal, tenemos que se va a dar la siguiente iteración:\n",
        "\n",
        "* Para la primera iteración:\n",
        "\n",
        "      Problema abarcado en la segunda sumatoria va de 1 hasta n+1\n",
        "      0, 1\n",
        "\n",
        "* Para la segunda iteración:\n",
        "\n",
        "      Problema abarcado en la segunda sumatoria va de 2 hasta n+1\n",
        "      0, 1, 2\n",
        "\n",
        "* Para la tercera iteración:\n",
        "\n",
        "      Problema abarcado en la segunda sumatoria va de 3 hasta n+1\n",
        "      0, 1, 2, 3\n",
        "\n",
        "* Para la $n+1$ iteraciones:\n",
        "\n",
        "      Problema abarcado en la segunda sumatoria va de n+1 hasta n+1\n",
        "      0, 1, 2, 3,...(n-2) + (n-1) + (n) + (n+1)\n",
        "\n",
        "\n",
        "Sabiendo que la sumatoria posee esa forma se puede determinar que el tiempo de ejecución es $O(n^2)$ para los problemas de tamaño $n$.\n",
        "\n",
        "\n",
        "---\n",
        "###Definir los Sub-Problemas:\n",
        "\n",
        "Los sub-problemas totales a resolver se obtienen a traves del retorno máximo que hay en $r$<sub>$n-i$</sub> donde el valor $i$ va entre $[1...n]$.\n",
        "\n",
        "\n",
        "- $c_r = [1..n] = n$\n",
        "  \n",
        "- $c_r =$ cantidad de retornos a calcular. \n",
        "\n",
        "Para obtener la cantidad de retornos a calcular se debe tener en cuenta los sub-problemas que resuelven los sub-problemas, mejor dicho, el número de iteraciones que realiza **Botton-up** desde el problema más pequeño al más grande.\n",
        "\n",
        "Lo anterior se puede expresar mediante una sumatoria:\n",
        "\n",
        "- $c_s = \\displaystyle\\sum_{i = 1}^{n} $$r$<sub>$n-i$</sub>\n",
        "\n",
        " con $c_s =$ cantidad de sub-problemas y $r[0] = 0$.\n",
        "\n",
        "En el desarrollo de la sumatoria, se considera que el calculo es dependiente a $n$ (tamaño del problema) y con caso base cuando $n$ no puede formarse con otros cortes, \n",
        "\n",
        "- Si $c_s = $ $r$<sub>$n$</sub> entonces, $c_s = n$.\n",
        "\n",
        "- Por lo tanto: $c_s = \\displaystyle\\sum_{i = 1}^{n} $$r$<sub>$n-i$</sub> \n",
        " \n",
        " $ c_s = \\displaystyle\\sum_{i = 1}^{n} r_n + $($r$<sub>$n-1$</sub>) $+$ ($r$<sub>$n-2$</sub>) $+$ $...r_1 + r_0$ , con $r[0] = 0$\n",
        "\n",
        "- Es posible expresar una nueva sumatoria a partir de los retornos (sin contar el $r[0]$ pues no afecta en la suma final):\n",
        "\n",
        " $ c_s = \\displaystyle\\sum_{i = 1}^{n} $$c$<sub>$ri$</sub> , con $c$<sub>$ri$ siendo la cantidad de retornos en $r_i$.\n",
        "\n",
        "- A su vez, $c$<sub>$ri$</sub> puede expresarse según su resultado, el cual depende del largo de aquel sub-problema. Entonces, la sumatoria quedaría:\n",
        "\n",
        " $ c_s = \\displaystyle\\sum_{i = 1}^{n} $$c$<sub>$ri$</sub> , con $c$<sub>$ri$</sub> $= i$\n",
        "\n",
        " $ c_s = n + (n-1) + (n-2) + ... + 1$\n",
        "\n",
        " $c_s = n + \\frac{n(n-1)}{2}$\n",
        "\n",
        " $c_s = \\frac{n^2}{2} + \\frac{n}{2}$\n",
        "\n",
        "Por lo que en conclusión, la cantidad de sub-problemas a resolver se puede expresar en función al largo del arreglo (tamaño del problema) como: $\\frac{n^2}{2} + \\frac{n}{2}$.\n",
        "\n",
        "---\n",
        "\n",
        "##Memoria espacial ocupada por el algoritmo\n",
        "\n",
        "Para un problema de entrada $n$ con una tabla de precios de $n$ terminos se ocupa una estructura auxiliar, puesto que el problema se resuelve guardando los valores máximos en un arreglo auxiliar que va desde 0 hasta n+1, se podria decir que el algoritmo tiene una complejidad espacial de $O(n)$ para problemas de tamaño $n$. "
      ],
      "metadata": {
        "id": "wT3Z7YGSpxZA"
      }
    },
    {
      "cell_type": "markdown",
      "source": [
        "#6. Experimentos"
      ],
      "metadata": {
        "id": "FnUe9sKqHUNy"
      }
    },
    {
      "cell_type": "markdown",
      "source": [
        "En el siguiente apartado se realizaran experimentos para ver visualmente el tiempo de ejecución de cada algoritmo.\n",
        "\n",
        "---"
      ],
      "metadata": {
        "id": "Ew7cj-b-PGuo"
      }
    },
    {
      "cell_type": "markdown",
      "source": [
        "---\n",
        "\n",
        "###Experimento 1\n",
        "\n",
        "En este experimento se busca hacer una comparación entre el algoritmo recursivo y el algoritmo por acercamiento BottomUp, para resolver el problema de corte de varillas.\n",
        "\n",
        "$Hipótesis:$ *El algoritmo por acercamiento BottomUp es más rápido que la forma recursiva.*\n",
        "\n",
        "Se deben tener las siguientes consideraciones:\n",
        "\n",
        "* Debido a que el algoritmo recursivo tiene un tiempo de ejecución exponencial no es muy recomendable trabajar con números muy grandes, por lo que, el intervalo para este primer experimento será para problemas de tamaño $[5...20]$\n",
        "\n",
        "* Debido al punto anterior, claramente no se podrá ver el tiempo de ejecución del BottomUp de forma normal, puesto que son valores muy pequeños, entonces debería verse una recta paralela al eje $x$ en este punto.\n",
        "\n",
        "\n",
        "---"
      ],
      "metadata": {
        "id": "7ONW0fmaPUUO"
      }
    },
    {
      "cell_type": "code",
      "source": [
        "import datetime\n",
        "from timeit import repeat\n",
        "import matplotlib.pyplot as plt"
      ],
      "metadata": {
        "id": "xeNJNBEEjv2Z"
      },
      "execution_count": 10,
      "outputs": []
    },
    {
      "cell_type": "code",
      "source": [
        "x=[]; y=[]; y1=[]\n",
        "\n",
        "for n in range(5,20):\n",
        "\n",
        "  c = cutrod_instance_generator(n)\n",
        "  d = cutrod_instance_generator(n)\n",
        "\n",
        "  #la función repeat está ejecutando 10 veces ambas funciones .\n",
        "  if n < 20:\n",
        "    t =repeat(setup=\"from __main__ import RecursiveCut\", stmt=f\"RecursiveCut({c},{n})\", repeat=1, number=10)\n",
        "  t1 = repeat(setup=\"from __main__ import BottomUp\", stmt=f\"BottomUp({d},{n})\", repeat=1, number=10)\n",
        "  \n",
        "\n",
        "  x.append(n)\n",
        "  y.append(t)\n",
        "  y1.append(t1)\n",
        "\n",
        "\n",
        "plt.plot(x,y)\n",
        "plt.plot(x,y1)\n",
        "plt.legend([\"Cortes recursivos\",\"BottomUp\"])\n",
        "\n",
        "plt.xlabel('n')\n",
        "plt.ylabel('time in ms')\n",
        "plt.show()"
      ],
      "metadata": {
        "colab": {
          "base_uri": "https://localhost:8080/",
          "height": 279
        },
        "id": "c20yQW0zo_4f",
        "outputId": "e9991721-8d85-42e0-d690-cdd08ce17b54"
      },
      "execution_count": 11,
      "outputs": [
        {
          "output_type": "display_data",
          "data": {
            "text/plain": [
              "<Figure size 432x288 with 1 Axes>"
            ],
            "image/png": "[encoded data removed]"
          },
          "metadata": {
            "needs_background": "light"
          }
        }
      ]
    },
    {
      "cell_type": "markdown",
      "source": [
        "---\n",
        "\n",
        "###Análisis de resultados\n",
        "\n",
        "Como podemos ver, en valores ya cercanos a un $n$ 18 el algoritmo que trabaja con recursión muestra su tiempo exponencial, dando a entender que si trabajamos con muchos valores la cantidad de tiempo necesario para resolver los cortes se vuelve muy alta. Como se había planteado en la hipótesis, para el algoritmo por acercamiento BottomUp da un tiempo cercano al lineal, debido a que son valores muy pequeños.\n",
        "\n",
        "\n",
        "---"
      ],
      "metadata": {
        "id": "Hq7cCRK4Qb0L"
      }
    },
    {
      "cell_type": "markdown",
      "source": [
        "###Experimento 2\n",
        "\n",
        "En el siguiente experimento se busca mostrar el tiempo de ejecución del algoritmo por acercamiento BottomUp, debido a que en el anterior experimento no se pudo ver como trabaja para valores $n$ mayores a 20.\n",
        "\n",
        "$Hipótesis$: *Al trabajar con valores mayores, el algoritmo BottomUp mostrará un crecimiento cuadratico al momento que trabaje problemas de tamaño $n$ muy grandes.*"
      ],
      "metadata": {
        "id": "45hVSLryRqHn"
      }
    },
    {
      "cell_type": "markdown",
      "source": [
        "Para el primer gráfico, se hace trabaja con problemas de tamaño $n$ que van desde $[5...500]$."
      ],
      "metadata": {
        "id": "00jmXblZWF47"
      }
    },
    {
      "cell_type": "code",
      "source": [
        "x=[]; y1=[]\n",
        "\n",
        "for n in range(5,500):\n",
        "  d = cutrod_instance_generator(n)\n",
        "\n",
        "  #la función repeat está ejecutando 10 veces \n",
        "  t1 = repeat(setup=\"from __main__ import BottomUp\", stmt=f\"BottomUp({d},{n})\", repeat=1, number=10)\n",
        "  \n",
        "\n",
        "  x.append(n)\n",
        "  y1.append(t1)\n",
        "\n",
        "\n",
        "plt.plot(x,y1)\n",
        "plt.legend([\"BottomUp\"])\n",
        "\n",
        "plt.xlabel('n')\n",
        "plt.ylabel('time in ms')\n",
        "plt.show()"
      ],
      "metadata": {
        "colab": {
          "base_uri": "https://localhost:8080/",
          "height": 279
        },
        "id": "Nry08UU0KM5G",
        "outputId": "24e11edd-f0dc-4375-e55e-0913146b5fb2"
      },
      "execution_count": 12,
      "outputs": [
        {
          "output_type": "display_data",
          "data": {
            "text/plain": [
              "<Figure size 432x288 with 1 Axes>"
            ],
            "image/png": "[encoded data removed]"
          },
          "metadata": {
            "needs_background": "light"
          }
        }
      ]
    },
    {
      "cell_type": "markdown",
      "source": [
        "---\n",
        "\n",
        "###Análisis de resultados 1\n",
        "\n",
        "La interpretación gráfica de la hipótesis propuesta resulto ser cierta, podemos apreciar que para problemas $n$ muy grandes el algoritmo demuestra un tiempo cuadrático bastante limpio (Con un solo pico) al momento de traspasar los valores a la tabla. Esto nos sirve para demostrar el cálculo propuesto en el tiempo de ejecución del algoritmo, dando a entender que efectivamente el tiempo de ejecución es $O(n^2)$.\n",
        "\n",
        "\n",
        "---"
      ],
      "metadata": {
        "id": "4p5RvIaqWX7b"
      }
    },
    {
      "cell_type": "markdown",
      "source": [
        "---\n",
        "\n",
        "El siguiente gráfico no es un experimento aparte, solo se busca ver una demostración visual y observar si hay diferencias en el tiempo de ejecución para problemas $n$ mayores a 500 ([5...1000])\n",
        "\n",
        "---"
      ],
      "metadata": {
        "id": "-CJHkqQGXmCK"
      }
    },
    {
      "cell_type": "code",
      "source": [
        "x=[]; y1=[]\n",
        "\n",
        "for n in range(5,1000):\n",
        "  d = cutrod_instance_generator(n)\n",
        "\n",
        "  #la función repeat está ejecutando 10 veces \n",
        "  t1 = repeat(setup=\"from __main__ import BottomUp\", stmt=f\"BottomUp({d},{n})\", repeat=1, number=10)\n",
        "  \n",
        "\n",
        "  x.append(n)\n",
        "  y1.append(t1)\n",
        "\n",
        "\n",
        "plt.plot(x,y1)\n",
        "plt.legend([\"BottomUp\"])\n",
        "\n",
        "plt.xlabel('n')\n",
        "plt.ylabel('time in ms')\n",
        "plt.show()"
      ],
      "metadata": {
        "colab": {
          "base_uri": "https://localhost:8080/",
          "height": 279
        },
        "id": "4H6xN1XEK7ou",
        "outputId": "f9bcffbf-4b98-449d-932e-65f1c00fe377"
      },
      "execution_count": 13,
      "outputs": [
        {
          "output_type": "display_data",
          "data": {
            "text/plain": [
              "<Figure size 432x288 with 1 Axes>"
            ],
            "image/png": "[encoded data removed]"
          },
          "metadata": {
            "needs_background": "light"
          }
        }
      ]
    },
    {
      "cell_type": "markdown",
      "source": [
        "---\n",
        "\n",
        "###Análisis de resultados 2\n",
        "\n",
        "Para este segundo gráfico, a diferencia del primero, podemos ver una representación que posee algunos picos, entre valores mayores a 500 aproximadamente, esto puede ocurrir por temas de procesador. Se realizaron varias pruebas para descartar la posibilidad de ser problemas en rendimiento del ordenador, pero todos demostraron tener algunos picos.\n",
        "\n",
        "Con respecto a la interpretación gráfica, podemos decir que si está presente el tiempo de ejecución cuadratico, demostrando que el algoritmo si posee un tiempo de $O(n^2)$.\n",
        "\n",
        "---"
      ],
      "metadata": {
        "id": "1q0QYvKtYEOW"
      }
    },
    {
      "cell_type": "code",
      "source": [
        "x=[n for n in range(5,50)] \n",
        "y1=[n*(n)/2 + n/2 for n in range(5,50)] # worst case\n",
        "y=[]; \n",
        "\n",
        "## experimental case\n",
        "for n in range(5,50):\n",
        "  a = cutrod_instance_generator(n)\n",
        "  a,counter = BottomUp(a,len(a),False)\n",
        "  y.append(counter)\n",
        "\n",
        "##Gráfica\n",
        "plt.plot(x,y)\n",
        "plt.plot(x,y1)\n",
        "plt.legend([\"Bottomup\", \"theoretical worst case\"])\n",
        "\n",
        "plt.xlabel('n elements')\n",
        "plt.ylabel('number of operations')\n",
        "plt.show()"
      ],
      "metadata": {
        "colab": {
          "base_uri": "https://localhost:8080/",
          "height": 279
        },
        "id": "18FdQNGJ4o_s",
        "outputId": "49ddb444-74fe-4a86-a116-fc5de05f3af1"
      },
      "execution_count": 23,
      "outputs": [
        {
          "output_type": "display_data",
          "data": {
            "text/plain": [
              "<Figure size 432x288 with 1 Axes>"
            ],
            "image/png": "[encoded data removed]"
          },
          "metadata": {
            "needs_background": "light"
          }
        }
      ]
    },
    {
      "cell_type": "markdown",
      "source": [
        "---\n",
        "\n",
        "###Análisis de resultados\n",
        "\n",
        "En este experimento se busco comparar el número de comparaciones que realizá con la formula de sub-problemas que resuelve, como se puede ver ambas se sobreponen, por tanto, significa que nuestro calculo en la definición de sub-problemas fueron correctos.\n",
        "\n",
        "---"
      ],
      "metadata": {
        "id": "zH3rruXk5emt"
      }
    }
  ]
}