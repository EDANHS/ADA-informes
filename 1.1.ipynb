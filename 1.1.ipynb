{
  "nbformat": 4,
  "nbformat_minor": 0,
  "metadata": {
    "colab": {
      "name": "Untitled0.ipynb",
      "provenance": [],
      "collapsed_sections": [],
      "authorship_tag": "ABX9TyMWnBESGDt2yF7Iu6gyYUwM",
      "include_colab_link": true
    },
    "kernelspec": {
      "name": "python3",
      "display_name": "Python 3"
    },
    "language_info": {
      "name": "python"
    }
  },
  "cells": [
    {
      "cell_type": "markdown",
      "metadata": {
        "id": "view-in-github",
        "colab_type": "text"
      },
      "source": [
        "<a href=\"https://colab.research.google.com/github/EDANHS/ADA-informes/blob/main/1.1.ipynb\" target=\"_parent\"><img src=\"https://colab.research.google.com/assets/colab-badge.svg\" alt=\"Open In Colab\"/></a>"
      ]
    },
    {
      "cell_type": "markdown",
      "source": [
        "# **1. Problema de ordenamiento**\n",
        "\n",
        "\n",
        "**Entrada**: Secuencia de 'n' elementos en una lista $<a_1,a_2,…a_n>$ \n",
        "\n",
        "**Salida**: Permutacion ordenada de la lista $<a_1',a_2',…a_n'>$ tal que $[a_1'\\leq a_2' \\leq… \\leq a_n']$\n",
        "\n",
        "![image](https://i.ytimg.com/vi/5drdwIqRKBs/maxresdefault.jpg)\n",
        "\n",
        "Los algoritmos de ordenamiento son importantes para tener datos organizados según corresponda, muchos de ellos tienen diferentes niveles de dificultad en su implementación, en esta ocasión se presentará el InsertionSort."
      ],
      "metadata": {
        "id": "Rvu8aOEL6O12"
      }
    },
    {
      "cell_type": "markdown",
      "source": [
        "# **2. Insertion Sort**\n"
      ],
      "metadata": {
        "id": "7sK8v3GYHW5L"
      }
    },
    {
      "cell_type": "markdown",
      "source": [
        "Descripción:\n",
        "\n",
        "El algoritmo recibe una lista de 'n' números, estos se conmutarán y de salida se obtendra una lista ordenada.\n",
        "\n",
        "Los pasos que realiza el insertionsort son los siguientes:\n",
        "\n",
        "1. Se necesita guardar una varible auxiliar para el elemento en la posicion 'i', mientras se itera en un bucle superior 'n - 1' veces, esto debido a que parte en la segunda posición.\n",
        "2. Dentro de otro bucle se recorre el subarreglo desde [i...0], aqui se produciran los intercambios donde a[ j+1] pasa a ser  a[ j ], mientras el número actual (a[ j ]) sea mayor a la variable auxiliar guardada y la variable j sea mayor a \"0\".\n",
        "3. Una vez finalizado el ciclo anterior por alguna de las dos condiciones, la casilla a[ j+1] pasa a ser el número auxiliar.\n",
        "4. El ciclo mayor se repite hasta llegar a los \"n\" elementos, finalmente retorna la lista ordenada y un contador."
      ],
      "metadata": {
        "id": "8vFB3LrlIdio"
      }
    },
    {
      "cell_type": "code",
      "source": [
        "from termcolor import colored"
      ],
      "metadata": {
        "id": "YlDnGMLjShX4"
      },
      "execution_count": null,
      "outputs": []
    },
    {
      "cell_type": "code",
      "source": [
        "def imprimir(a,j,n,s,z):\n",
        "  print(s,\": [\",end=\" \")\n",
        "  for k in range(n):\n",
        "    if k == j or k == j+1 : print(colored(a[k],z),end=\" \")\n",
        "    else : print(a[k],end=\" \")\n",
        "  print(\"]\\n\")\n",
        "\n",
        "def InsertionSort(a,verbose=False):\n",
        "    n = len(a)\n",
        "    count = 0\n",
        "    if verbose == True : print(\"Input lista: \",a)\n",
        "    for i in range(1,n):\n",
        "      aux = a[i]\n",
        "      j = i-1\n",
        "      while j>-1 and a[j]>aux:\n",
        "        a[j+1] = a[j]\n",
        "        if verbose == True: imprimir(a,j,n,\"Intercambio\",\"red\")\n",
        "        j-=1\n",
        "        count+=1\n",
        "        \n",
        "      a[j+1] = aux\n",
        "      if verbose == True: imprimir(a,j,n,\"Recorrido finalizado\",\"blue\")\n",
        "    if verbose == True : print(\"Output lista: \",a)\n",
        "    return a, count\n",
        "\n",
        "#ejemplo\n",
        "a = [8,5,3,9,1]\n",
        "print(\"Entrada: \",a)\n",
        "a,count = InsertionSort(a,False)\n",
        "print(\"Salida: \",a)\n",
        "print(\"Contador:\", count)\n"
      ],
      "metadata": {
        "colab": {
          "base_uri": "https://localhost:8080/"
        },
        "id": "8qlXERgmHpWp",
        "outputId": "38439aba-6f23-4044-9837-82850601fc38"
      },
      "execution_count": null,
      "outputs": [
        {
          "output_type": "stream",
          "name": "stdout",
          "text": [
            "Entrada:  [8, 5, 3, 9, 1]\n",
            "Salida:  [1, 3, 5, 8, 9]\n",
            "Contador: 7\n"
          ]
        }
      ]
    },
    {
      "cell_type": "markdown",
      "source": [
        "**Ventajas:**\n",
        "1. Su implementación es sencilla.\n",
        "2. Ocupa poca memoria.\n",
        "\n",
        "**Desventajas:**\n",
        "1. Realiza muchas comparaciones.\n",
        "2. Recorre muchas veces la lista."
      ],
      "metadata": {
        "id": "00AoGtqxgXMZ"
      }
    },
    {
      "cell_type": "markdown",
      "source": [
        "https://es.slideshare.net/M1k3Z/insertion-sort-55547752"
      ],
      "metadata": {
        "id": "Un6yKtV2g_F7"
      }
    }
  ]
}